{
 "cells": [
  {
   "cell_type": "code",
   "execution_count": 11,
   "metadata": {},
   "outputs": [],
   "source": [
    "import random\n",
    "import io\n",
    "import csv\n",
    "\n",
    "from clkhash.field_formats import *\n",
    "from clkhash.schema import Schema\n",
    "from clkhash.comparators import NgramComparison, ExactComparison, NumericComparison\n",
    "from clkhash.clk import generate_clk_from_csv"
   ]
  },
  {
   "cell_type": "markdown",
   "metadata": {},
   "source": [
    "## Exact Comparison\n",
    "\n",
    "The exact comparison technique creates high similarity scores if inputs are identical, and low otherwise. This can be useful when comparing data like credit card numbers or email addresses. It is a good choise whenever data is either an exact match or has no similarity at all. \n",
    "The main advantage of the *Exact Comparison* technique is that it better separates the similarity scores of the matches from the non-matches (but cannot acount for errors).\n",
    "\n",
    "We will show this with the following experiment. First, we create a dataset consisting of random 6-digit numbers. Then compare the dataset with itself once encoded with the *Exact Comparison*, and twice encoded with the *Ngram Comparison* (uni- and bi-grams) technique."
   ]
  },
  {
   "cell_type": "code",
   "execution_count": 81,
   "metadata": {},
   "outputs": [],
   "source": [
    "data = [[i, random.randrange(1000000)] for i in range(5000)]\n",
    "a_csv = io.StringIO()\n",
    "csv.writer(a_csv).writerows(data_A)"
   ]
  },
  {
   "cell_type": "markdown",
   "metadata": {},
   "source": [
    "We define three different schemas, one for each comparison technique."
   ]
  },
  {
   "cell_type": "code",
   "execution_count": 82,
   "metadata": {},
   "outputs": [],
   "source": [
    "fields = [\n",
    "    Ignore('rec_id'),\n",
    "    IntegerSpec('random', FieldHashingProperties(comparator=NgramComparison(1, True), strategy=BitsPerFeatureStrategy(300))),\n",
    "]\n",
    "unigram_schema = Schema(fields, 512)\n",
    "\n",
    "\n",
    "fields = [\n",
    "    Ignore('rec_id'),\n",
    "    IntegerSpec('random', FieldHashingProperties(comparator=NgramComparison(2, True), strategy=BitsPerFeatureStrategy(300))),\n",
    "]\n",
    "bigram_schema = Schema(fields, 512)\n",
    "\n",
    "\n",
    "fields = [\n",
    "    Ignore('rec_id'),\n",
    "    IntegerSpec('random', FieldHashingProperties(comparator=ExactComparison(), strategy=BitsPerFeatureStrategy(300))),\n",
    "]\n",
    "\n",
    "exact_schema = Schema(fields, 512)\n",
    "\n",
    "\n",
    "secret_key = 'password1234'"
   ]
  },
  {
   "cell_type": "code",
   "execution_count": 83,
   "metadata": {},
   "outputs": [],
   "source": [
    "from bitarray import bitarray\n",
    "import base64\n",
    "import anonlink\n",
    "\n",
    "def deserialize_bitarray(bytes_data):\n",
    "    ba = bitarray(endian='big')\n",
    "    data_as_bytes = base64.decodebytes(bytes_data.encode())\n",
    "    ba.frombytes(data_as_bytes)\n",
    "    return ba\n",
    "\n",
    "def deserialize_filters(filters):\n",
    "    res = []\n",
    "    for i, f in enumerate(filters):\n",
    "        ba = deserialize_bitarray(f)\n",
    "        res.append(ba)\n",
    "    return res\n",
    "\n",
    "def sim_scores_from_clks(clks_a, clks_b, threshold):\n",
    "    results_candidate_pairs = anonlink.candidate_generation.find_candidate_pairs(\n",
    "            [clks_a, clks_b],\n",
    "            anonlink.similarities.dice_coefficient,\n",
    "            threshold\n",
    "    )\n",
    "    return results_candidate_pairs[0]"
   ]
  },
  {
   "cell_type": "markdown",
   "metadata": {},
   "source": [
    "generate the CLKs according to the three different schemas."
   ]
  },
  {
   "cell_type": "code",
   "execution_count": 84,
   "metadata": {},
   "outputs": [
    {
     "name": "stderr",
     "output_type": "stream",
     "text": [
      "generating CLKs: 100%|██████████| 5.00k/5.00k [00:00<00:00, 13.1kclk/s, mean=229, std=5.88]\n",
      "generating CLKs: 100%|██████████| 5.00k/5.00k [00:00<00:00, 13.1kclk/s, mean=228, std=5.87]\n",
      "generating CLKs: 100%|██████████| 5.00k/5.00k [00:00<00:00, 15.0kclk/s, mean=227, std=5.75]\n"
     ]
    }
   ],
   "source": [
    "a_csv.seek(0)\n",
    "hashed_data_a = generate_clk_from_csv(a_csv, secret_key, unigram_schema, header=False)\n",
    "clks_a_unigram = deserialize_filters(hashed_data_a)\n",
    "a_csv.seek(0)\n",
    "hashed_data_a = generate_clk_from_csv(a_csv, secret_key, bigram_schema, header=False)\n",
    "clks_a_bigram = deserialize_filters(hashed_data_a)\n",
    "a_csv.seek(0)\n",
    "hashed_data_a = generate_clk_from_csv(a_csv, secret_key, exact_schema, header=False)\n",
    "clks_a_exact = deserialize_filters(hashed_data_a)"
   ]
  },
  {
   "cell_type": "markdown",
   "metadata": {},
   "source": [
    "We do an exhaustive pairwise comparison for the CLKs and keep the similarities above 0.5."
   ]
  },
  {
   "cell_type": "code",
   "execution_count": 85,
   "metadata": {},
   "outputs": [],
   "source": [
    "sim_scores_unigram = sim_scores_from_clks(clks_a_unigram, clks_a_unigram, 0.5)\n",
    "sim_scores_bigram = sim_scores_from_clks(clks_a_bigram, clks_a_bigram, 0.5)\n",
    "sim_scores_exact = sim_scores_from_clks(clks_a_exact, clks_a_exact, 0.5)"
   ]
  },
  {
   "cell_type": "markdown",
   "metadata": {},
   "source": [
    "We will plot the similarity scores as histograms. Note that the y-axis is in log scale."
   ]
  },
  {
   "cell_type": "code",
   "execution_count": 92,
   "metadata": {},
   "outputs": [
    {
     "data": {
      "image/png": "[encoded data removed]",
      "text/plain": [
       "<Figure size 432x288 with 1 Axes>"
      ]
     },
     "metadata": {
      "needs_background": "light"
     },
     "output_type": "display_data"
    },
    {
     "data": {
      "image/png": "[encoded data removed]",
      "text/plain": [
       "<Figure size 432x288 with 1 Axes>"
      ]
     },
     "metadata": {
      "needs_background": "light"
     },
     "output_type": "display_data"
    },
    {
     "data": {
      "image/png": "[encoded data removed]",
      "text/plain": [
       "<Figure size 432x288 with 1 Axes>"
      ]
     },
     "metadata": {
      "needs_background": "light"
     },
     "output_type": "display_data"
    }
   ],
   "source": [
    "import matplotlib.pyplot as plt\n",
    "plt.hist(sim_scores_unigram, bins=200);\n",
    "plt.yscale('log', nonposy='clip')\n",
    "plt.xlabel('similarity score')\n",
    "plt.title('uni-gram comparison')\n",
    "plt.show()\n",
    "plt.hist(sim_scores_bigram, bins=200);\n",
    "plt.yscale('log', nonposy='clip')\n",
    "plt.xlabel('similarity score')\n",
    "plt.title('bi-gram comparison')\n",
    "plt.show()\n",
    "plt.hist(sim_scores_exact, bins=200);\n",
    "plt.yscale('log', nonposy='clip')\n",
    "plt.xlabel('similarity score')\n",
    "plt.title('exact comparison')\n",
    "plt.show()"
   ]
  },
  {
   "cell_type": "markdown",
   "metadata": {},
   "source": [
    "The true matches all lie on the vertical line above the 1.0. We can see that the *Exact Comparison* technique significantly widens the gap between matches and non-matches. The better the separation between matches and non-matches, the easier it will be for the solver to find the correct linkage."
   ]
  },
  {
   "cell_type": "markdown",
   "metadata": {},
   "source": [
    "### Numeric Comparison\n",
    "This technique enables numerical comparisons of integers or floating point numbers.\n",
    "\n",
    "Comparing numbers creates an interesting challenge. The pairs (1000, 1001) and (1000, 999) are equally similiar. String-based techniques like n-gram comparison will produce unexpected results, as the first pair has three digits in common, compared to none in the last pair. \n",
    "\n",
    "We have implemented a technique, where the numerical distance between two numbers relate to the similarity of the tokens produces.\n",
    "\n",
    "We generate a dataset with one column of random 7-digit integers, and a second dataset where we alter the integers of the first dataset by +/- 50. "
   ]
  },
  {
   "cell_type": "code",
   "execution_count": 116,
   "metadata": {},
   "outputs": [],
   "source": [
    "data_A = [[i, random.randrange(10000000)] for i in range(5000)]\n",
    "data_B = [[i, x + random.randint(-50,50)] for i,x in data_A]"
   ]
  },
  {
   "cell_type": "code",
   "execution_count": 117,
   "metadata": {},
   "outputs": [],
   "source": [
    "a_csv = io.StringIO()\n",
    "b_csv = io.StringIO()\n",
    "csv.writer(a_csv).writerows(data_A)\n",
    "csv.writer(b_csv).writerows(data_B)"
   ]
  },
  {
   "cell_type": "markdown",
   "metadata": {},
   "source": [
    "We define two linkage schemas, one for postitional uni-gram comparison and one for numeric comparison."
   ]
  },
  {
   "cell_type": "code",
   "execution_count": 208,
   "metadata": {},
   "outputs": [],
   "source": [
    "fields = [\n",
    "    Ignore('rec_id'),\n",
    "    IntegerSpec('random', \n",
    "                FieldHashingProperties(comparator=NgramComparison(1, True), \n",
    "                                       strategy=BitsPerFeatureStrategy(301))),\n",
    "]\n",
    "unigram_schema = Schema(fields, 512)\n",
    "\n",
    "fields = [\n",
    "    Ignore('rec_id'),\n",
    "    IntegerSpec('random', \n",
    "                FieldHashingProperties(comparator=NumericComparison(threshold_distance=100, resolution=150),\n",
    "                                       strategy=BitsPerFeatureStrategy(301))),\n",
    "]\n",
    "numeric_schema = Schema(fields, 512)\n",
    "\n",
    "secret_key = 'password1234'"
   ]
  },
  {
   "cell_type": "code",
   "execution_count": 200,
   "metadata": {},
   "outputs": [
    {
     "name": "stderr",
     "output_type": "stream",
     "text": [
      "generating CLKs: 100%|██████████| 5.00k/5.00k [00:00<00:00, 12.0kclk/s, mean=229, std=5.97]\n",
      "generating CLKs: 100%|██████████| 5.00k/5.00k [00:00<00:00, 12.1kclk/s, mean=229, std=5.93]\n",
      "generating CLKs: 100%|██████████| 5.00k/5.00k [00:02<00:00, 1.35kclk/s, mean=228, std=5.94]\n",
      "generating CLKs: 100%|██████████| 5.00k/5.00k [00:02<00:00, 1.51kclk/s, mean=228, std=5.87]\n"
     ]
    }
   ],
   "source": [
    "a_csv.seek(0)\n",
    "hashed_data_a = generate_clk_from_csv(a_csv, secret_key, unigram_schema, header=False)\n",
    "clks_a_unigram = deserialize_filters(hashed_data_a)\n",
    "b_csv.seek(0)\n",
    "hashed_data_b = generate_clk_from_csv(b_csv, secret_key, unigram_schema, header=False)\n",
    "clks_b_unigram = deserialize_filters(hashed_data_b)\n",
    "a_csv.seek(0)\n",
    "hashed_data_a = generate_clk_from_csv(a_csv, secret_key, numeric_schema, header=False)\n",
    "clks_a_numeric = deserialize_filters(hashed_data_a)\n",
    "b_csv.seek(0)\n",
    "hashed_data_b = generate_clk_from_csv(b_csv, secret_key, numeric_schema, header=False)\n",
    "clks_b_numeric = deserialize_filters(hashed_data_b)"
   ]
  },
  {
   "cell_type": "markdown",
   "metadata": {},
   "source": [
    "First, we will look at the similarity score distributions."
   ]
  },
  {
   "cell_type": "code",
   "execution_count": 201,
   "metadata": {},
   "outputs": [],
   "source": [
    "sim_scores_unigram = sim_scores_from_clks(clks_a_unigram, clks_b_unigram, 0.5)\n",
    "sim_scores_numeric = sim_scores_from_clks(clks_a_numeric, clks_b_numeric, 0.5)"
   ]
  },
  {
   "cell_type": "code",
   "execution_count": 202,
   "metadata": {},
   "outputs": [
    {
     "data": {
      "image/png": "[encoded data removed]",
      "text/plain": [
       "<Figure size 432x288 with 1 Axes>"
      ]
     },
     "metadata": {
      "needs_background": "light"
     },
     "output_type": "display_data"
    },
    {
     "data": {
      "image/png": "[encoded data removed]",
      "text/plain": [
       "<Figure size 432x288 with 1 Axes>"
      ]
     },
     "metadata": {
      "needs_background": "light"
     },
     "output_type": "display_data"
    }
   ],
   "source": [
    "import matplotlib.pyplot as plt\n",
    "plt.hist(sim_scores_unigram, bins=200);\n",
    "plt.yscale('log', nonposy='clip')\n",
    "plt.xlabel('similarity score')\n",
    "plt.title('uni-gram comparison')\n",
    "plt.show()\n",
    "plt.hist(sim_scores_numeric, bins=200);\n",
    "plt.yscale('log', nonposy='clip')\n",
    "plt.xlabel('similarity score')\n",
    "plt.title('numeric comparison')\n",
    "plt.show()\n"
   ]
  },
  {
   "cell_type": "markdown",
   "metadata": {},
   "source": [
    "The distribution for the numeric comparison is very different to the uni-gram one. We can see a plateau between 0.7 and 1.0. These are mainly the scores for the true matches. And as we "
   ]
  },
  {
   "cell_type": "code",
   "execution_count": 130,
   "metadata": {},
   "outputs": [],
   "source": [
    "def mapping_from_clks(clks_a, clks_b, threshold):\n",
    "    results_candidate_pairs = anonlink.candidate_generation.find_candidate_pairs(\n",
    "            [clks_a, clks_b],\n",
    "            anonlink.similarities.dice_coefficient,\n",
    "            threshold\n",
    "    )\n",
    "    solution = anonlink.solving.greedy_solve(results_candidate_pairs)\n",
    "    print('Found {} matches'.format(len(solution)))\n",
    "    return {a:b for ((_, a),(_, b)) in solution}"
   ]
  },
  {
   "cell_type": "code",
   "execution_count": 131,
   "metadata": {},
   "outputs": [],
   "source": [
    "a_csv.seek(0)\n",
    "b_csv.seek(0)\n",
    "a_raw = a_csv.readlines()\n",
    "b_raw = b_csv.readlines()\n",
    "\n",
    "num_entities = len(b_raw) - 1\n",
    "  \n",
    "def describe_matching_quality(mapping):\n",
    " \n",
    "    TP = 0; FP = 0; TN = 0; FN = 0\n",
    "    for a_i in range(num_entities):\n",
    "        if a_i in mapping:\n",
    "            if a_raw[a_i].split(',')[0] == b_raw[mapping[a_i]].split(',')[0]:\n",
    "                TP += 1\n",
    "            else:\n",
    "                FP += 1\n",
    "                # as we only report one mapping for each element in PII_a, \n",
    "                # then a wrong mapping is not only a false positive, but \n",
    "                # also a false negative, as we won't report the true mapping.\n",
    "                FN += 1 \n",
    "        else:\n",
    "            FN += 1 # every element in PII_a has a partner in PII_b\n",
    "\n",
    "    print()\n",
    "    print(\"We've got {} true positives, {} false positives, and {} false negatives.\".format(TP, FP, FN))\n",
    "    print('Precision: {:.3f}, Recall: {:.3f}, Accuracy: {:.3f}'.format(\n",
    "        TP/(TP+FP), \n",
    "        TP/(TP+FN), \n",
    "        (TP+TN)/(TP+TN+FP+FN)))"
   ]
  },
  {
   "cell_type": "code",
   "execution_count": 203,
   "metadata": {},
   "outputs": [
    {
     "name": "stdout",
     "output_type": "stream",
     "text": [
      "Found 4615 matches\n"
     ]
    }
   ],
   "source": [
    "numeric_mapping = mapping_from_clks(clks_a_numeric, clks_b_numeric, 0.7)"
   ]
  },
  {
   "cell_type": "code",
   "execution_count": 204,
   "metadata": {},
   "outputs": [
    {
     "name": "stdout",
     "output_type": "stream",
     "text": [
      "idx_a, idx_b,     rec_id_a,       rec_id_b\n",
      "---------------------------------------------\n",
      "  0,      0,               0,               0\n",
      "  1,      1,               1,               1\n",
      "  2,      2,               2,               2\n",
      "  5,      5,               5,               5\n",
      "  6,      6,               6,               6\n",
      "  7,      7,               7,               7\n",
      "  8,      8,               8,               8\n",
      "  9,      9,               9,               9\n",
      "---------------------------------------------\n",
      "\n",
      "We've got 4509 true positives, 99 false positives, and 490 false negatives.\n",
      "Precision: 0.979, Recall: 0.902, Accuracy: 0.884\n"
     ]
    }
   ],
   "source": [
    "describe_accuracy(numeric_mapping, show_examples=True)"
   ]
  },
  {
   "cell_type": "code",
   "execution_count": 205,
   "metadata": {},
   "outputs": [
    {
     "name": "stdout",
     "output_type": "stream",
     "text": [
      "Found 4705 matches\n"
     ]
    }
   ],
   "source": [
    "ngram_mapping = mapping_from_clks(clks_a_unigram, clks_b_unigram, 0.7)"
   ]
  },
  {
   "cell_type": "code",
   "execution_count": 206,
   "metadata": {},
   "outputs": [
    {
     "name": "stdout",
     "output_type": "stream",
     "text": [
      "idx_a, idx_b,     rec_id_a,       rec_id_b\n",
      "---------------------------------------------\n",
      "  0,   1599,               0,            1599\n",
      "  1,      1,               1,               1\n",
      "  2,      2,               2,               2\n",
      "  3,      3,               3,               3\n",
      "  4,      4,               4,               4\n",
      "  6,      6,               6,               6\n",
      "  7,      7,               7,               7\n",
      "  8,      8,               8,               8\n",
      "  9,   4255,               9,            4255\n",
      "---------------------------------------------\n",
      "\n",
      "We've got 2833 true positives, 1736 false positives, and 2166 false negatives.\n",
      "Precision: 0.620, Recall: 0.567, Accuracy: 0.421\n"
     ]
    }
   ],
   "source": [
    "describe_accuracy(ngram_mapping, show_examples=True)"
   ]
  },
  {
   "cell_type": "code",
   "execution_count": 207,
   "metadata": {},
   "outputs": [
    {
     "data": {
      "text/plain": [
       "(array([62., 41., 48., 47., 48., 38., 54., 48., 52., 40., 47., 48., 53.,\n",
       "        58., 55., 44., 47., 49., 46., 53., 67., 46., 49., 38., 43., 37.,\n",
       "        55., 59., 48., 50., 51., 43., 43., 52., 66., 66., 39., 66., 45.,\n",
       "        46., 45., 65., 65., 55., 48., 46., 43., 55., 72., 51., 54., 48.,\n",
       "        38., 48., 36., 57., 61., 62., 48., 44., 52., 53., 51., 47., 47.,\n",
       "        52., 46., 52., 53., 46., 54., 38., 51., 50., 43., 40., 47., 48.,\n",
       "        44., 60., 38., 45., 47., 53., 51., 60., 50., 50., 60., 55., 49.,\n",
       "        45., 56., 43., 40., 59., 58., 44., 47., 48.]),\n",
       " array([1.47200000e+03, 1.01426640e+05, 2.01381280e+05, 3.01335920e+05,\n",
       "        4.01290560e+05, 5.01245200e+05, 6.01199840e+05, 7.01154480e+05,\n",
       "        8.01109120e+05, 9.01063760e+05, 1.00101840e+06, 1.10097304e+06,\n",
       "        1.20092768e+06, 1.30088232e+06, 1.40083696e+06, 1.50079160e+06,\n",
       "        1.60074624e+06, 1.70070088e+06, 1.80065552e+06, 1.90061016e+06,\n",
       "        2.00056480e+06, 2.10051944e+06, 2.20047408e+06, 2.30042872e+06,\n",
       "        2.40038336e+06, 2.50033800e+06, 2.60029264e+06, 2.70024728e+06,\n",
       "        2.80020192e+06, 2.90015656e+06, 3.00011120e+06, 3.10006584e+06,\n",
       "        3.20002048e+06, 3.29997512e+06, 3.39992976e+06, 3.49988440e+06,\n",
       "        3.59983904e+06, 3.69979368e+06, 3.79974832e+06, 3.89970296e+06,\n",
       "        3.99965760e+06, 4.09961224e+06, 4.19956688e+06, 4.29952152e+06,\n",
       "        4.39947616e+06, 4.49943080e+06, 4.59938544e+06, 4.69934008e+06,\n",
       "        4.79929472e+06, 4.89924936e+06, 4.99920400e+06, 5.09915864e+06,\n",
       "        5.19911328e+06, 5.29906792e+06, 5.39902256e+06, 5.49897720e+06,\n",
       "        5.59893184e+06, 5.69888648e+06, 5.79884112e+06, 5.89879576e+06,\n",
       "        5.99875040e+06, 6.09870504e+06, 6.19865968e+06, 6.29861432e+06,\n",
       "        6.39856896e+06, 6.49852360e+06, 6.59847824e+06, 6.69843288e+06,\n",
       "        6.79838752e+06, 6.89834216e+06, 6.99829680e+06, 7.09825144e+06,\n",
       "        7.19820608e+06, 7.29816072e+06, 7.39811536e+06, 7.49807000e+06,\n",
       "        7.59802464e+06, 7.69797928e+06, 7.79793392e+06, 7.89788856e+06,\n",
       "        7.99784320e+06, 8.09779784e+06, 8.19775248e+06, 8.29770712e+06,\n",
       "        8.39766176e+06, 8.49761640e+06, 8.59757104e+06, 8.69752568e+06,\n",
       "        8.79748032e+06, 8.89743496e+06, 8.99738960e+06, 9.09734424e+06,\n",
       "        9.19729888e+06, 9.29725352e+06, 9.39720816e+06, 9.49716280e+06,\n",
       "        9.59711744e+06, 9.69707208e+06, 9.79702672e+06, 9.89698136e+06,\n",
       "        9.99693600e+06]),\n",
       " <a list of 100 Patch objects>)"
      ]
     },
     "execution_count": 207,
     "metadata": {},
     "output_type": "execute_result"
    },
    {
     "data": {
      "image/png": "[encoded data removed]",
      "text/plain": [
       "<Figure size 432x288 with 1 Axes>"
      ]
     },
     "metadata": {
      "needs_background": "light"
     },
     "output_type": "display_data"
    }
   ],
   "source": [
    "plt.hist([x for (_, x) in data_A], bins=100)"
   ]
  },
  {
   "cell_type": "code",
   "execution_count": 243,
   "metadata": {},
   "outputs": [],
   "source": [
    "def sim_scores_from_clks2(clks_a, clks_b, threshold):\n",
    "    results_candidate_pairs = anonlink.candidate_generation.find_candidate_pairs(\n",
    "            [clks_a, clks_b],\n",
    "            anonlink.similarities.dice_coefficient,\n",
    "            threshold\n",
    "    )\n",
    "    for i, idx in enumerate(results_candidate_pairs[2]):\n",
    "        print(idx)\n",
    "    return results_candidate_pairs"
   ]
  },
  {
   "cell_type": "code",
   "execution_count": 244,
   "metadata": {},
   "outputs": [
    {
     "name": "stdout",
     "output_type": "stream",
     "text": [
      "array('I', [44, 61, 85, 208, 210, 474, 494, 816, 846, 867, 914, 922, 948, 975, 1022, 1113, 1146, 1232, 1374, 1436, 1465, 1593, 1681, 1767, 1877, 1990, 2034, 2056, 2101, 2166, 2200, 2255, 2317, 2322, 2513, 2536, 2695, 2727, 2810, 2815, 3252, 3286, 3338, 3484, 3575, 3633, 3661, 3755, 3840, 3935, 4041, 4141, 4177, 4226, 4334, 4388, 4417, 4458, 4468, 4524, 4631, 4661, 4765, 4767, 4883, 4945, 933, 2754, 1738, 4876, 509, 831, 1825, 4758, 3323, 666, 916, 2442, 1516, 2400, 484, 811, 1389, 2919, 2121, 2849, 1099, 4724, 4964, 1199, 2665, 2851, 3874, 2405, 27, 1227, 1951, 2805, 805, 1547, 2467, 2671, 1765, 1901, 2261, 3162, 134, 3728, 2357, 3678, 4896, 4942, 3364, 4369, 1553, 472, 4974, 348, 1475, 4323, 4795, 3396, 594, 3504, 4107, 1398, 2008, 3887, 2882, 2655, 4537, 1073, 1203, 1852, 4969, 2316, 4334, 4345, 4484, 1717, 1760, 2854, 2104, 2710, 4420, 65, 432, 3619, 4466, 190, 845, 1287, 1525, 3656, 783, 1597, 3020, 4509, 3306, 3900, 719, 2497, 2515, 3566, 3695, 1074, 1840, 2786, 3853, 2706, 4877, 4035, 1726, 1716, 156, 721, 334, 2929, 2501, 1383, 100, 3727, 2590, 3630, 1756, 3293, 3827, 4703, 827, 1749, 4043, 4638, 1521, 1078, 2677, 2930, 4431, 4579, 2486, 3647, 716, 3451, 4118, 3564, 2577, 3285, 2942, 4621, 4922, 1480, 1549, 3868, 1966, 374, 1513, 1679, 2143, 649, 812, 4317, 3472, 424, 1828, 2313, 1491, 4507, 1404, 1462, 4375, 4505, 3884, 4587, 362, 4352, 671, 2129, 332, 2161, 1, 1550, 2682, 79, 461, 3002, 3993, 1779, 2145, 3021, 3333, 4840, 490, 1545, 1639, 2286, 4797, 3729, 2029, 4407, 1173, 1855, 3064, 2372, 3574, 1866, 4577, 1433, 4521, 2033, 4263, 1308, 3952, 3368, 767, 3174, 692, 2541, 3561, 2271, 3443, 4194, 4811, 2005, 3200, 1284, 3989, 749, 2260, 4761, 994, 2660, 3152, 217, 1143, 606, 2948, 2289, 2367, 2240, 1104, 2833, 3185, 481, 535, 1887, 1884, 287, 1342, 4276, 394, 2303, 3068, 4127, 1829, 2543, 2658, 3537, 4475, 1000, 3245, 191, 2280, 3388, 4351, 2670, 600, 963, 2183, 655, 1294, 3079, 762, 4384, 3572, 4165, 4480, 99, 903, 1795, 1264, 1574, 3712, 708, 1630, 2086, 862, 39, 1009, 2712, 46, 2394, 3251, 1700, 2966, 4065, 3474, 284, 1244, 1283, 4039, 3265, 3518, 1618, 4040, 1133, 4436, 1612, 824, 2011, 4383, 2178, 1251, 4176, 2591, 2778, 478, 1396, 3305, 370, 2773, 1118, 2891, 771, 3716, 4370, 155, 1772, 3219, 3270, 3493, 4624, 4018, 1356, 2096, 2624, 2761, 3909, 4529, 1964, 3807, 4653, 35, 2797, 3383, 3709, 4868, 1719, 3267, 454, 40, 520, 1380, 150, 2997, 1222, 255, 2721, 3221, 4123, 1014, 4026, 4971, 1643, 844, 2448, 817, 2203, 1276, 2055, 2364, 3093, 3287, 4643, 4962, 3731, 4482, 2423, 3115, 4122, 4697, 2186, 2195, 3322, 614, 750, 1814, 4027, 4161, 2502, 4000, 4823, 104, 384, 629, 4462, 1105, 2613, 1103, 4105, 2700, 1225, 2785, 1025, 3710, 4363, 2885, 3895, 3836, 1880, 1538, 2561, 2666, 4057, 439, 887, 3146, 3953, 4256, 226, 1663, 1904, 3005, 3639, 4025, 4725, 2645, 3844, 4491, 3703, 4080, 605, 4182, 95, 58, 3263, 3514, 4993, 239, 2807, 4802, 1520, 3788, 2184, 244, 920, 2864, 4980, 2263, 1522, 4132, 4243, 4683, 3696, 128, 770, 2345, 1507, 1970, 2683, 2692, 1006, 1613, 3017, 2350, 3512, 4979, 2705, 566, 777, 3225, 3565, 4405, 576, 3961, 3598, 2775, 3422, 4871, 926, 2762, 3818, 4924, 4963, 1097, 2155, 3495, 4726, 2507, 2924, 1448, 2146, 1418, 1157, 1304, 2953, 2376, 2563, 2603, 3241, 4663, 1572, 1820, 1968, 2878, 3060, 4477, 3024, 3673, 448, 4766, 3435, 1605, 2954, 4359, 2915, 1295, 2732, 3808, 1165, 1938, 2171, 2765, 4754, 3920, 4044, 3044, 3773, 973, 1747, 3279, 4094, 4130, 4655, 548, 1333, 2273, 2439, 3734, 1891, 2717, 3660, 1686, 2324, 2103, 2815, 3470, 2572, 497, 1093, 1676, 2060, 1674, 3167, 1178, 3785, 4371, 3110, 4212, 1850, 1015, 1724, 2522, 4302, 4486, 4897, 4948, 11, 1506, 3074, 3679, 2686, 2538, 3783, 4206, 144, 354, 2369, 3654, 2947, 3670, 2135, 1413, 2729, 1943, 4406, 602, 714, 4453, 1879, 2986, 1084, 4589, 1989, 2838, 651, 1242, 2640, 378, 449, 1123, 2832, 3806, 2379, 1609, 3955, 443, 2828, 3200, 797, 245, 76, 4551, 2482, 1390, 2328, 3432, 3439, 3062, 3636, 3980, 1206, 4625, 486, 4095, 233, 4763, 3922, 1580, 3621, 786, 3098, 3227, 4946, 3102, 4720, 1446, 2925, 3069, 4078, 3546, 3043, 2018, 456, 4930, 2826, 1381, 1568, 982, 397, 4442, 886, 4796, 4155, 1913, 686, 1924, 3445, 4580, 1378, 3539, 4810, 4596, 4686, 1890, 2250, 3212, 3295, 3592, 2090, 479, 1379, 1468, 3086, 3274, 1054, 1210, 2205, 265, 1706, 2175, 269, 2233, 4464, 3004, 2737, 2927, 3330, 3346, 4399, 3242, 1065, 1026, 4133, 3609, 273, 2039, 1619, 2755, 1692, 3035, 2609, 4984, 792, 1484, 2691, 4157, 4358, 626, 4373, 1855, 636, 3051, 844, 2430, 3487, 1652, 768, 1902, 3164, 2446, 1836, 459, 1362, 4713, 4004, 4439, 928, 3978, 4575, 1693, 4425, 3997, 1937, 4394, 727, 3018, 4136, 496, 3866, 1071, 1141, 1251, 2701, 4337, 4097, 1691, 4380, 775, 1153, 2476, 3198, 3380, 3655, 3825, 41, 393, 505, 1421, 2127, 3912, 4669, 4741, 1926, 1125, 3841, 272, 2076, 2064, 4038, 1036, 2957, 3821, 2781, 1841, 776, 4315, 4012, 52, 642, 3111, 3581, 2352, 990, 793, 3327, 4245, 2296, 953, 1606, 3215, 3262, 4855, 1159, 3810, 3165, 163, 1437, 2377, 3693, 2292, 3637, 562, 1128, 2969, 3335, 4950, 347, 32, 4874, 1115, 1915, 2636, 3161, 2048, 2228, 3081, 3172, 4102, 4277, 1205, 1694, 115, 2525, 3465, 1502, 1714, 1429, 1260, 3667, 3940, 161, 560, 1826, 1967, 4955, 4830, 68, 2342, 3222, 4921, 3983, 4326, 896, 1474, 2025, 223, 1184, 1984, 3309, 3393, 730, 2305, 2876, 1212, 3139, 4678, 1757, 2084, 3268, 1961, 2054, 3674, 402, 965, 2115, 4536, 211, 3073, 3793, 3859, 1042, 3817, 2062, 3349, 2822, 4493, 510, 1047, 4626, 2244, 4366, 4223, 91, 4047, 4898, 1330, 4131, 2441, 3762, 4911, 680, 3934, 4330, 4646, 3616, 1248, 431, 1894, 2190, 971, 2848, 3999, 4120, 2277, 303, 355, 2378, 387, 499, 1468, 2333, 2857, 3698, 3792, 4022, 3095, 785, 970, 4213, 1592, 2952, 2472, 1052, 1117, 1925, 3516, 156, 2266, 1011, 3713, 1056, 1999, 4925, 3994, 1533, 3927, 2429, 2518, 3107, 4644, 3070, 4534, 4887, 1361, 2752, 638, 2330, 4590, 3014, 3315, 578, 687, 915, 1322, 2094, 3635, 2633, 3404, 1564, 1815, 3554, 4314, 4402, 4941, 3629, 2511, 1896, 4953, 1980, 2470, 2791, 999, 3289, 3361, 4272, 4926, 574, 157, 3050, 3902, 4348, 3813, 1169, 2870, 4100, 4824, 1061, 2409, 4632, 1440, 2676, 3200, 3831, 3901, 2144, 3973, 4603, 488, 2723, 3908, 3402, 1922, 3355, 81, 815, 2469, 2498, 4028, 599, 551, 1733, 1012, 4540, 204, 3823, 119, 511, 1919, 3835, 3099, 942, 3022, 3799, 331, 1413, 2180, 2285, 2667, 3820, 2499, 3878, 1600, 1875, 2119, 3248, 4878, 1127, 3183, 72, 441, 2020, 4396, 10, 2783, 4503, 1310, 3015, 3933, 34, 2276, 2438, 688, 4712, 4891, 112, 4082, 3189, 4933, 1745, 1930, 3631, 658, 259, 1262, 4526, 3832, 1252, 3199, 392, 3230, 3704, 16, 508, 14, 664, 2926, 2711, 235, 1343, 1375, 3497, 4566, 1355, 4463, 1394, 1515, 3341, 3341, 4341, 136, 3300, 165, 2877, 620, 580, 1257, 1336, 3112, 3544, 4709, 662, 4374, 837, 2584, 425, 874, 2433, 3522, 1651, 2736, 558, 2934, 829, 2059, 927, 1875, 1975, 3381, 3563, 4091, 4114, 4460, 2141, 726, 2824, 2886, 871, 4968, 453, 1072, 3080, 4267, 4393, 4408, 4021, 1410, 2641, 4706, 151, 4062, 1662, 2956, 2133, 4376, 1215, 146, 2901, 4134, 699, 20, 1804, 3237, 1991, 2981, 3153, 1004, 3239, 152, 2578, 1667, 2137, 3317, 3607, 3815, 4024, 1997, 2902, 4919, 2318, 591, 1481, 2362, 3480, 3765, 1135, 2867, 4914, 1188, 4496, 4916, 4731, 791, 4721, 4600, 1843, 3195, 4912, 1034, 2840, 4113, 4898, 1661, 2888, 2838, 3896, 4502, 2347, 2992, 1657, 2052, 2804, 2553, 2839, 2231, 2990, 278, 1450, 2249, 4385, 1636, 4361, 2143, 1198, 1819, 1309, 2728, 1685, 2618, 3645, 3386, 4572, 78, 409, 1715, 3632, 3787, 1424, 2831, 2900, 4455, 1370, 4591, 1213, 1878, 1195, 1959, 2337, 3114, 3345, 4630, 4943, 878, 2058, 2324, 4084, 54, 2533, 1155, 1801, 4088, 4465, 1431, 4241, 1190, 1003, 1514, 122, 1139, 1463, 175, 1207, 1254, 1008, 1144, 1729, 2300, 2923, 673, 3985, 2530, 2562, 3911, 1282, 3090, 3229, 1768, 2924, 2772, 4292, 75, 3216, 4287, 286, 1331, 3466, 4512, 1809, 2436, 4228, 1209, 2528, 3047, 3292, 4331, 1124, 3945, 4059, 1500, 2431, 4777, 3202, 3429, 769, 3715, 4957, 554, 3127, 985, 3180, 1137, 1364, 2044, 2881, 3190, 717, 789, 1930, 825, 983, 1546, 3907, 4747, 3034, 4768, 1150, 2304, 2520, 3101, 4285, 4527, 2140, 2142, 333, 3181, 897, 979, 540, 2873, 3720, 690, 521, 2659, 3623, 2776, 4450, 537, 890, 2111, 4016, 2339, 309, 584, 732, 4900, 1049, 1108, 1119, 2358, 2719, 2782, 3390, 4467, 4415, 444, 4340, 4518, 4787, 1595, 2790, 1743, 3394, 3531, 4046, 4316, 4140, 4160, 198, 774, 3433, 3071, 1689, 2763, 1455, 3100, 4517, 854, 1148, 1917, 3889, 1303, 3231, 299, 4434, 572, 1083, 2690, 2995, 4045, 2217, 1658, 3217, 715, 985, 3523, 4428, 1024, 2101, 2408, 3521, 3971, 4179, 4333, 4303, 313, 4994, 3890, 4197, 192, 1485, 4145, 391, 1778, 2607, 4680, 4920, 1524, 1591, 2027, 3691, 765, 2967, 2764, 2920, 28, 92, 3442, 4171, 2922, 764, 464, 882, 82, 1860, 4759, 2835, 3534, 900, 4592, 995, 1460, 3104, 1245, 2473, 3425, 3041, 1567, 2210, 1794, 4536, 4679, 747, 2620, 3526, 1918, 1220, 3179, 4274, 1954, 4449, 4888])\n",
      "array('I', [2570, 61, 85, 208, 210, 474, 494, 816, 846, 867, 914, 922, 948, 975, 1022, 1113, 1146, 1232, 1374, 1436, 1465, 1593, 1681, 1767, 1877, 1990, 2034, 2056, 877, 2166, 2200, 2255, 2317, 2322, 2513, 2536, 2695, 2727, 2810, 2815, 3252, 3286, 3338, 3484, 3575, 3633, 3661, 3755, 3840, 3357, 4041, 4141, 4177, 4226, 4334, 4388, 4577, 4458, 4468, 4524, 4631, 4661, 4765, 4767, 4883, 4945, 1762, 2754, 1738, 4876, 509, 831, 1825, 4758, 3323, 666, 916, 2442, 1516, 2400, 484, 811, 1389, 2919, 2121, 2849, 1099, 4724, 4964, 1199, 2665, 2851, 3874, 2405, 27, 1227, 1951, 2805, 805, 1547, 2467, 2671, 1765, 1901, 2261, 3099, 134, 3728, 2357, 3678, 4896, 3689, 3364, 4369, 1553, 2838, 4974, 348, 1475, 4323, 4795, 2473, 594, 3504, 4107, 1398, 2008, 3887, 2882, 2655, 4537, 1073, 1203, 1852, 4969, 2316, 543, 4345, 4484, 1717, 1760, 2854, 2104, 2710, 4420, 1334, 432, 3619, 4466, 190, 845, 1287, 1525, 3656, 783, 1597, 3020, 4509, 3306, 3900, 719, 2497, 2515, 3566, 3695, 1074, 1456, 2786, 3853, 2706, 4877, 4035, 1726, 1716, 4783, 721, 334, 2929, 2501, 1383, 100, 3727, 2590, 3630, 1756, 3293, 3827, 4703, 827, 1749, 4043, 4638, 1521, 1078, 2677, 2930, 4431, 4579, 2486, 3647, 716, 3451, 4118, 3564, 2577, 3285, 2942, 4621, 4922, 1480, 1549, 3868, 1966, 374, 1513, 1679, 2143, 649, 812, 4317, 3472, 424, 1828, 2313, 1491, 4507, 1404, 1462, 4375, 4505, 3884, 4587, 362, 4352, 671, 2129, 332, 2161, 1, 1550, 2682, 79, 461, 3002, 3993, 1779, 2145, 3021, 3333, 4840, 490, 1545, 1639, 2286, 4797, 3729, 2029, 4407, 1173, 1855, 3064, 2372, 3574, 1866, 57, 1433, 4521, 2033, 4263, 1308, 3952, 3368, 767, 3174, 692, 2541, 3561, 2271, 3443, 4194, 4811, 2005, 2324, 1284, 3989, 749, 2260, 4761, 994, 2660, 3152, 217, 1143, 606, 2948, 2289, 2367, 2240, 1104, 2833, 3185, 481, 535, 1887, 1884, 287, 1342, 4276, 394, 2303, 3068, 4127, 1829, 2543, 2658, 3537, 4475, 1000, 3245, 191, 2280, 3388, 4351, 2670, 600, 963, 2183, 655, 1294, 3079, 762, 4384, 3572, 4165, 4480, 99, 903, 1795, 1264, 1574, 1669, 708, 1630, 2086, 862, 39, 1009, 2712, 46, 2394, 3251, 1700, 2966, 4065, 3474, 284, 1244, 1283, 4039, 3265, 3518, 4090, 4040, 1133, 4436, 1612, 824, 2011, 4383, 2178, 1413, 4176, 2591, 2778, 478, 1396, 3305, 370, 2773, 1118, 2891, 771, 3716, 4370, 155, 1772, 3219, 3270, 3493, 4624, 4018, 1356, 2096, 2624, 2761, 3909, 4529, 1964, 3807, 4653, 35, 2797, 3383, 3709, 4868, 1719, 3267, 454, 40, 520, 1380, 150, 2997, 1222, 255, 2721, 3221, 4123, 1014, 4026, 4971, 1643, 1747, 2448, 817, 2203, 1276, 2055, 2364, 3093, 3287, 4643, 4962, 3731, 4482, 2423, 3115, 4122, 4697, 2186, 2195, 3555, 614, 750, 1814, 4027, 4161, 2502, 4000, 4823, 104, 384, 629, 4462, 1105, 2613, 1103, 4105, 2700, 1225, 2785, 1025, 3710, 4363, 2885, 3895, 3836, 1880, 1538, 2561, 2666, 4057, 439, 887, 3146, 3953, 4256, 1423, 1663, 1904, 3005, 3639, 4025, 4725, 2645, 3844, 4491, 3703, 4080, 605, 4182, 95, 58, 3263, 3514, 4993, 239, 2807, 4802, 1520, 3788, 2184, 244, 920, 2864, 4980, 2263, 1522, 4132, 4243, 4683, 3696, 3109, 770, 2345, 1507, 1970, 2683, 2692, 1006, 1613, 3017, 2350, 3512, 4979, 2705, 566, 777, 3225, 3565, 4405, 576, 3961, 3598, 2775, 3422, 4871, 926, 2762, 3818, 4924, 4963, 1097, 2155, 3495, 4726, 2507, 2924, 1448, 2146, 1418, 1157, 1304, 2953, 2376, 2563, 2603, 3241, 4663, 1572, 1820, 1968, 2878, 3060, 4477, 3024, 3673, 448, 4766, 3435, 1605, 2954, 4359, 2915, 1295, 2732, 3808, 1165, 1938, 2171, 2765, 4754, 3920, 4044, 3044, 3773, 973, 1747, 3279, 4094, 4130, 4655, 548, 1333, 2273, 2439, 3734, 1891, 2717, 3660, 1686, 413, 2103, 4536, 3470, 2572, 497, 1093, 1676, 2060, 1674, 3167, 1178, 3785, 4371, 3110, 4212, 1850, 1015, 1724, 2522, 4302, 4486, 4897, 4948, 11, 1506, 3074, 3679, 2686, 2538, 3783, 4206, 144, 354, 2369, 3654, 2947, 3670, 2135, 1251, 2729, 1943, 4406, 602, 714, 4453, 1879, 2986, 1084, 4589, 1989, 472, 3174, 2418, 2640, 378, 449, 1123, 2832, 3806, 2379, 1609, 3955, 443, 2828, 3200, 797, 245, 76, 4551, 2482, 1390, 2328, 3432, 3439, 3062, 3636, 3980, 1206, 4625, 486, 4095, 233, 4763, 3922, 1580, 3621, 786, 3098, 3227, 4946, 4383, 4720, 1446, 2925, 3069, 4078, 3546, 3043, 2018, 456, 4930, 2826, 1381, 1028, 982, 397, 4442, 886, 4796, 4155, 1913, 686, 1924, 211, 4580, 1378, 3539, 4810, 4596, 4686, 1890, 2250, 3212, 3295, 3592, 2579, 479, 1379, 1468, 3086, 3274, 1054, 1210, 2205, 265, 1706, 2175, 269, 2233, 4464, 3004, 2737, 2927, 3330, 3346, 4399, 3242, 1065, 1026, 4133, 3609, 273, 2039, 1619, 2755, 1692, 3035, 2609, 4984, 792, 3869, 2691, 4157, 4358, 626, 4373, 4249, 636, 3051, 844, 2430, 3487, 1652, 768, 1902, 3164, 2446, 1836, 459, 1362, 4713, 4004, 4439, 928, 3978, 4575, 1693, 4425, 3997, 1937, 4394, 727, 755, 4136, 496, 3866, 1071, 1141, 1251, 2701, 4337, 4097, 1691, 4380, 775, 1153, 2476, 3198, 3380, 3655, 3825, 41, 393, 505, 1421, 2127, 3912, 4669, 4741, 1926, 1125, 3841, 272, 1191, 2064, 4038, 1036, 2957, 3821, 2781, 1841, 776, 4315, 4012, 52, 642, 3111, 3581, 839, 990, 793, 290, 4245, 2296, 953, 1606, 3215, 3262, 4855, 3665, 3810, 3165, 163, 1437, 2377, 4526, 2292, 3637, 562, 1128, 2969, 3335, 4950, 347, 32, 4874, 1115, 1915, 3339, 3161, 2048, 2228, 3081, 3172, 4102, 4277, 1205, 1694, 115, 2525, 3465, 1502, 1714, 1429, 1260, 3667, 3940, 161, 560, 1826, 1967, 4955, 4830, 68, 2342, 3222, 4921, 3983, 4326, 896, 1474, 2025, 223, 1184, 1984, 3309, 3393, 730, 2305, 2876, 1212, 3139, 4678, 1757, 2084, 3268, 1961, 2054, 3674, 402, 965, 2115, 2815, 3445, 3073, 966, 3859, 1042, 3817, 2062, 3349, 2822, 4493, 510, 3840, 4626, 2244, 4366, 4223, 91, 4047, 138, 1330, 2282, 2441, 3762, 4911, 680, 2010, 4330, 4646, 3616, 1248, 431, 1894, 2190, 971, 2848, 3999, 4120, 2277, 303, 355, 2378, 387, 499, 639, 2333, 2857, 3698, 3792, 4022, 3095, 785, 970, 4213, 1592, 2952, 2472, 1052, 3990, 1925, 3516, 156, 2266, 1011, 3713, 1056, 1999, 4925, 3994, 1533, 3927, 2429, 2518, 3107, 4644, 3070, 4534, 4887, 1361, 2752, 638, 2330, 4590, 3014, 3315, 578, 687, 915, 1322, 2094, 3635, 2633, 3404, 1564, 1815, 3554, 4314, 4402, 4941, 3629, 2511, 1896, 803, 1980, 2470, 2791, 999, 3289, 3361, 4272, 4926, 574, 157, 3050, 3902, 4348, 3813, 1169, 2870, 4100, 4824, 1061, 2409, 4632, 1440, 2676, 413, 3831, 3901, 2144, 3973, 4603, 488, 2723, 3908, 3402, 1922, 3355, 81, 815, 2469, 2498, 4028, 599, 551, 2957, 1012, 4540, 204, 3823, 119, 511, 1919, 4954, 3162, 942, 3022, 3799, 331, 1413, 2180, 2285, 2667, 3820, 2499, 3878, 1600, 1875, 2119, 3248, 4878, 1127, 3183, 4885, 441, 2020, 4396, 10, 2783, 4503, 361, 3015, 3933, 34, 2276, 2438, 688, 4712, 4891, 112, 4082, 3189, 4933, 1745, 3532, 3631, 658, 259, 1262, 4526, 3832, 1252, 3199, 392, 3230, 2775, 16, 508, 14, 664, 2926, 2711, 235, 1343, 1375, 3497, 4566, 1355, 4463, 1394, 1515, 3341, 4005, 4341, 136, 3300, 165, 2877, 620, 580, 1257, 1336, 3112, 3544, 4709, 662, 4374, 837, 2584, 425, 874, 2433, 3522, 1651, 2736, 558, 2934, 829, 2059, 927, 289, 1975, 3381, 3563, 4091, 4114, 4460, 2141, 726, 2824, 2886, 871, 4968, 453, 1072, 3080, 4267, 4393, 4408, 4021, 1410, 2641, 4706, 151, 4062, 1662, 2956, 2133, 4376, 1215, 3597, 2901, 4134, 699, 20, 1804, 3237, 1991, 2981, 3153, 1004, 3239, 152, 2578, 1667, 2137, 3317, 3607, 3815, 4024, 1997, 2902, 4919, 2318, 591, 1481, 2362, 3480, 528, 1989, 2867, 4914, 1188, 4496, 4916, 4731, 791, 4721, 4600, 1843, 3195, 4912, 1034, 2840, 4113, 4898, 4946, 2888, 2838, 3896, 4502, 2347, 2992, 1657, 2052, 2804, 2553, 2839, 2231, 2990, 278, 1450, 2249, 4385, 1636, 4361, 165, 1198, 1819, 1309, 2728, 1685, 2618, 2947, 3386, 4572, 78, 409, 1715, 3632, 3787, 1424, 2831, 2900, 4455, 101, 4591, 1213, 1878, 1195, 1959, 2337, 3114, 1995, 4630, 4943, 878, 2058, 2324, 4084, 54, 2533, 1155, 1801, 4088, 4465, 1431, 4241, 1198, 1003, 1514, 4888, 1139, 1463, 175, 1207, 1254, 1008, 1144, 1729, 2300, 2923, 673, 3985, 2530, 2562, 3911, 1282, 3090, 3229, 1768, 3780, 2772, 4292, 75, 3216, 4287, 286, 1331, 3466, 4211, 1809, 2436, 4228, 1209, 2528, 3047, 3292, 4331, 1124, 3945, 4059, 1500, 2431, 4777, 3202, 3429, 769, 3715, 4957, 554, 3127, 3650, 3180, 1137, 1364, 2044, 2881, 3190, 717, 789, 1930, 825, 983, 1546, 3907, 4747, 3034, 4768, 1150, 2304, 2520, 3101, 4285, 4527, 2140, 2142, 333, 3181, 897, 979, 540, 2873, 3720, 690, 521, 2659, 3623, 2776, 4450, 537, 890, 2111, 4016, 2339, 309, 584, 732, 4900, 1049, 1108, 1119, 2358, 2719, 2782, 3390, 4467, 4415, 444, 4340, 4518, 4787, 1595, 2790, 1743, 3394, 3531, 4046, 4316, 4140, 4160, 198, 774, 3433, 3071, 1689, 2763, 1455, 3100, 4517, 854, 1148, 1917, 3889, 1303, 3231, 299, 4434, 572, 1083, 2690, 2995, 4045, 2217, 1658, 3217, 715, 985, 3523, 4428, 1024, 2101, 2408, 3521, 3971, 4179, 4333, 4303, 313, 4994, 3890, 4197, 192, 1485, 4145, 391, 1778, 2607, 1072, 4920, 1524, 1591, 2027, 3691, 765, 2967, 2764, 2920, 28, 92, 1190, 4171, 2922, 764, 464, 882, 82, 1860, 4759, 2835, 3534, 900, 4592, 995, 1460, 3104, 1245, 2473, 3425, 3041, 1567, 2210, 1794, 4536, 4679, 747, 2620, 3526, 1918, 1220, 3179, 4274, 1954, 4449, 4888])\n"
     ]
    }
   ],
   "source": [
    "x = sim_scores_from_clks2(clks_a_numeric, clks_b_numeric, 0.9)"
   ]
  },
  {
   "cell_type": "code",
   "execution_count": 241,
   "metadata": {},
   "outputs": [],
   "source": [
    "def na(x):\n",
    "    for a in zip(*x):\n",
    "        print(f'asdfa: {a}')\n",
    "    pass"
   ]
  },
  {
   "cell_type": "code",
   "execution_count": 242,
   "metadata": {},
   "outputs": [
    {
     "name": "stdout",
     "output_type": "stream",
     "text": [
      "asdfa: (1.0, array('I', [0, 0, 0, 0, 0, 0, 0, 0, 0, 0, 0, 0, 0, 0, 0, 0, 0, 0, 0, 0, 0, 0, 0, 0, 0, 0, 0, 0, 0, 0, 0, 0, 0, 0, 0, 0, 0, 0, 0, 0, 0, 0, 0, 0, 0, 0, 0, 0, 0, 0, 0, 0, 0, 0, 0, 0, 0, 0, 0, 0, 0, 0, 0, 0, 0, 0, 0, 0, 0, 0, 0, 0, 0, 0, 0, 0, 0, 0, 0, 0, 0, 0, 0, 0, 0, 0, 0, 0, 0, 0, 0, 0, 0, 0, 0, 0, 0, 0, 0, 0, 0, 0, 0, 0, 0, 0, 0, 0, 0, 0, 0, 0, 0, 0, 0, 0, 0, 0, 0, 0, 0, 0, 0, 0, 0, 0, 0, 0, 0, 0, 0, 0, 0, 0, 0, 0, 0, 0, 0, 0, 0, 0, 0, 0, 0, 0, 0, 0, 0, 0, 0, 0, 0, 0, 0, 0, 0, 0, 0, 0, 0, 0, 0, 0, 0, 0, 0, 0, 0, 0, 0, 0, 0, 0, 0, 0, 0, 0, 0, 0, 0, 0, 0, 0, 0, 0, 0, 0, 0, 0, 0, 0, 0, 0, 0, 0, 0, 0, 0, 0, 0, 0, 0, 0, 0, 0, 0, 0, 0, 0, 0, 0, 0, 0, 0, 0, 0, 0, 0, 0, 0, 0, 0, 0, 0, 0, 0, 0, 0, 0, 0, 0, 0, 0, 0, 0, 0, 0, 0, 0, 0, 0, 0, 0, 0, 0, 0, 0, 0, 0, 0, 0, 0, 0, 0, 0, 0, 0, 0, 0, 0, 0, 0, 0, 0, 0, 0, 0, 0, 0, 0, 0, 0, 0, 0, 0, 0, 0, 0, 0, 0, 0, 0, 0, 0, 0, 0, 0, 0, 0, 0, 0, 0, 0, 0, 0, 0, 0, 0, 0, 0, 0, 0, 0, 0, 0, 0, 0, 0, 0, 0, 0, 0, 0, 0, 0, 0, 0, 0, 0, 0, 0, 0, 0, 0, 0, 0, 0, 0, 0, 0, 0, 0, 0, 0, 0, 0, 0, 0, 0, 0, 0, 0, 0, 0, 0, 0, 0, 0, 0, 0, 0, 0, 0, 0, 0, 0, 0, 0, 0, 0, 0, 0, 0, 0, 0, 0, 0, 0, 0, 0, 0, 0, 0, 0, 0, 0, 0, 0, 0, 0, 0, 0, 0, 0, 0, 0, 0, 0, 0, 0, 0, 0, 0, 0, 0, 0, 0, 0, 0, 0, 0, 0, 0, 0, 0, 0, 0, 0, 0, 0, 0, 0, 0, 0, 0, 0, 0, 0, 0, 0, 0, 0, 0, 0, 0, 0, 0, 0, 0, 0, 0, 0, 0, 0, 0, 0, 0, 0, 0, 0, 0, 0, 0, 0, 0, 0, 0, 0, 0, 0, 0, 0, 0, 0, 0, 0, 0, 0, 0, 0, 0, 0, 0, 0, 0, 0, 0, 0, 0, 0, 0, 0, 0, 0, 0, 0, 0, 0, 0, 0, 0, 0, 0, 0, 0, 0, 0, 0, 0, 0, 0, 0, 0, 0, 0, 0, 0, 0, 0, 0, 0, 0, 0, 0, 0, 0, 0, 0, 0, 0, 0, 0, 0, 0, 0, 0, 0, 0, 0, 0, 0, 0, 0, 0, 0, 0, 0, 0, 0, 0, 0, 0, 0, 0, 0, 0, 0, 0, 0, 0, 0, 0, 0, 0, 0, 0, 0, 0, 0, 0, 0, 0, 0, 0, 0, 0, 0, 0, 0, 0, 0, 0, 0, 0, 0, 0, 0, 0, 0, 0, 0, 0, 0, 0, 0, 0, 0, 0, 0, 0, 0, 0, 0, 0, 0, 0, 0, 0, 0, 0, 0, 0, 0, 0, 0, 0, 0, 0, 0, 0, 0, 0, 0, 0, 0, 0, 0, 0, 0, 0, 0, 0, 0, 0, 0, 0, 0, 0, 0, 0, 0, 0, 0, 0, 0, 0, 0, 0, 0, 0, 0, 0, 0, 0, 0, 0, 0, 0, 0, 0, 0, 0, 0, 0, 0, 0, 0, 0, 0, 0, 0, 0, 0, 0, 0, 0, 0, 0, 0, 0, 0, 0, 0, 0, 0, 0, 0, 0, 0, 0, 0, 0, 0, 0, 0, 0, 0, 0, 0, 0, 0, 0, 0, 0, 0, 0, 0, 0, 0, 0, 0, 0, 0, 0, 0, 0, 0, 0, 0, 0, 0, 0, 0, 0, 0, 0, 0, 0, 0, 0, 0, 0, 0, 0, 0, 0, 0, 0, 0, 0, 0, 0, 0, 0, 0, 0, 0, 0, 0, 0, 0, 0, 0, 0, 0, 0, 0, 0, 0, 0, 0, 0, 0, 0, 0, 0, 0, 0, 0, 0, 0, 0, 0, 0, 0, 0, 0, 0, 0, 0, 0, 0, 0, 0, 0, 0, 0, 0, 0, 0, 0, 0, 0, 0, 0, 0, 0, 0, 0, 0, 0, 0, 0, 0, 0, 0, 0, 0, 0, 0, 0, 0, 0, 0, 0, 0, 0, 0, 0, 0, 0, 0, 0, 0, 0, 0, 0, 0, 0, 0, 0, 0, 0, 0, 0, 0, 0, 0, 0, 0, 0, 0, 0, 0, 0, 0, 0, 0, 0, 0, 0, 0, 0, 0, 0, 0, 0, 0, 0, 0, 0, 0, 0, 0, 0, 0, 0, 0, 0, 0, 0, 0, 0, 0, 0, 0, 0, 0, 0, 0, 0, 0, 0, 0, 0, 0, 0, 0, 0, 0, 0, 0, 0, 0, 0, 0, 0, 0, 0, 0, 0, 0, 0, 0, 0, 0, 0, 0, 0, 0, 0, 0, 0, 0, 0, 0, 0, 0, 0, 0, 0, 0, 0, 0, 0, 0, 0, 0, 0, 0, 0, 0, 0, 0, 0, 0, 0, 0, 0, 0, 0, 0, 0, 0, 0, 0, 0, 0, 0, 0, 0, 0, 0, 0, 0, 0, 0, 0, 0, 0, 0, 0, 0, 0, 0, 0, 0, 0, 0, 0, 0, 0, 0, 0, 0, 0, 0, 0, 0, 0, 0, 0, 0, 0, 0, 0, 0, 0, 0, 0, 0, 0, 0, 0, 0, 0, 0, 0, 0, 0, 0, 0, 0, 0, 0, 0, 0, 0, 0, 0, 0, 0, 0, 0, 0, 0, 0, 0, 0, 0, 0, 0, 0, 0, 0, 0, 0, 0, 0, 0, 0, 0, 0, 0, 0, 0, 0, 0, 0, 0, 0, 0, 0, 0, 0, 0, 0, 0, 0, 0, 0, 0, 0, 0, 0, 0, 0, 0, 0, 0, 0, 0, 0, 0, 0, 0, 0, 0, 0, 0, 0, 0, 0, 0, 0, 0, 0, 0, 0, 0, 0, 0, 0, 0, 0, 0, 0, 0, 0, 0, 0, 0, 0, 0, 0, 0, 0, 0, 0, 0, 0, 0, 0, 0, 0, 0, 0, 0, 0, 0, 0, 0, 0, 0, 0, 0, 0, 0, 0, 0, 0, 0, 0, 0, 0, 0, 0, 0, 0, 0, 0, 0, 0, 0, 0, 0, 0, 0, 0, 0, 0, 0, 0, 0, 0, 0, 0, 0, 0, 0, 0, 0, 0, 0, 0, 0, 0, 0, 0, 0, 0, 0, 0, 0, 0, 0, 0, 0, 0, 0, 0, 0, 0, 0, 0, 0, 0, 0, 0, 0, 0, 0, 0, 0, 0, 0, 0, 0, 0, 0, 0, 0, 0, 0, 0, 0, 0, 0, 0, 0, 0, 0, 0, 0, 0, 0, 0, 0, 0, 0, 0, 0, 0, 0, 0, 0, 0, 0, 0, 0, 0, 0, 0, 0, 0, 0, 0, 0, 0, 0, 0, 0, 0, 0, 0, 0, 0, 0, 0, 0, 0, 0, 0, 0, 0, 0, 0, 0, 0, 0, 0, 0, 0, 0, 0, 0, 0, 0, 0, 0, 0, 0, 0, 0, 0, 0, 0, 0, 0, 0, 0, 0, 0, 0, 0, 0, 0, 0, 0, 0, 0, 0, 0, 0, 0, 0, 0, 0, 0, 0, 0, 0, 0, 0, 0, 0, 0, 0, 0, 0, 0, 0, 0, 0, 0, 0, 0, 0, 0, 0, 0, 0, 0, 0, 0, 0, 0, 0, 0, 0, 0, 0, 0, 0, 0, 0, 0, 0, 0, 0, 0, 0, 0, 0, 0, 0, 0, 0, 0, 0, 0, 0, 0, 0, 0, 0, 0, 0, 0, 0, 0, 0, 0, 0, 0, 0, 0, 0, 0, 0, 0, 0, 0, 0, 0, 0, 0, 0, 0, 0, 0, 0, 0, 0, 0, 0, 0, 0, 0, 0, 0, 0, 0, 0, 0, 0, 0, 0, 0, 0, 0, 0, 0, 0, 0, 0, 0, 0, 0, 0, 0, 0, 0, 0, 0, 0, 0, 0, 0, 0, 0, 0, 0, 0, 0, 0, 0, 0, 0, 0, 0, 0, 0, 0, 0, 0, 0, 0, 0, 0, 0, 0, 0, 0, 0, 0, 0, 0, 0, 0, 0, 0, 0, 0, 0, 0, 0, 0, 0, 0, 0, 0, 0, 0, 0, 0, 0, 0, 0, 0, 0, 0, 0, 0, 0, 0, 0, 0, 0, 0, 0, 0, 0, 0, 0, 0, 0, 0, 0, 0, 0, 0, 0, 0, 0, 0, 0, 0, 0, 0, 0, 0, 0, 0, 0, 0, 0, 0, 0, 0, 0, 0, 0, 0, 0, 0, 0, 0, 0, 0, 0, 0, 0, 0, 0, 0, 0, 0, 0, 0, 0, 0, 0, 0, 0, 0, 0, 0, 0, 0, 0, 0, 0, 0, 0, 0, 0, 0, 0, 0, 0, 0, 0, 0, 0, 0, 0, 0]), array('I', [44, 61, 85, 208, 210, 474, 494, 816, 846, 867, 914, 922, 948, 975, 1022, 1113, 1146, 1232, 1374, 1436, 1465, 1593, 1681, 1767, 1877, 1990, 2034, 2056, 2101, 2166, 2200, 2255, 2317, 2322, 2513, 2536, 2695, 2727, 2810, 2815, 3252, 3286, 3338, 3484, 3575, 3633, 3661, 3755, 3840, 3935, 4041, 4141, 4177, 4226, 4334, 4388, 4417, 4458, 4468, 4524, 4631, 4661, 4765, 4767, 4883, 4945, 933, 2754, 1738, 4876, 509, 831, 1825, 4758, 3323, 666, 916, 2442, 1516, 2400, 484, 811, 1389, 2919, 2121, 2849, 1099, 4724, 4964, 1199, 2665, 2851, 3874, 2405, 27, 1227, 1951, 2805, 805, 1547, 2467, 2671, 1765, 1901, 2261, 3162, 134, 3728, 2357, 3678, 4896, 4942, 3364, 4369, 1553, 472, 4974, 348, 1475, 4323, 4795, 3396, 594, 3504, 4107, 1398, 2008, 3887, 2882, 2655, 4537, 1073, 1203, 1852, 4969, 2316, 4334, 4345, 4484, 1717, 1760, 2854, 2104, 2710, 4420, 65, 432, 3619, 4466, 190, 845, 1287, 1525, 3656, 783, 1597, 3020, 4509, 3306, 3900, 719, 2497, 2515, 3566, 3695, 1074, 1840, 2786, 3853, 2706, 4877, 4035, 1726, 1716, 156, 721, 334, 2929, 2501, 1383, 100, 3727, 2590, 3630, 1756, 3293, 3827, 4703, 827, 1749, 4043, 4638, 1521, 1078, 2677, 2930, 4431, 4579, 2486, 3647, 716, 3451, 4118, 3564, 2577, 3285, 2942, 4621, 4922, 1480, 1549, 3868, 1966, 374, 1513, 1679, 2143, 649, 812, 4317, 3472, 424, 1828, 2313, 1491, 4507, 1404, 1462, 4375, 4505, 3884, 4587, 362, 4352, 671, 2129, 332, 2161, 1, 1550, 2682, 79, 461, 3002, 3993, 1779, 2145, 3021, 3333, 4840, 490, 1545, 1639, 2286, 4797, 3729, 2029, 4407, 1173, 1855, 3064, 2372, 3574, 1866, 4577, 1433, 4521, 2033, 4263, 1308, 3952, 3368, 767, 3174, 692, 2541, 3561, 2271, 3443, 4194, 4811, 2005, 3200, 1284, 3989, 749, 2260, 4761, 994, 2660, 3152, 217, 1143, 606, 2948, 2289, 2367, 2240, 1104, 2833, 3185, 481, 535, 1887, 1884, 287, 1342, 4276, 394, 2303, 3068, 4127, 1829, 2543, 2658, 3537, 4475, 1000, 3245, 191, 2280, 3388, 4351, 2670, 600, 963, 2183, 655, 1294, 3079, 762, 4384, 3572, 4165, 4480, 99, 903, 1795, 1264, 1574, 3712, 708, 1630, 2086, 862, 39, 1009, 2712, 46, 2394, 3251, 1700, 2966, 4065, 3474, 284, 1244, 1283, 4039, 3265, 3518, 1618, 4040, 1133, 4436, 1612, 824, 2011, 4383, 2178, 1251, 4176, 2591, 2778, 478, 1396, 3305, 370, 2773, 1118, 2891, 771, 3716, 4370, 155, 1772, 3219, 3270, 3493, 4624, 4018, 1356, 2096, 2624, 2761, 3909, 4529, 1964, 3807, 4653, 35, 2797, 3383, 3709, 4868, 1719, 3267, 454, 40, 520, 1380, 150, 2997, 1222, 255, 2721, 3221, 4123, 1014, 4026, 4971, 1643, 844, 2448, 817, 2203, 1276, 2055, 2364, 3093, 3287, 4643, 4962, 3731, 4482, 2423, 3115, 4122, 4697, 2186, 2195, 3322, 614, 750, 1814, 4027, 4161, 2502, 4000, 4823, 104, 384, 629, 4462, 1105, 2613, 1103, 4105, 2700, 1225, 2785, 1025, 3710, 4363, 2885, 3895, 3836, 1880, 1538, 2561, 2666, 4057, 439, 887, 3146, 3953, 4256, 226, 1663, 1904, 3005, 3639, 4025, 4725, 2645, 3844, 4491, 3703, 4080, 605, 4182, 95, 58, 3263, 3514, 4993, 239, 2807, 4802, 1520, 3788, 2184, 244, 920, 2864, 4980, 2263, 1522, 4132, 4243, 4683, 3696, 128, 770, 2345, 1507, 1970, 2683, 2692, 1006, 1613, 3017, 2350, 3512, 4979, 2705, 566, 777, 3225, 3565, 4405, 576, 3961, 3598, 2775, 3422, 4871, 926, 2762, 3818, 4924, 4963, 1097, 2155, 3495, 4726, 2507, 2924, 1448, 2146, 1418, 1157, 1304, 2953, 2376, 2563, 2603, 3241, 4663, 1572, 1820, 1968, 2878, 3060, 4477, 3024, 3673, 448, 4766, 3435, 1605, 2954, 4359, 2915, 1295, 2732, 3808, 1165, 1938, 2171, 2765, 4754, 3920, 4044, 3044, 3773, 973, 1747, 3279, 4094, 4130, 4655, 548, 1333, 2273, 2439, 3734, 1891, 2717, 3660, 1686, 2324, 2103, 2815, 3470, 2572, 497, 1093, 1676, 2060, 1674, 3167, 1178, 3785, 4371, 3110, 4212, 1850, 1015, 1724, 2522, 4302, 4486, 4897, 4948, 11, 1506, 3074, 3679, 2686, 2538, 3783, 4206, 144, 354, 2369, 3654, 2947, 3670, 2135, 1413, 2729, 1943, 4406, 602, 714, 4453, 1879, 2986, 1084, 4589, 1989, 2838, 651, 1242, 2640, 378, 449, 1123, 2832, 3806, 2379, 1609, 3955, 443, 2828, 3200, 797, 245, 76, 4551, 2482, 1390, 2328, 3432, 3439, 3062, 3636, 3980, 1206, 4625, 486, 4095, 233, 4763, 3922, 1580, 3621, 786, 3098, 3227, 4946, 3102, 4720, 1446, 2925, 3069, 4078, 3546, 3043, 2018, 456, 4930, 2826, 1381, 1568, 982, 397, 4442, 886, 4796, 4155, 1913, 686, 1924, 3445, 4580, 1378, 3539, 4810, 4596, 4686, 1890, 2250, 3212, 3295, 3592, 2090, 479, 1379, 1468, 3086, 3274, 1054, 1210, 2205, 265, 1706, 2175, 269, 2233, 4464, 3004, 2737, 2927, 3330, 3346, 4399, 3242, 1065, 1026, 4133, 3609, 273, 2039, 1619, 2755, 1692, 3035, 2609, 4984, 792, 1484, 2691, 4157, 4358, 626, 4373, 1855, 636, 3051, 844, 2430, 3487, 1652, 768, 1902, 3164, 2446, 1836, 459, 1362, 4713, 4004, 4439, 928, 3978, 4575, 1693, 4425, 3997, 1937, 4394, 727, 3018, 4136, 496, 3866, 1071, 1141, 1251, 2701, 4337, 4097, 1691, 4380, 775, 1153, 2476, 3198, 3380, 3655, 3825, 41, 393, 505, 1421, 2127, 3912, 4669, 4741, 1926, 1125, 3841, 272, 2076, 2064, 4038, 1036, 2957, 3821, 2781, 1841, 776, 4315, 4012, 52, 642, 3111, 3581, 2352, 990, 793, 3327, 4245, 2296, 953, 1606, 3215, 3262, 4855, 1159, 3810, 3165, 163, 1437, 2377, 3693, 2292, 3637, 562, 1128, 2969, 3335, 4950, 347, 32, 4874, 1115, 1915, 2636, 3161, 2048, 2228, 3081, 3172, 4102, 4277, 1205, 1694, 115, 2525, 3465, 1502, 1714, 1429, 1260, 3667, 3940, 161, 560, 1826, 1967, 4955, 4830, 68, 2342, 3222, 4921, 3983, 4326, 896, 1474, 2025, 223, 1184, 1984, 3309, 3393, 730, 2305, 2876, 1212, 3139, 4678, 1757, 2084, 3268, 1961, 2054, 3674, 402, 965, 2115, 4536, 211, 3073, 3793, 3859, 1042, 3817, 2062, 3349, 2822, 4493, 510, 1047, 4626, 2244, 4366, 4223, 91, 4047, 4898, 1330, 4131, 2441, 3762, 4911, 680, 3934, 4330, 4646, 3616, 1248, 431, 1894, 2190, 971, 2848, 3999, 4120, 2277, 303, 355, 2378, 387, 499, 1468, 2333, 2857, 3698, 3792, 4022, 3095, 785, 970, 4213, 1592, 2952, 2472, 1052, 1117, 1925, 3516, 156, 2266, 1011, 3713, 1056, 1999, 4925, 3994, 1533, 3927, 2429, 2518, 3107, 4644, 3070, 4534, 4887, 1361, 2752, 638, 2330, 4590, 3014, 3315, 578, 687, 915, 1322, 2094, 3635, 2633, 3404, 1564, 1815, 3554, 4314, 4402, 4941, 3629, 2511, 1896, 4953, 1980, 2470, 2791, 999, 3289, 3361, 4272, 4926, 574, 157, 3050, 3902, 4348, 3813, 1169, 2870, 4100, 4824, 1061, 2409, 4632, 1440, 2676, 3200, 3831, 3901, 2144, 3973, 4603, 488, 2723, 3908, 3402, 1922, 3355, 81, 815, 2469, 2498, 4028, 599, 551, 1733, 1012, 4540, 204, 3823, 119, 511, 1919, 3835, 3099, 942, 3022, 3799, 331, 1413, 2180, 2285, 2667, 3820, 2499, 3878, 1600, 1875, 2119, 3248, 4878, 1127, 3183, 72, 441, 2020, 4396, 10, 2783, 4503, 1310, 3015, 3933, 34, 2276, 2438, 688, 4712, 4891, 112, 4082, 3189, 4933, 1745, 1930, 3631, 658, 259, 1262, 4526, 3832, 1252, 3199, 392, 3230, 3704, 16, 508, 14, 664, 2926, 2711, 235, 1343, 1375, 3497, 4566, 1355, 4463, 1394, 1515, 3341, 3341, 4341, 136, 3300, 165, 2877, 620, 580, 1257, 1336, 3112, 3544, 4709, 662, 4374, 837, 2584, 425, 874, 2433, 3522, 1651, 2736, 558, 2934, 829, 2059, 927, 1875, 1975, 3381, 3563, 4091, 4114, 4460, 2141, 726, 2824, 2886, 871, 4968, 453, 1072, 3080, 4267, 4393, 4408, 4021, 1410, 2641, 4706, 151, 4062, 1662, 2956, 2133, 4376, 1215, 146, 2901, 4134, 699, 20, 1804, 3237, 1991, 2981, 3153, 1004, 3239, 152, 2578, 1667, 2137, 3317, 3607, 3815, 4024, 1997, 2902, 4919, 2318, 591, 1481, 2362, 3480, 3765, 1135, 2867, 4914, 1188, 4496, 4916, 4731, 791, 4721, 4600, 1843, 3195, 4912, 1034, 2840, 4113, 4898, 1661, 2888, 2838, 3896, 4502, 2347, 2992, 1657, 2052, 2804, 2553, 2839, 2231, 2990, 278, 1450, 2249, 4385, 1636, 4361, 2143, 1198, 1819, 1309, 2728, 1685, 2618, 3645, 3386, 4572, 78, 409, 1715, 3632, 3787, 1424, 2831, 2900, 4455, 1370, 4591, 1213, 1878, 1195, 1959, 2337, 3114, 3345, 4630, 4943, 878, 2058, 2324, 4084, 54, 2533, 1155, 1801, 4088, 4465, 1431, 4241, 1190, 1003, 1514, 122, 1139, 1463, 175, 1207, 1254, 1008, 1144, 1729, 2300, 2923, 673, 3985, 2530, 2562, 3911, 1282, 3090, 3229, 1768, 2924, 2772, 4292, 75, 3216, 4287, 286, 1331, 3466, 4512, 1809, 2436, 4228, 1209, 2528, 3047, 3292, 4331, 1124, 3945, 4059, 1500, 2431, 4777, 3202, 3429, 769, 3715, 4957, 554, 3127, 985, 3180, 1137, 1364, 2044, 2881, 3190, 717, 789, 1930, 825, 983, 1546, 3907, 4747, 3034, 4768, 1150, 2304, 2520, 3101, 4285, 4527, 2140, 2142, 333, 3181, 897, 979, 540, 2873, 3720, 690, 521, 2659, 3623, 2776, 4450, 537, 890, 2111, 4016, 2339, 309, 584, 732, 4900, 1049, 1108, 1119, 2358, 2719, 2782, 3390, 4467, 4415, 444, 4340, 4518, 4787, 1595, 2790, 1743, 3394, 3531, 4046, 4316, 4140, 4160, 198, 774, 3433, 3071, 1689, 2763, 1455, 3100, 4517, 854, 1148, 1917, 3889, 1303, 3231, 299, 4434, 572, 1083, 2690, 2995, 4045, 2217, 1658, 3217, 715, 985, 3523, 4428, 1024, 2101, 2408, 3521, 3971, 4179, 4333, 4303, 313, 4994, 3890, 4197, 192, 1485, 4145, 391, 1778, 2607, 4680, 4920, 1524, 1591, 2027, 3691, 765, 2967, 2764, 2920, 28, 92, 3442, 4171, 2922, 764, 464, 882, 82, 1860, 4759, 2835, 3534, 900, 4592, 995, 1460, 3104, 1245, 2473, 3425, 3041, 1567, 2210, 1794, 4536, 4679, 747, 2620, 3526, 1918, 1220, 3179, 4274, 1954, 4449, 4888]))\n",
      "asdfa: (1.0, array('I', [1, 1, 1, 1, 1, 1, 1, 1, 1, 1, 1, 1, 1, 1, 1, 1, 1, 1, 1, 1, 1, 1, 1, 1, 1, 1, 1, 1, 1, 1, 1, 1, 1, 1, 1, 1, 1, 1, 1, 1, 1, 1, 1, 1, 1, 1, 1, 1, 1, 1, 1, 1, 1, 1, 1, 1, 1, 1, 1, 1, 1, 1, 1, 1, 1, 1, 1, 1, 1, 1, 1, 1, 1, 1, 1, 1, 1, 1, 1, 1, 1, 1, 1, 1, 1, 1, 1, 1, 1, 1, 1, 1, 1, 1, 1, 1, 1, 1, 1, 1, 1, 1, 1, 1, 1, 1, 1, 1, 1, 1, 1, 1, 1, 1, 1, 1, 1, 1, 1, 1, 1, 1, 1, 1, 1, 1, 1, 1, 1, 1, 1, 1, 1, 1, 1, 1, 1, 1, 1, 1, 1, 1, 1, 1, 1, 1, 1, 1, 1, 1, 1, 1, 1, 1, 1, 1, 1, 1, 1, 1, 1, 1, 1, 1, 1, 1, 1, 1, 1, 1, 1, 1, 1, 1, 1, 1, 1, 1, 1, 1, 1, 1, 1, 1, 1, 1, 1, 1, 1, 1, 1, 1, 1, 1, 1, 1, 1, 1, 1, 1, 1, 1, 1, 1, 1, 1, 1, 1, 1, 1, 1, 1, 1, 1, 1, 1, 1, 1, 1, 1, 1, 1, 1, 1, 1, 1, 1, 1, 1, 1, 1, 1, 1, 1, 1, 1, 1, 1, 1, 1, 1, 1, 1, 1, 1, 1, 1, 1, 1, 1, 1, 1, 1, 1, 1, 1, 1, 1, 1, 1, 1, 1, 1, 1, 1, 1, 1, 1, 1, 1, 1, 1, 1, 1, 1, 1, 1, 1, 1, 1, 1, 1, 1, 1, 1, 1, 1, 1, 1, 1, 1, 1, 1, 1, 1, 1, 1, 1, 1, 1, 1, 1, 1, 1, 1, 1, 1, 1, 1, 1, 1, 1, 1, 1, 1, 1, 1, 1, 1, 1, 1, 1, 1, 1, 1, 1, 1, 1, 1, 1, 1, 1, 1, 1, 1, 1, 1, 1, 1, 1, 1, 1, 1, 1, 1, 1, 1, 1, 1, 1, 1, 1, 1, 1, 1, 1, 1, 1, 1, 1, 1, 1, 1, 1, 1, 1, 1, 1, 1, 1, 1, 1, 1, 1, 1, 1, 1, 1, 1, 1, 1, 1, 1, 1, 1, 1, 1, 1, 1, 1, 1, 1, 1, 1, 1, 1, 1, 1, 1, 1, 1, 1, 1, 1, 1, 1, 1, 1, 1, 1, 1, 1, 1, 1, 1, 1, 1, 1, 1, 1, 1, 1, 1, 1, 1, 1, 1, 1, 1, 1, 1, 1, 1, 1, 1, 1, 1, 1, 1, 1, 1, 1, 1, 1, 1, 1, 1, 1, 1, 1, 1, 1, 1, 1, 1, 1, 1, 1, 1, 1, 1, 1, 1, 1, 1, 1, 1, 1, 1, 1, 1, 1, 1, 1, 1, 1, 1, 1, 1, 1, 1, 1, 1, 1, 1, 1, 1, 1, 1, 1, 1, 1, 1, 1, 1, 1, 1, 1, 1, 1, 1, 1, 1, 1, 1, 1, 1, 1, 1, 1, 1, 1, 1, 1, 1, 1, 1, 1, 1, 1, 1, 1, 1, 1, 1, 1, 1, 1, 1, 1, 1, 1, 1, 1, 1, 1, 1, 1, 1, 1, 1, 1, 1, 1, 1, 1, 1, 1, 1, 1, 1, 1, 1, 1, 1, 1, 1, 1, 1, 1, 1, 1, 1, 1, 1, 1, 1, 1, 1, 1, 1, 1, 1, 1, 1, 1, 1, 1, 1, 1, 1, 1, 1, 1, 1, 1, 1, 1, 1, 1, 1, 1, 1, 1, 1, 1, 1, 1, 1, 1, 1, 1, 1, 1, 1, 1, 1, 1, 1, 1, 1, 1, 1, 1, 1, 1, 1, 1, 1, 1, 1, 1, 1, 1, 1, 1, 1, 1, 1, 1, 1, 1, 1, 1, 1, 1, 1, 1, 1, 1, 1, 1, 1, 1, 1, 1, 1, 1, 1, 1, 1, 1, 1, 1, 1, 1, 1, 1, 1, 1, 1, 1, 1, 1, 1, 1, 1, 1, 1, 1, 1, 1, 1, 1, 1, 1, 1, 1, 1, 1, 1, 1, 1, 1, 1, 1, 1, 1, 1, 1, 1, 1, 1, 1, 1, 1, 1, 1, 1, 1, 1, 1, 1, 1, 1, 1, 1, 1, 1, 1, 1, 1, 1, 1, 1, 1, 1, 1, 1, 1, 1, 1, 1, 1, 1, 1, 1, 1, 1, 1, 1, 1, 1, 1, 1, 1, 1, 1, 1, 1, 1, 1, 1, 1, 1, 1, 1, 1, 1, 1, 1, 1, 1, 1, 1, 1, 1, 1, 1, 1, 1, 1, 1, 1, 1, 1, 1, 1, 1, 1, 1, 1, 1, 1, 1, 1, 1, 1, 1, 1, 1, 1, 1, 1, 1, 1, 1, 1, 1, 1, 1, 1, 1, 1, 1, 1, 1, 1, 1, 1, 1, 1, 1, 1, 1, 1, 1, 1, 1, 1, 1, 1, 1, 1, 1, 1, 1, 1, 1, 1, 1, 1, 1, 1, 1, 1, 1, 1, 1, 1, 1, 1, 1, 1, 1, 1, 1, 1, 1, 1, 1, 1, 1, 1, 1, 1, 1, 1, 1, 1, 1, 1, 1, 1, 1, 1, 1, 1, 1, 1, 1, 1, 1, 1, 1, 1, 1, 1, 1, 1, 1, 1, 1, 1, 1, 1, 1, 1, 1, 1, 1, 1, 1, 1, 1, 1, 1, 1, 1, 1, 1, 1, 1, 1, 1, 1, 1, 1, 1, 1, 1, 1, 1, 1, 1, 1, 1, 1, 1, 1, 1, 1, 1, 1, 1, 1, 1, 1, 1, 1, 1, 1, 1, 1, 1, 1, 1, 1, 1, 1, 1, 1, 1, 1, 1, 1, 1, 1, 1, 1, 1, 1, 1, 1, 1, 1, 1, 1, 1, 1, 1, 1, 1, 1, 1, 1, 1, 1, 1, 1, 1, 1, 1, 1, 1, 1, 1, 1, 1, 1, 1, 1, 1, 1, 1, 1, 1, 1, 1, 1, 1, 1, 1, 1, 1, 1, 1, 1, 1, 1, 1, 1, 1, 1, 1, 1, 1, 1, 1, 1, 1, 1, 1, 1, 1, 1, 1, 1, 1, 1, 1, 1, 1, 1, 1, 1, 1, 1, 1, 1, 1, 1, 1, 1, 1, 1, 1, 1, 1, 1, 1, 1, 1, 1, 1, 1, 1, 1, 1, 1, 1, 1, 1, 1, 1, 1, 1, 1, 1, 1, 1, 1, 1, 1, 1, 1, 1, 1, 1, 1, 1, 1, 1, 1, 1, 1, 1, 1, 1, 1, 1, 1, 1, 1, 1, 1, 1, 1, 1, 1, 1, 1, 1, 1, 1, 1, 1, 1, 1, 1, 1, 1, 1, 1, 1, 1, 1, 1, 1, 1, 1, 1, 1, 1, 1, 1, 1, 1, 1, 1, 1, 1, 1, 1, 1, 1, 1, 1, 1, 1, 1, 1, 1, 1, 1, 1, 1, 1, 1, 1, 1, 1, 1, 1, 1, 1, 1, 1, 1, 1, 1, 1, 1, 1, 1, 1, 1, 1, 1, 1, 1, 1, 1, 1, 1, 1, 1, 1, 1, 1, 1, 1, 1, 1, 1, 1, 1, 1, 1, 1, 1, 1, 1, 1, 1, 1, 1, 1, 1, 1, 1, 1, 1, 1, 1, 1, 1, 1, 1, 1, 1, 1, 1, 1, 1, 1, 1, 1, 1, 1, 1, 1, 1, 1, 1, 1, 1, 1, 1, 1, 1, 1, 1, 1, 1, 1, 1, 1, 1, 1, 1, 1, 1, 1, 1, 1, 1, 1, 1, 1, 1, 1, 1, 1, 1, 1, 1, 1, 1, 1, 1, 1, 1, 1, 1, 1, 1, 1, 1, 1, 1, 1, 1, 1, 1, 1, 1, 1, 1, 1, 1, 1, 1, 1, 1, 1, 1, 1, 1, 1, 1, 1, 1, 1, 1, 1, 1, 1, 1, 1, 1, 1, 1, 1, 1, 1, 1, 1, 1, 1, 1, 1, 1, 1, 1, 1, 1, 1, 1, 1, 1, 1, 1, 1, 1, 1, 1, 1, 1, 1, 1, 1, 1, 1, 1, 1, 1, 1, 1, 1, 1, 1, 1, 1, 1, 1, 1, 1, 1, 1, 1, 1, 1, 1, 1, 1, 1, 1, 1, 1, 1, 1, 1, 1, 1, 1, 1, 1, 1, 1, 1, 1, 1, 1, 1, 1, 1, 1, 1, 1, 1, 1, 1, 1, 1, 1, 1, 1, 1, 1, 1, 1, 1, 1, 1, 1, 1, 1, 1, 1, 1, 1, 1, 1, 1, 1, 1, 1, 1, 1, 1, 1, 1, 1, 1, 1, 1, 1, 1, 1, 1, 1, 1, 1, 1, 1, 1, 1, 1, 1, 1, 1, 1, 1, 1, 1, 1, 1, 1, 1, 1, 1, 1, 1, 1, 1, 1, 1, 1, 1, 1, 1, 1, 1, 1, 1, 1, 1, 1, 1, 1, 1, 1, 1, 1, 1, 1, 1, 1, 1, 1, 1, 1, 1, 1, 1, 1, 1, 1, 1, 1, 1, 1, 1, 1, 1, 1, 1, 1, 1, 1, 1, 1, 1, 1, 1, 1, 1, 1, 1, 1, 1, 1, 1, 1, 1, 1, 1, 1, 1, 1, 1, 1, 1, 1, 1, 1, 1, 1, 1, 1, 1, 1, 1, 1, 1, 1, 1, 1, 1, 1, 1, 1, 1, 1, 1, 1, 1, 1, 1, 1, 1, 1, 1, 1, 1, 1, 1, 1]), array('I', [2570, 61, 85, 208, 210, 474, 494, 816, 846, 867, 914, 922, 948, 975, 1022, 1113, 1146, 1232, 1374, 1436, 1465, 1593, 1681, 1767, 1877, 1990, 2034, 2056, 877, 2166, 2200, 2255, 2317, 2322, 2513, 2536, 2695, 2727, 2810, 2815, 3252, 3286, 3338, 3484, 3575, 3633, 3661, 3755, 3840, 3357, 4041, 4141, 4177, 4226, 4334, 4388, 4577, 4458, 4468, 4524, 4631, 4661, 4765, 4767, 4883, 4945, 1762, 2754, 1738, 4876, 509, 831, 1825, 4758, 3323, 666, 916, 2442, 1516, 2400, 484, 811, 1389, 2919, 2121, 2849, 1099, 4724, 4964, 1199, 2665, 2851, 3874, 2405, 27, 1227, 1951, 2805, 805, 1547, 2467, 2671, 1765, 1901, 2261, 3099, 134, 3728, 2357, 3678, 4896, 3689, 3364, 4369, 1553, 2838, 4974, 348, 1475, 4323, 4795, 2473, 594, 3504, 4107, 1398, 2008, 3887, 2882, 2655, 4537, 1073, 1203, 1852, 4969, 2316, 543, 4345, 4484, 1717, 1760, 2854, 2104, 2710, 4420, 1334, 432, 3619, 4466, 190, 845, 1287, 1525, 3656, 783, 1597, 3020, 4509, 3306, 3900, 719, 2497, 2515, 3566, 3695, 1074, 1456, 2786, 3853, 2706, 4877, 4035, 1726, 1716, 4783, 721, 334, 2929, 2501, 1383, 100, 3727, 2590, 3630, 1756, 3293, 3827, 4703, 827, 1749, 4043, 4638, 1521, 1078, 2677, 2930, 4431, 4579, 2486, 3647, 716, 3451, 4118, 3564, 2577, 3285, 2942, 4621, 4922, 1480, 1549, 3868, 1966, 374, 1513, 1679, 2143, 649, 812, 4317, 3472, 424, 1828, 2313, 1491, 4507, 1404, 1462, 4375, 4505, 3884, 4587, 362, 4352, 671, 2129, 332, 2161, 1, 1550, 2682, 79, 461, 3002, 3993, 1779, 2145, 3021, 3333, 4840, 490, 1545, 1639, 2286, 4797, 3729, 2029, 4407, 1173, 1855, 3064, 2372, 3574, 1866, 57, 1433, 4521, 2033, 4263, 1308, 3952, 3368, 767, 3174, 692, 2541, 3561, 2271, 3443, 4194, 4811, 2005, 2324, 1284, 3989, 749, 2260, 4761, 994, 2660, 3152, 217, 1143, 606, 2948, 2289, 2367, 2240, 1104, 2833, 3185, 481, 535, 1887, 1884, 287, 1342, 4276, 394, 2303, 3068, 4127, 1829, 2543, 2658, 3537, 4475, 1000, 3245, 191, 2280, 3388, 4351, 2670, 600, 963, 2183, 655, 1294, 3079, 762, 4384, 3572, 4165, 4480, 99, 903, 1795, 1264, 1574, 1669, 708, 1630, 2086, 862, 39, 1009, 2712, 46, 2394, 3251, 1700, 2966, 4065, 3474, 284, 1244, 1283, 4039, 3265, 3518, 4090, 4040, 1133, 4436, 1612, 824, 2011, 4383, 2178, 1413, 4176, 2591, 2778, 478, 1396, 3305, 370, 2773, 1118, 2891, 771, 3716, 4370, 155, 1772, 3219, 3270, 3493, 4624, 4018, 1356, 2096, 2624, 2761, 3909, 4529, 1964, 3807, 4653, 35, 2797, 3383, 3709, 4868, 1719, 3267, 454, 40, 520, 1380, 150, 2997, 1222, 255, 2721, 3221, 4123, 1014, 4026, 4971, 1643, 1747, 2448, 817, 2203, 1276, 2055, 2364, 3093, 3287, 4643, 4962, 3731, 4482, 2423, 3115, 4122, 4697, 2186, 2195, 3555, 614, 750, 1814, 4027, 4161, 2502, 4000, 4823, 104, 384, 629, 4462, 1105, 2613, 1103, 4105, 2700, 1225, 2785, 1025, 3710, 4363, 2885, 3895, 3836, 1880, 1538, 2561, 2666, 4057, 439, 887, 3146, 3953, 4256, 1423, 1663, 1904, 3005, 3639, 4025, 4725, 2645, 3844, 4491, 3703, 4080, 605, 4182, 95, 58, 3263, 3514, 4993, 239, 2807, 4802, 1520, 3788, 2184, 244, 920, 2864, 4980, 2263, 1522, 4132, 4243, 4683, 3696, 3109, 770, 2345, 1507, 1970, 2683, 2692, 1006, 1613, 3017, 2350, 3512, 4979, 2705, 566, 777, 3225, 3565, 4405, 576, 3961, 3598, 2775, 3422, 4871, 926, 2762, 3818, 4924, 4963, 1097, 2155, 3495, 4726, 2507, 2924, 1448, 2146, 1418, 1157, 1304, 2953, 2376, 2563, 2603, 3241, 4663, 1572, 1820, 1968, 2878, 3060, 4477, 3024, 3673, 448, 4766, 3435, 1605, 2954, 4359, 2915, 1295, 2732, 3808, 1165, 1938, 2171, 2765, 4754, 3920, 4044, 3044, 3773, 973, 1747, 3279, 4094, 4130, 4655, 548, 1333, 2273, 2439, 3734, 1891, 2717, 3660, 1686, 413, 2103, 4536, 3470, 2572, 497, 1093, 1676, 2060, 1674, 3167, 1178, 3785, 4371, 3110, 4212, 1850, 1015, 1724, 2522, 4302, 4486, 4897, 4948, 11, 1506, 3074, 3679, 2686, 2538, 3783, 4206, 144, 354, 2369, 3654, 2947, 3670, 2135, 1251, 2729, 1943, 4406, 602, 714, 4453, 1879, 2986, 1084, 4589, 1989, 472, 3174, 2418, 2640, 378, 449, 1123, 2832, 3806, 2379, 1609, 3955, 443, 2828, 3200, 797, 245, 76, 4551, 2482, 1390, 2328, 3432, 3439, 3062, 3636, 3980, 1206, 4625, 486, 4095, 233, 4763, 3922, 1580, 3621, 786, 3098, 3227, 4946, 4383, 4720, 1446, 2925, 3069, 4078, 3546, 3043, 2018, 456, 4930, 2826, 1381, 1028, 982, 397, 4442, 886, 4796, 4155, 1913, 686, 1924, 211, 4580, 1378, 3539, 4810, 4596, 4686, 1890, 2250, 3212, 3295, 3592, 2579, 479, 1379, 1468, 3086, 3274, 1054, 1210, 2205, 265, 1706, 2175, 269, 2233, 4464, 3004, 2737, 2927, 3330, 3346, 4399, 3242, 1065, 1026, 4133, 3609, 273, 2039, 1619, 2755, 1692, 3035, 2609, 4984, 792, 3869, 2691, 4157, 4358, 626, 4373, 4249, 636, 3051, 844, 2430, 3487, 1652, 768, 1902, 3164, 2446, 1836, 459, 1362, 4713, 4004, 4439, 928, 3978, 4575, 1693, 4425, 3997, 1937, 4394, 727, 755, 4136, 496, 3866, 1071, 1141, 1251, 2701, 4337, 4097, 1691, 4380, 775, 1153, 2476, 3198, 3380, 3655, 3825, 41, 393, 505, 1421, 2127, 3912, 4669, 4741, 1926, 1125, 3841, 272, 1191, 2064, 4038, 1036, 2957, 3821, 2781, 1841, 776, 4315, 4012, 52, 642, 3111, 3581, 839, 990, 793, 290, 4245, 2296, 953, 1606, 3215, 3262, 4855, 3665, 3810, 3165, 163, 1437, 2377, 4526, 2292, 3637, 562, 1128, 2969, 3335, 4950, 347, 32, 4874, 1115, 1915, 3339, 3161, 2048, 2228, 3081, 3172, 4102, 4277, 1205, 1694, 115, 2525, 3465, 1502, 1714, 1429, 1260, 3667, 3940, 161, 560, 1826, 1967, 4955, 4830, 68, 2342, 3222, 4921, 3983, 4326, 896, 1474, 2025, 223, 1184, 1984, 3309, 3393, 730, 2305, 2876, 1212, 3139, 4678, 1757, 2084, 3268, 1961, 2054, 3674, 402, 965, 2115, 2815, 3445, 3073, 966, 3859, 1042, 3817, 2062, 3349, 2822, 4493, 510, 3840, 4626, 2244, 4366, 4223, 91, 4047, 138, 1330, 2282, 2441, 3762, 4911, 680, 2010, 4330, 4646, 3616, 1248, 431, 1894, 2190, 971, 2848, 3999, 4120, 2277, 303, 355, 2378, 387, 499, 639, 2333, 2857, 3698, 3792, 4022, 3095, 785, 970, 4213, 1592, 2952, 2472, 1052, 3990, 1925, 3516, 156, 2266, 1011, 3713, 1056, 1999, 4925, 3994, 1533, 3927, 2429, 2518, 3107, 4644, 3070, 4534, 4887, 1361, 2752, 638, 2330, 4590, 3014, 3315, 578, 687, 915, 1322, 2094, 3635, 2633, 3404, 1564, 1815, 3554, 4314, 4402, 4941, 3629, 2511, 1896, 803, 1980, 2470, 2791, 999, 3289, 3361, 4272, 4926, 574, 157, 3050, 3902, 4348, 3813, 1169, 2870, 4100, 4824, 1061, 2409, 4632, 1440, 2676, 413, 3831, 3901, 2144, 3973, 4603, 488, 2723, 3908, 3402, 1922, 3355, 81, 815, 2469, 2498, 4028, 599, 551, 2957, 1012, 4540, 204, 3823, 119, 511, 1919, 4954, 3162, 942, 3022, 3799, 331, 1413, 2180, 2285, 2667, 3820, 2499, 3878, 1600, 1875, 2119, 3248, 4878, 1127, 3183, 4885, 441, 2020, 4396, 10, 2783, 4503, 361, 3015, 3933, 34, 2276, 2438, 688, 4712, 4891, 112, 4082, 3189, 4933, 1745, 3532, 3631, 658, 259, 1262, 4526, 3832, 1252, 3199, 392, 3230, 2775, 16, 508, 14, 664, 2926, 2711, 235, 1343, 1375, 3497, 4566, 1355, 4463, 1394, 1515, 3341, 4005, 4341, 136, 3300, 165, 2877, 620, 580, 1257, 1336, 3112, 3544, 4709, 662, 4374, 837, 2584, 425, 874, 2433, 3522, 1651, 2736, 558, 2934, 829, 2059, 927, 289, 1975, 3381, 3563, 4091, 4114, 4460, 2141, 726, 2824, 2886, 871, 4968, 453, 1072, 3080, 4267, 4393, 4408, 4021, 1410, 2641, 4706, 151, 4062, 1662, 2956, 2133, 4376, 1215, 3597, 2901, 4134, 699, 20, 1804, 3237, 1991, 2981, 3153, 1004, 3239, 152, 2578, 1667, 2137, 3317, 3607, 3815, 4024, 1997, 2902, 4919, 2318, 591, 1481, 2362, 3480, 528, 1989, 2867, 4914, 1188, 4496, 4916, 4731, 791, 4721, 4600, 1843, 3195, 4912, 1034, 2840, 4113, 4898, 4946, 2888, 2838, 3896, 4502, 2347, 2992, 1657, 2052, 2804, 2553, 2839, 2231, 2990, 278, 1450, 2249, 4385, 1636, 4361, 165, 1198, 1819, 1309, 2728, 1685, 2618, 2947, 3386, 4572, 78, 409, 1715, 3632, 3787, 1424, 2831, 2900, 4455, 101, 4591, 1213, 1878, 1195, 1959, 2337, 3114, 1995, 4630, 4943, 878, 2058, 2324, 4084, 54, 2533, 1155, 1801, 4088, 4465, 1431, 4241, 1198, 1003, 1514, 4888, 1139, 1463, 175, 1207, 1254, 1008, 1144, 1729, 2300, 2923, 673, 3985, 2530, 2562, 3911, 1282, 3090, 3229, 1768, 3780, 2772, 4292, 75, 3216, 4287, 286, 1331, 3466, 4211, 1809, 2436, 4228, 1209, 2528, 3047, 3292, 4331, 1124, 3945, 4059, 1500, 2431, 4777, 3202, 3429, 769, 3715, 4957, 554, 3127, 3650, 3180, 1137, 1364, 2044, 2881, 3190, 717, 789, 1930, 825, 983, 1546, 3907, 4747, 3034, 4768, 1150, 2304, 2520, 3101, 4285, 4527, 2140, 2142, 333, 3181, 897, 979, 540, 2873, 3720, 690, 521, 2659, 3623, 2776, 4450, 537, 890, 2111, 4016, 2339, 309, 584, 732, 4900, 1049, 1108, 1119, 2358, 2719, 2782, 3390, 4467, 4415, 444, 4340, 4518, 4787, 1595, 2790, 1743, 3394, 3531, 4046, 4316, 4140, 4160, 198, 774, 3433, 3071, 1689, 2763, 1455, 3100, 4517, 854, 1148, 1917, 3889, 1303, 3231, 299, 4434, 572, 1083, 2690, 2995, 4045, 2217, 1658, 3217, 715, 985, 3523, 4428, 1024, 2101, 2408, 3521, 3971, 4179, 4333, 4303, 313, 4994, 3890, 4197, 192, 1485, 4145, 391, 1778, 2607, 1072, 4920, 1524, 1591, 2027, 3691, 765, 2967, 2764, 2920, 28, 92, 1190, 4171, 2922, 764, 464, 882, 82, 1860, 4759, 2835, 3534, 900, 4592, 995, 1460, 3104, 1245, 2473, 3425, 3041, 1567, 2210, 1794, 4536, 4679, 747, 2620, 3526, 1918, 1220, 3179, 4274, 1954, 4449, 4888]))\n"
     ]
    }
   ],
   "source": [
    "na(x)"
   ]
  },
  {
   "cell_type": "code",
   "execution_count": 246,
   "metadata": {},
   "outputs": [
    {
     "data": {
      "text/plain": [
       "2"
      ]
     },
     "execution_count": 246,
     "metadata": {},
     "output_type": "execute_result"
    }
   ],
   "source": [
    "len(x[2])"
   ]
  },
  {
   "cell_type": "code",
   "execution_count": null,
   "metadata": {},
   "outputs": [],
   "source": []
  }
 ],
 "metadata": {
  "kernelspec": {
   "display_name": "Python 3",
   "language": "python",
   "name": "python3"
  },
  "language_info": {
   "codemirror_mode": {
    "name": "ipython",
    "version": 3
   },
   "file_extension": ".py",
   "mimetype": "text/x-python",
   "name": "python",
   "nbconvert_exporter": "python",
   "pygments_lexer": "ipython3",
   "version": "3.7.4"
  }
 },
 "nbformat": 4,
 "nbformat_minor": 2
}
