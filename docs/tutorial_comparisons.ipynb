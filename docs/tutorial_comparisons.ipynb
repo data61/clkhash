{
 "cells": [
  {
   "cell_type": "code",
   "execution_count": 1,
   "metadata": {
    "pycharm": {
     "is_executing": true
    }
   },
   "outputs": [],
   "source": [
    "import random\n",
    "import io\n",
    "import csv\n",
    "import numpy as np\n",
    "import matplotlib.pyplot as plt\n",
    "\n",
    "from clkhash.field_formats import *\n",
    "from clkhash.schema import Schema\n",
    "from clkhash.comparators import NgramComparison, ExactComparison, NumericComparison\n",
    "from clkhash.clk import generate_clk_from_csv"
   ]
  },
  {
   "cell_type": "markdown",
   "metadata": {},
   "source": [
    "# Explanantion of the different comparison techniques\n",
    "\n",
    "The clkhash library is based on the concept of a CLK. This is a special type of Bloom filter, and a Bloom filter is a probabilistic data structure that allow space-efficient testing of set membership.\n",
    "By first tokenising a record and then inserting those tokens into a CLK, the comparison of CLKs approximates the comparisons of the sets of tokens of the CLKs.\n",
    "\n",
    "The challenge lies in finding good tokenisation strategies, as they define what is considered similiar and what is not. We call these tokenisation strategies *comparison techniques*. \n",
    "\n",
    "With Schema v3, we currently support three different comparison techniques:\n",
    "\n",
    "- ngram comparison\n",
    "- exact comparison\n",
    "- numeric comparison\n",
    "\n",
    "In this notebook we describe how these techniques can be used and what type of data they are best suited."
   ]
  },
  {
   "cell_type": "markdown",
   "metadata": {},
   "source": [
    "## n-gram Comparison\n",
    "*n-grams* are a popular technique for [approximate string matching](https://en.wikipedia.org/wiki/N-gram#n-grams_for_approximate_matching). \n",
    "\n",
    "An *n-gram* is a n-tuple of characters which follow one another in a given string.\n",
    "For example, the 2-grams of the string ‘clkhash’ are ‘ c’, ‘cl’, ‘lk’, ‘kh’, ‘ha’, ‘as’, ‘sh’, ‘h ‘. Note the white- space in the first and last token. They serve the purpose to a) indicate the beginning and end of a word, and b) gives every character in the input text a representation in two tokens.\n",
    "\n",
    "The number of *n-grams* in common defines a similiarity measure for comparing strings.\n",
    "The strings ‘clkhash’ and ‘clkhush’ have 6 out of 8 2-grams in common, whereas 'clkhash' and 'anonlink' have none out of 9 in common.\n",
    "\n",
    "A positional n-gram also encodes the position of the n-gram within the word. The positional 2-grams of ‘clkhash’ are ‘1 c’, ‘2 cl’, ‘3 lk’, ‘4 kh’, ‘5 ha’, ‘6 as’, ‘7 sh’, ‘8 h ‘. Positional n-grams can be useful for comparing words where the position of the characters are important, e.g., postcodes or phone numbers.\n",
    "\n",
    "*n-gram* comparison of strings is tolerant to spelling mistakes, as one wrong character will only affect *n* *n-grams*. Thus, the larger you choose ‘n’, the more the error propagates."
   ]
  },
  {
   "cell_type": "markdown",
   "metadata": {},
   "source": [
    "## Exact Comparison\n",
    "\n",
    "The exact comparison technique creates high similarity scores if inputs are identical, and low otherwise. This can be useful when comparing data like credit card numbers or email addresses. It is a good choice whenever data is either an exact match or has no similarity at all. \n",
    "The main advantage of the *Exact Comparison* technique is that it better separates the similarity scores of the matches from the non-matches (but cannot acount for errors).\n",
    "\n",
    "We will show this with the following experiment. First, we create a dataset consisting of random 6-digit numbers. Then we compare the dataset with itself, once encoded with the *Exact Comparison*, and twice encoded with the *Ngram Comparison* (uni- and bi-grams) technique."
   ]
  },
  {
   "cell_type": "code",
   "execution_count": 2,
   "metadata": {},
   "outputs": [],
   "source": [
    "data = [[i, x] for i, x in enumerate(random.sample(range(1000000), k=5000))]\n",
    "a_csv = io.StringIO()\n",
    "csv.writer(a_csv).writerows(data)"
   ]
  },
  {
   "cell_type": "markdown",
   "metadata": {},
   "source": [
    "We define three different schemas, one for each comparison technique."
   ]
  },
  {
   "cell_type": "code",
   "execution_count": 3,
   "metadata": {},
   "outputs": [],
   "source": [
    "unigram_fields = [\n",
    "    Ignore('rec_id'),\n",
    "    IntegerSpec('random', FieldHashingProperties(comparator=NgramComparison(1, True), strategy=BitsPerFeatureStrategy(300))),\n",
    "]\n",
    "unigram_schema = Schema(unigram_fields, 512)\n",
    "\n",
    "\n",
    "bigram_fields = [\n",
    "    Ignore('rec_id'),\n",
    "    IntegerSpec('random', FieldHashingProperties(comparator=NgramComparison(2, True), strategy=BitsPerFeatureStrategy(300))),\n",
    "]\n",
    "bigram_schema = Schema(bigram_fields, 512)\n",
    "\n",
    "\n",
    "exact_fields = [\n",
    "    Ignore('rec_id'),\n",
    "    IntegerSpec('random', FieldHashingProperties(comparator=ExactComparison(), strategy=BitsPerFeatureStrategy(300))),\n",
    "]\n",
    "\n",
    "exact_schema = Schema(exact_fields, 512)\n",
    "\n",
    "\n",
    "secret_key = 'password1234'"
   ]
  },
  {
   "cell_type": "code",
   "execution_count": 4,
   "metadata": {},
   "outputs": [],
   "source": [
    "from bitarray import bitarray\n",
    "import base64\n",
    "import anonlink\n",
    "\n",
    "def deserialize_bitarray(bytes_data):\n",
    "    \"\"\"helper method to convert a serialized clk into a bitarray\"\"\"\n",
    "    ba = bitarray(endian='big')\n",
    "    data_as_bytes = base64.decodebytes(bytes_data.encode())\n",
    "    ba.frombytes(data_as_bytes)\n",
    "    return ba\n",
    "\n",
    "def deserialize_filters(filters):\n",
    "    \"\"\"helper method to convert clkhash output into anonlink readable format\"\"\"\n",
    "    res = []\n",
    "    for i, f in enumerate(filters):\n",
    "        ba = deserialize_bitarray(f)\n",
    "        res.append(ba)\n",
    "    return res\n",
    "\n",
    "def grouped_sim_scores_from_clks(clks_a, clks_b, threshold):\n",
    "    \"\"\"returns the pairwise similarity scores for the provided clks, grouped into matches and non-matches\"\"\"\n",
    "    results_candidate_pairs = anonlink.candidate_generation.find_candidate_pairs(\n",
    "            [clks_a, clks_b],\n",
    "            anonlink.similarities.dice_coefficient,\n",
    "            threshold\n",
    "    )\n",
    "    matches = []\n",
    "    non_matches = []\n",
    "    sims, ds_is, (rec_id0, rec_id1) = results_candidate_pairs\n",
    "    for sim, rec_i0, rec_i1 in zip(sims, rec_id0, rec_id1):\n",
    "        if rec_i0 == rec_i1:\n",
    "            matches.append(sim)\n",
    "        else:\n",
    "            non_matches.append(sim)\n",
    "    return matches, non_matches"
   ]
  },
  {
   "cell_type": "markdown",
   "metadata": {},
   "source": [
    "generate the CLKs according to the three different schemas."
   ]
  },
  {
   "cell_type": "code",
   "execution_count": 5,
   "metadata": {},
   "outputs": [
    {
     "name": "stderr",
     "output_type": "stream",
     "text": [
      "generating CLKs: 100%|██████████| 5.00k/5.00k [00:00<00:00, 11.2kclk/s, mean=229, std=5.9] \n",
      "generating CLKs: 100%|██████████| 5.00k/5.00k [00:00<00:00, 13.1kclk/s, mean=228, std=5.78]\n",
      "generating CLKs: 100%|██████████| 5.00k/5.00k [00:00<00:00, 14.1kclk/s, mean=227, std=5.82]\n"
     ]
    }
   ],
   "source": [
    "a_csv.seek(0)\n",
    "hashed_data_a = generate_clk_from_csv(a_csv, secret_key, unigram_schema, header=False)\n",
    "clks_a_unigram = deserialize_filters(hashed_data_a)\n",
    "a_csv.seek(0)\n",
    "hashed_data_a = generate_clk_from_csv(a_csv, secret_key, bigram_schema, header=False)\n",
    "clks_a_bigram = deserialize_filters(hashed_data_a)\n",
    "a_csv.seek(0)\n",
    "hashed_data_a = generate_clk_from_csv(a_csv, secret_key, exact_schema, header=False)\n",
    "clks_a_exact = deserialize_filters(hashed_data_a)"
   ]
  },
  {
   "cell_type": "markdown",
   "metadata": {},
   "source": [
    "We do an exhaustive pairwise comparison for the CLKs and group the similarity scores into 'matches' - the similarity scores for the correct linkage - and non-matches."
   ]
  },
  {
   "cell_type": "code",
   "execution_count": 6,
   "metadata": {},
   "outputs": [],
   "source": [
    "sims_matches_unigram, sims_non_matches_unigram = grouped_sim_scores_from_clks(clks_a_unigram, clks_a_unigram, 0.0)\n",
    "sims_matches_bigram, sims_non_matches_bigram = grouped_sim_scores_from_clks(clks_a_bigram, clks_a_bigram, 0.0)\n",
    "sims_matches_exact, sims_non_matches_exact = grouped_sim_scores_from_clks(clks_a_exact, clks_a_exact, 0.0)"
   ]
  },
  {
   "cell_type": "markdown",
   "metadata": {},
   "source": [
    "We will plot the similarity scores as histograms. Note the log scale of the y-axis."
   ]
  },
  {
   "cell_type": "code",
   "execution_count": 7,
   "metadata": {},
   "outputs": [
    {
     "data": {
      "image/png": "[encoded data removed]",
      "text/plain": [
       "<Figure size 432x288 with 1 Axes>"
      ]
     },
     "metadata": {
      "needs_background": "light"
     },
     "output_type": "display_data"
    },
    {
     "data": {
      "image/png": "[encoded data removed]",
      "text/plain": [
       "<Figure size 432x288 with 1 Axes>"
      ]
     },
     "metadata": {
      "needs_background": "light"
     },
     "output_type": "display_data"
    },
    {
     "data": {
      "image/png": "[encoded data removed]",
      "text/plain": [
       "<Figure size 432x288 with 1 Axes>"
      ]
     },
     "metadata": {
      "needs_background": "light"
     },
     "output_type": "display_data"
    }
   ],
   "source": [
    "import matplotlib.pyplot as plt\n",
    "plt.style.use('seaborn-deep')\n",
    "\n",
    "plt.hist([sims_matches_unigram, sims_non_matches_unigram], bins=50, label=['matches', 'non-matches'])\n",
    "plt.legend(loc='upper right')\n",
    "plt.yscale('log', nonposy='clip')\n",
    "plt.xlabel('similarity score')\n",
    "plt.title('uni-gram comparison')\n",
    "plt.show()\n",
    "plt.hist([sims_matches_bigram, sims_non_matches_bigram], bins=50, label=['matches', 'non-matches'])\n",
    "plt.legend(loc='upper right')\n",
    "plt.yscale('log', nonposy='clip')\n",
    "plt.xlabel('similarity score')\n",
    "plt.title('bi-gram comparison')\n",
    "plt.show()\n",
    "plt.hist([sims_matches_exact, sims_non_matches_exact], bins=50, label=['matches', 'non-matches'])\n",
    "plt.legend(loc='upper right')\n",
    "plt.yscale('log', nonposy='clip')\n",
    "plt.xlabel('similarity score')\n",
    "plt.title('exact comparison')\n",
    "plt.show()"
   ]
  },
  {
   "cell_type": "markdown",
   "metadata": {},
   "source": [
    "The true matches all lie on the vertical line above the 1.0. We can see that the *Exact Comparison* technique significantly widens the gap between matches and non-matches. \n",
    "Thus increases the range of available solving thresholds (only similarity scores above are considered a potential match) which provide the correct linkage result. "
   ]
  },
  {
   "cell_type": "markdown",
   "metadata": {},
   "source": [
    "## Numeric Comparison\n",
    "This technique enables numerical comparisons of integers and floating point numbers.\n",
    "\n",
    "Comparing numbers creates an interesting challenge. The comparison of 1000 with 1001 should lead to the same result as the comparison of 1000 and 999. They are both exactly 1 apart. However, string-based techniques like n-gram comparison will produce very different results, as the first pair has three digits in common, compared to none in the last pair. \n",
    "\n",
    "We have implemented a technique, where the numerical distance between two numbers relates to the similarity of the produced tokens.\n",
    "\n",
    "We generate a dataset with one column of random 7-digit integers, and a second dataset where we alter the integers of the first dataset by +/- 100. "
   ]
  },
  {
   "cell_type": "code",
   "execution_count": 8,
   "metadata": {},
   "outputs": [],
   "source": [
    "data_A = [[i, random.randrange(10000000)] for i in range(5000)]\n",
    "data_B = [[i, x + random.randint(-100,100)] for i,x in data_A]"
   ]
  },
  {
   "cell_type": "code",
   "execution_count": 9,
   "metadata": {},
   "outputs": [],
   "source": [
    "a_csv = io.StringIO()\n",
    "b_csv = io.StringIO()\n",
    "csv.writer(a_csv).writerows(data_A)\n",
    "csv.writer(b_csv).writerows(data_B)"
   ]
  },
  {
   "cell_type": "markdown",
   "metadata": {},
   "source": [
    "We define two linkage schemas, one for postitional uni-gram comparison and one for numeric comparison.\n",
    "\n",
    "The parameter *resolution* controls how many different token are generated. Clkhash will produce *2 * resolution + 1* tokens (*resolution* tokens on either side of the input value plus the input value iteself).\\\n",
    "And *threshold_distance* controls the sensitivity of the comparison. Only numbers that are not more than *threshold_distance* apart will produce overlapping tokens."
   ]
  },
  {
   "cell_type": "code",
   "execution_count": 10,
   "metadata": {},
   "outputs": [],
   "source": [
    "unigram_fields = [\n",
    "    Ignore('rec_id'),\n",
    "    IntegerSpec('random', \n",
    "                FieldHashingProperties(comparator=NgramComparison(1, True), \n",
    "                                       strategy=BitsPerFeatureStrategy(301))),\n",
    "]\n",
    "unigram_schema = Schema(unigram_fields, 512)\n",
    "\n",
    "numeric_fields = [\n",
    "    Ignore('rec_id'),\n",
    "    IntegerSpec('random', \n",
    "                FieldHashingProperties(comparator=NumericComparison(threshold_distance=500, resolution=150),\n",
    "                                       strategy=BitsPerFeatureStrategy(301))),\n",
    "]\n",
    "numeric_schema = Schema(numeric_fields, 512)\n",
    "\n",
    "secret_key = 'password1234'"
   ]
  },
  {
   "cell_type": "code",
   "execution_count": 11,
   "metadata": {},
   "outputs": [
    {
     "name": "stderr",
     "output_type": "stream",
     "text": [
      "generating CLKs: 100%|██████████| 5.00k/5.00k [00:00<00:00, 11.3kclk/s, mean=229, std=5.84]\n",
      "generating CLKs: 100%|██████████| 5.00k/5.00k [00:00<00:00, 12.5kclk/s, mean=229, std=5.96]\n",
      "generating CLKs: 100%|██████████| 5.00k/5.00k [00:02<00:00, 1.50kclk/s, mean=228, std=5.77]\n",
      "generating CLKs: 100%|██████████| 5.00k/5.00k [00:02<00:00, 1.52kclk/s, mean=228, std=5.85]\n"
     ]
    }
   ],
   "source": [
    "a_csv.seek(0)\n",
    "hashed_data_a = generate_clk_from_csv(a_csv, secret_key, unigram_schema, header=False)\n",
    "clks_a_unigram = deserialize_filters(hashed_data_a)\n",
    "b_csv.seek(0)\n",
    "hashed_data_b = generate_clk_from_csv(b_csv, secret_key, unigram_schema, header=False)\n",
    "clks_b_unigram = deserialize_filters(hashed_data_b)\n",
    "a_csv.seek(0)\n",
    "hashed_data_a = generate_clk_from_csv(a_csv, secret_key, numeric_schema, header=False)\n",
    "clks_a_numeric = deserialize_filters(hashed_data_a)\n",
    "b_csv.seek(0)\n",
    "hashed_data_b = generate_clk_from_csv(b_csv, secret_key, numeric_schema, header=False)\n",
    "clks_b_numeric = deserialize_filters(hashed_data_b)"
   ]
  },
  {
   "cell_type": "markdown",
   "metadata": {},
   "source": [
    "First, we will look at the similarity score distributions. We will group the similiarity scores into *matches* - the similarity scores for the correct linkage - and *non-matches*."
   ]
  },
  {
   "cell_type": "code",
   "execution_count": 12,
   "metadata": {},
   "outputs": [],
   "source": [
    "sims_matches_unigram, sims_non_matches_unigram = grouped_sim_scores_from_clks(clks_a_unigram, clks_b_unigram, 0.0)\n",
    "sims_matches_numeric, sims_non_matches_numeric = grouped_sim_scores_from_clks(clks_a_numeric, clks_b_numeric, 0.0)"
   ]
  },
  {
   "cell_type": "code",
   "execution_count": 13,
   "metadata": {},
   "outputs": [
    {
     "data": {
      "image/png": "[encoded data removed]",
      "text/plain": [
       "<Figure size 432x288 with 1 Axes>"
      ]
     },
     "metadata": {
      "needs_background": "light"
     },
     "output_type": "display_data"
    },
    {
     "data": {
      "image/png": "[encoded data removed]",
      "text/plain": [
       "<Figure size 432x288 with 1 Axes>"
      ]
     },
     "metadata": {
      "needs_background": "light"
     },
     "output_type": "display_data"
    }
   ],
   "source": [
    "plt.style.use('seaborn-deep')\n",
    "\n",
    "plt.hist([sims_matches_unigram, sims_non_matches_unigram], bins=50, label=['matches', 'non-matches'])\n",
    "plt.legend(loc='upper right')\n",
    "plt.yscale('log', nonposy='clip')\n",
    "plt.xlabel('similarity score')\n",
    "plt.title('uni-gram comparison')\n",
    "plt.show()\n",
    "\n",
    "plt.hist([sims_matches_numeric, sims_non_matches_numeric], bins=50, label=['matches', 'non-matches'])\n",
    "plt.legend(loc='upper right')\n",
    "plt.yscale('log', nonposy='clip')\n",
    "plt.xlabel('similarity score')\n",
    "plt.title('numeric comparison')\n",
    "plt.show()"
   ]
  },
  {
   "cell_type": "markdown",
   "metadata": {},
   "source": [
    "The distribution for the numeric comparison is very different to the uni-gram one. The similarity scores of the matches (the correct linkage) in the uni-gram case are mixed-in with the scores of the non-matches, making it challenging for a solver to decide if a similarity score denotes a match or a non-match.\n",
    "\n",
    "The numeric comparison produces similarity scores for matches that mirrors the distribution of the numeric distances. More importanty, there is a good separation between the scores for the matches and the ones for the non-matches. The former are all above 0.8, whereas the latter are almost all (note the log scale) below 0.6.\n",
    "\n",
    "In the next step, we will see how well the solver can find a linkage solution for the different CLKs."
   ]
  },
  {
   "cell_type": "code",
   "execution_count": 14,
   "metadata": {},
   "outputs": [],
   "source": [
    "def mapping_from_clks(clks_a, clks_b, threshold):\n",
    "    \"\"\"computes a mapping between clks_a and clks_b using the anonlink library\"\"\"\n",
    "    results_candidate_pairs = anonlink.candidate_generation.find_candidate_pairs(\n",
    "            [clks_a, clks_b],\n",
    "            anonlink.similarities.dice_coefficient,\n",
    "            threshold\n",
    "    )\n",
    "    solution = anonlink.solving.greedy_solve(results_candidate_pairs)\n",
    "    return set( (a,b) for ((_, a),(_, b)) in solution)\n",
    "\n",
    "true_matches = set((i,i) for i in range(5000))\n",
    "  \n",
    "def describe_matching_quality(found_matches):\n",
    "    \"\"\"computes and prints precision and recall of the found_matches\"\"\"\n",
    "    tp = len(true_matches & found_matches)\n",
    "    fp = len(found_matches - true_matches)\n",
    "    fn = len(true_matches - found_matches)\n",
    "\n",
    "    precision = tp / (tp + fp)\n",
    "    recall = tp / (tp + fn)\n",
    "\n",
    "    print('Precision: {:.3f}, Recall: {:.3f}'.format(precision, recall))"
   ]
  },
  {
   "cell_type": "code",
   "execution_count": 15,
   "metadata": {},
   "outputs": [
    {
     "name": "stdout",
     "output_type": "stream",
     "text": [
      "results for numeric comparisons\n",
      "threshold 0.6:\n",
      "Precision: 0.943, Recall: 0.941\n",
      "threshold 0.7:\n",
      "Precision: 0.945, Recall: 0.941\n",
      "threshold 0.8:\n",
      "Precision: 0.948, Recall: 0.941\n"
     ]
    }
   ],
   "source": [
    "print('results for numeric comparisons')\n",
    "print('threshold 0.6:')\n",
    "describe_matching_quality(mapping_from_clks(clks_a_numeric, clks_b_numeric, 0.6))\n",
    "print('threshold 0.7:')\n",
    "describe_matching_quality(mapping_from_clks(clks_a_numeric, clks_b_numeric, 0.7))\n",
    "print('threshold 0.8:')\n",
    "describe_matching_quality(mapping_from_clks(clks_a_numeric, clks_b_numeric, 0.8))"
   ]
  },
  {
   "cell_type": "code",
   "execution_count": 16,
   "metadata": {},
   "outputs": [
    {
     "name": "stdout",
     "output_type": "stream",
     "text": [
      "results for unigram comparisons\n",
      "threshold 0.6:\n",
      "Precision: 0.386, Recall: 0.383\n",
      "threshold 0.7:\n",
      "Precision: 0.411, Recall: 0.381\n",
      "threshold 0.8:\n",
      "Precision: 0.509, Recall: 0.275\n"
     ]
    }
   ],
   "source": [
    "print('results for unigram comparisons')\n",
    "print('threshold 0.6:')\n",
    "describe_matching_quality(mapping_from_clks(clks_a_unigram, clks_b_unigram, 0.6))\n",
    "print('threshold 0.7:')\n",
    "describe_matching_quality(mapping_from_clks(clks_a_unigram, clks_b_unigram, 0.7))\n",
    "print('threshold 0.8:')\n",
    "describe_matching_quality(mapping_from_clks(clks_a_unigram, clks_b_unigram, 0.8))"
   ]
  },
  {
   "cell_type": "markdown",
   "metadata": {},
   "source": [
    "As expected, we can see that the solver does a lot better when given the CLKs generated with the numeric comparison technique.\n",
    "\n",
    "The other thing that stands out is that the results in with the numeric comparison are stable over a wider range of thresholds, in contrast to the unigram comparison, where different thresholds produce different results, thus making it more challenging to find a good threshold.\n"
   ]
  },
  {
   "cell_type": "markdown",
   "metadata": {},
   "source": [
    "### Conclusions\n",
    "\n",
    "The overall quality of the linkage result is heavily influence by the right choice of comparison technique for each individual feature.\n",
    "In summary:\n",
    "- *n-gram comparison* is best suited for fuzzy string matching. It can account for localised errors like spelling mistakes. \n",
    "- *exact comparison* produces high similiarity only for exact matches, low otherwise. This can be useful if the data is noise-free and partial similarities are not relevant. For instance credit card numbers, even if they only differ in one digit they discribe different accounts and are thus just as different then numbers which don't have any digits in common.\n",
    "- *numeric comparison* provides a measure of similiarity that relates to the numerical distance of two numbers. Example use-cases are measurements like height or weight, continuous variables like salary."
   ]
  }
 ],
 "metadata": {
  "kernelspec": {
   "display_name": "Python 3",
   "language": "python",
   "name": "python3"
  },
  "language_info": {
   "codemirror_mode": {
    "name": "ipython",
    "version": 3
   },
   "file_extension": ".py",
   "mimetype": "text/x-python",
   "name": "python",
   "nbconvert_exporter": "python",
   "pygments_lexer": "ipython3",
   "version": "3.7.4"
  },
  "pycharm": {
   "stem_cell": {
    "cell_type": "raw",
    "metadata": {
     "collapsed": false
    },
    "source": []
   }
  }
 },
 "nbformat": 4,
 "nbformat_minor": 2
}
