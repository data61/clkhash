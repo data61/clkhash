{
 "cells": [
  {
   "cell_type": "markdown",
   "metadata": {},
   "source": [
    "# Tutorial for CLI tool `clkhash`\n",
    "\n",
    "For this tutorial we are going to process a data set for private linkage with clkhash using the command line tool `clkutil` - equivalent to running `python -m clkhash`.\n",
    "\n",
    "Note you can also use the [Python API](./tutorial_api.ipynb).\n",
    "\n",
    "The Python package `recordlinkage` has a [tutorial](http://recordlinkage.readthedocs.io/en/latest/notebooks/link_two_dataframes.html) linking data sets in the clear, we will try duplicate that in a privacy preserving setting.\n",
    "\n",
    "First install clkhash, recordlinkage and a few data science tools (pandas and numpy).\n",
    "\n",
    "    $ pip install -U clkhash recordlinkage numpy pandas"
   ]
  },
  {
   "cell_type": "code",
   "execution_count": 1,
   "metadata": {},
   "outputs": [],
   "source": [
    "import json\n",
    "import numpy as np\n",
    "import pandas as pd"
   ]
  },
  {
   "cell_type": "code",
   "execution_count": 2,
   "metadata": {},
   "outputs": [],
   "source": [
    "import recordlinkage\n",
    "from recordlinkage.datasets import load_febrl4"
   ]
  },
  {
   "cell_type": "markdown",
   "metadata": {
    "pycharm": {}
   },
   "source": [
    "## Data Exploration\n",
    "\n",
    "First we have a look at the dataset."
   ]
  },
  {
   "cell_type": "code",
   "execution_count": 3,
   "metadata": {
    "pycharm": {
     "is_executing": false
    }
   },
   "outputs": [
    {
     "data": {
      "text/html": [
       "<div>\n",
       "<style scoped>\n",
       "    .dataframe tbody tr th:only-of-type {\n",
       "        vertical-align: middle;\n",
       "    }\n",
       "\n",
       "    .dataframe tbody tr th {\n",
       "        vertical-align: top;\n",
       "    }\n",
       "\n",
       "    .dataframe thead th {\n",
       "        text-align: right;\n",
       "    }\n",
       "</style>\n",
       "<table border=\"1\" class=\"dataframe\">\n",
       "  <thead>\n",
       "    <tr style=\"text-align: right;\">\n",
       "      <th></th>\n",
       "      <th>given_name</th>\n",
       "      <th>surname</th>\n",
       "      <th>street_number</th>\n",
       "      <th>address_1</th>\n",
       "      <th>address_2</th>\n",
       "      <th>suburb</th>\n",
       "      <th>postcode</th>\n",
       "      <th>state</th>\n",
       "      <th>date_of_birth</th>\n",
       "      <th>soc_sec_id</th>\n",
       "    </tr>\n",
       "    <tr>\n",
       "      <th>rec_id</th>\n",
       "      <th></th>\n",
       "      <th></th>\n",
       "      <th></th>\n",
       "      <th></th>\n",
       "      <th></th>\n",
       "      <th></th>\n",
       "      <th></th>\n",
       "      <th></th>\n",
       "      <th></th>\n",
       "      <th></th>\n",
       "    </tr>\n",
       "  </thead>\n",
       "  <tbody>\n",
       "    <tr>\n",
       "      <th>rec-1070-org</th>\n",
       "      <td>michaela</td>\n",
       "      <td>neumann</td>\n",
       "      <td>8</td>\n",
       "      <td>stanley street</td>\n",
       "      <td>miami</td>\n",
       "      <td>winston hills</td>\n",
       "      <td>4223</td>\n",
       "      <td>nsw</td>\n",
       "      <td>19151111</td>\n",
       "      <td>5304218</td>\n",
       "    </tr>\n",
       "    <tr>\n",
       "      <th>rec-1016-org</th>\n",
       "      <td>courtney</td>\n",
       "      <td>painter</td>\n",
       "      <td>12</td>\n",
       "      <td>pinkerton circuit</td>\n",
       "      <td>bega flats</td>\n",
       "      <td>richlands</td>\n",
       "      <td>4560</td>\n",
       "      <td>vic</td>\n",
       "      <td>19161214</td>\n",
       "      <td>4066625</td>\n",
       "    </tr>\n",
       "    <tr>\n",
       "      <th>rec-4405-org</th>\n",
       "      <td>charles</td>\n",
       "      <td>green</td>\n",
       "      <td>38</td>\n",
       "      <td>salkauskas crescent</td>\n",
       "      <td>kela</td>\n",
       "      <td>dapto</td>\n",
       "      <td>4566</td>\n",
       "      <td>nsw</td>\n",
       "      <td>19480930</td>\n",
       "      <td>4365168</td>\n",
       "    </tr>\n",
       "    <tr>\n",
       "      <th>rec-1288-org</th>\n",
       "      <td>vanessa</td>\n",
       "      <td>parr</td>\n",
       "      <td>905</td>\n",
       "      <td>macquoid place</td>\n",
       "      <td>broadbridge manor</td>\n",
       "      <td>south grafton</td>\n",
       "      <td>2135</td>\n",
       "      <td>sa</td>\n",
       "      <td>19951119</td>\n",
       "      <td>9239102</td>\n",
       "    </tr>\n",
       "    <tr>\n",
       "      <th>rec-3585-org</th>\n",
       "      <td>mikayla</td>\n",
       "      <td>malloney</td>\n",
       "      <td>37</td>\n",
       "      <td>randwick road</td>\n",
       "      <td>avalind</td>\n",
       "      <td>hoppers crossing</td>\n",
       "      <td>4552</td>\n",
       "      <td>vic</td>\n",
       "      <td>19860208</td>\n",
       "      <td>7207688</td>\n",
       "    </tr>\n",
       "  </tbody>\n",
       "</table>\n",
       "</div>"
      ],
      "text/plain": [
       "             given_name   surname street_number            address_1  \\\n",
       "rec_id                                                                 \n",
       "rec-1070-org   michaela   neumann             8       stanley street   \n",
       "rec-1016-org   courtney   painter            12    pinkerton circuit   \n",
       "rec-4405-org    charles     green            38  salkauskas crescent   \n",
       "rec-1288-org    vanessa      parr           905       macquoid place   \n",
       "rec-3585-org    mikayla  malloney            37        randwick road   \n",
       "\n",
       "                      address_2            suburb postcode state  \\\n",
       "rec_id                                                             \n",
       "rec-1070-org              miami     winston hills     4223   nsw   \n",
       "rec-1016-org         bega flats         richlands     4560   vic   \n",
       "rec-4405-org               kela             dapto     4566   nsw   \n",
       "rec-1288-org  broadbridge manor     south grafton     2135    sa   \n",
       "rec-3585-org            avalind  hoppers crossing     4552   vic   \n",
       "\n",
       "             date_of_birth soc_sec_id  \n",
       "rec_id                                 \n",
       "rec-1070-org      19151111    5304218  \n",
       "rec-1016-org      19161214    4066625  \n",
       "rec-4405-org      19480930    4365168  \n",
       "rec-1288-org      19951119    9239102  \n",
       "rec-3585-org      19860208    7207688  "
      ]
     },
     "execution_count": 3,
     "metadata": {},
     "output_type": "execute_result"
    }
   ],
   "source": [
    "dfA, dfB = load_febrl4()\n",
    "\n",
    "dfA.head()"
   ]
  },
  {
   "cell_type": "markdown",
   "metadata": {
    "pycharm": {}
   },
   "source": [
    "Note that for computing this linkage we will **not** use the social security id column or the `rec_id` index."
   ]
  },
  {
   "cell_type": "code",
   "execution_count": 4,
   "metadata": {
    "pycharm": {
     "is_executing": false
    }
   },
   "outputs": [
    {
     "data": {
      "text/plain": [
       "Index(['given_name', 'surname', 'street_number', 'address_1', 'address_2',\n",
       "       'suburb', 'postcode', 'state', 'date_of_birth', 'soc_sec_id'],\n",
       "      dtype='object')"
      ]
     },
     "execution_count": 4,
     "metadata": {},
     "output_type": "execute_result"
    }
   ],
   "source": [
    "dfA.columns"
   ]
  },
  {
   "cell_type": "code",
   "execution_count": 5,
   "metadata": {
    "pycharm": {
     "is_executing": false
    }
   },
   "outputs": [],
   "source": [
    "dfA.to_csv('PII_a.csv')"
   ]
  },
  {
   "cell_type": "markdown",
   "metadata": {
    "pycharm": {}
   },
   "source": [
    "## Hashing Schema Definition\n",
    "\n",
    "A hashing schema instructs clkhash how to treat each column for generating CLKs. A detailed description of the hashing schema can be found in the [api docs](http://clkhash.readthedocs.io/en/latest/schema.html). We will ignore the columns 'rec_id' and 'soc_sec_id' for CLK generation.\n",
    "\n"
   ]
  },
  {
   "cell_type": "code",
   "execution_count": 6,
   "metadata": {
    "pycharm": {
     "is_executing": false
    }
   },
   "outputs": [
    {
     "name": "stdout",
     "output_type": "stream",
     "text": [
      "{\n",
      "  \"version\": 2,\n",
      "  \"clkConfig\": {\n",
      "    \"l\": 1024,\n",
      "    \"kdf\": {\n",
      "      \"type\": \"HKDF\",\n",
      "      \"hash\": \"SHA256\",\n",
      "        \"info\": \"c2NoZW1hX2V4YW1wbGU=\",\n",
      "        \"salt\": \"SCbL2zHNnmsckfzchsNkZY9XoHk96P/G5nUBrM7ybymlEFsMV6PAeDZCNp3rfNUPCtLDMOGQHG4pCQpfhiHCyA==\",\n",
      "        \"keySize\": 64\n",
      "    }\n",
      "  },\n",
      "  \"features\": [\n",
      "    {\n",
      "      \"identifier\": \"rec_id\",\n",
      "      \"ignored\": true\n",
      "    },\n",
      "    {\n",
      "      \"identifier\": \"given_name\",\n",
      "      \"format\": { \"type\": \"string\", \"encoding\": \"utf-8\", \"maxLength\": 64 },\n",
      "      \"hashing\": { \"ngram\": 2, \"strategy\": {\"numBits\": 300}, \"hash\": {\"type\": \"doubleHash\"} }\n",
      "    },\n",
      "    {\n",
      "      \"identifier\": \"surname\",\n",
      "      \"format\": { \"type\": \"string\", \"encoding\": \"utf-8\", \"maxLength\": 64 },\n",
      "      \"hashing\": { \"ngram\": 2, \"strategy\": {\"numBits\": 300}, \"hash\": {\"type\": \"doubleHash\"} }\n",
      "    },\n",
      "    {\n",
      "      \"identifier\": \"street_number\",\n",
      "      \"format\": { \"type\": \"integer\" },\n",
      "      \"hashing\": { \"ngram\": 1, \"positional\": true, \"strategy\": {\"numBits\": 300}, \"missingValue\": {\"sentinel\": \"\"} }\n",
      "    },\n",
      "    {\n",
      "      \"identifier\": \"address_1\",\n",
      "      \"format\": { \"type\": \"string\", \"encoding\": \"utf-8\" },\n",
      "      \"hashing\": { \"ngram\": 2, \"strategy\": {\"numBits\":  300} }\n",
      "    },\n",
      "    {\n",
      "      \"identifier\": \"address_2\",\n",
      "      \"format\": { \"type\": \"string\", \"encoding\": \"utf-8\" },\n",
      "      \"hashing\": { \"ngram\": 2, \"strategy\": {\"numBits\":  300} }\n",
      "    },\n",
      "    {\n",
      "      \"identifier\": \"suburb\",\n",
      "      \"format\": { \"type\": \"string\", \"encoding\": \"utf-8\" },\n",
      "      \"hashing\": { \"ngram\": 2, \"strategy\": {\"numBits\":  300} }\n",
      "    },\n",
      "    {\n",
      "      \"identifier\": \"postcode\",\n",
      "      \"format\": { \"type\": \"integer\", \"minimum\": 100, \"maximum\": 9999 },\n",
      "      \"hashing\": { \"ngram\": 1, \"positional\": true, \"strategy\": {\"numBits\":  300} }\n",
      "    },\n",
      "    {\n",
      "      \"identifier\": \"state\",\n",
      "      \"format\": { \"type\": \"string\", \"encoding\": \"utf-8\", \"maxLength\": 3 },\n",
      "      \"hashing\": { \"ngram\": 2, \"strategy\": {\"numBits\": 300} }\n",
      "    },\n",
      "    {\n",
      "      \"identifier\": \"date_of_birth\",\n",
      "      \"format\": { \"type\": \"integer\" },\n",
      "      \"hashing\": { \"ngram\": 1, \"positional\": true, \"strategy\": {\"numBits\":  300}, \"missingValue\": {\"sentinel\": \"\"} }\n",
      "    },\n",
      "    {\n",
      "      \"identifier\": \"soc_sec_id\",\n",
      "      \"ignored\": true\n",
      "    }\n",
      "  ]\n",
      "}\n",
      "\n"
     ]
    }
   ],
   "source": [
    "with open(\"_static/febrl_schema_v2_overweight.json\") as f:\n",
    "    print(f.read())"
   ]
  },
  {
   "cell_type": "markdown",
   "metadata": {
    "pycharm": {}
   },
   "source": [
    "## Validate the schema\n",
    "\n",
    "The command line tool can check that the linkage schema is valid:"
   ]
  },
  {
   "cell_type": "code",
   "execution_count": 7,
   "metadata": {
    "pycharm": {}
   },
   "outputs": [
    {
     "name": "stderr",
     "output_type": "stream",
     "text": [
      "schema is valid\n"
     ]
    }
   ],
   "source": [
    "!clkutil validate-schema _static/febrl_schema_v2_overweight.json"
   ]
  },
  {
   "cell_type": "markdown",
   "metadata": {
    "pycharm": {}
   },
   "source": [
    "## Hash the data\n",
    "\n",
    "We can now hash our Personally Identifiable Information (PII) data from the CSV file using our defined linkage schema. We must provide two *secret keys* to this command - these keys have to be used by both parties hashing data. For this toy example we will use the keys _'key1'_ and _'key2'_, for real data, make sure that the keys contain enough entropy, as knowledge of these keys is sufficient to reconstruct the PII information from a CLK! Also, **do not share these keys with anyone, except the other participating party.**"
   ]
  },
  {
   "cell_type": "code",
   "execution_count": 8,
   "metadata": {
    "pycharm": {
     "is_executing": false
    }
   },
   "outputs": [
    {
     "name": "stderr",
     "output_type": "stream",
     "text": [
      "\n",
      "generating CLKs:   0%|          | 0.00/5.00k [00:00<?, ?clk/s, mean=0, std=0]\n",
      "generating CLKs:   4%|4         | 200/5.00k [00:02<00:50, 95.7clk/s, mean=949, std=11.5]\n",
      "generating CLKs:  24%|##4       | 1.20k/5.00k [00:02<00:27, 136clk/s, mean=949, std=10.4]\n",
      "generating CLKs:  36%|###6      | 1.80k/5.00k [00:02<00:17, 186clk/s, mean=949, std=10.1]\n",
      "generating CLKs:  48%|####8     | 2.40k/5.00k [00:02<00:09, 262clk/s, mean=949, std=9.89]\n",
      "generating CLKs:  68%|######8   | 3.40k/5.00k [00:03<00:04, 359clk/s, mean=949, std=9.66]\n",
      "generating CLKs:  84%|########4 | 4.20k/5.00k [00:03<00:01, 502clk/s, mean=949, std=9.73]\n",
      "generating CLKs: 100%|##########| 5.00k/5.00k [00:03<00:00, 686clk/s, mean=949, std=9.82]\n",
      "CLK data written to clks_a.json\n"
     ]
    }
   ],
   "source": [
    "!clkutil hash PII_a.csv key1 key2 _static/febrl_schema_v2_overweight.json clks_a.json"
   ]
  },
  {
   "cell_type": "markdown",
   "metadata": {
    "pycharm": {}
   },
   "source": [
    "## Inspect the output\n",
    "\n",
    "clkhash has hashed the PII, creating a Cryptographic Longterm Key for each entity. The stats output shows that the mean popcount (number of bits set) is quite high (949 out of 1024) which can effect accuracy.\n",
    "\n",
    "To reduce the popcount you can modify the individual _'numBits'_ values for the different fields. It allows to tune the contribution of a column to the CLK. This can be used to de-emphasise columns which are less suitable for linkage (e.g. information that changes frequently)."
   ]
  },
  {
   "cell_type": "markdown",
   "metadata": {
    "pycharm": {}
   },
   "source": [
    "First, we will reduce the value of *numBits* for each feature."
   ]
  },
  {
   "cell_type": "code",
   "execution_count": 9,
   "metadata": {
    "pycharm": {}
   },
   "outputs": [
    {
     "name": "stdout",
     "output_type": "stream",
     "text": [
      "{\n",
      "  \"version\": 2,\n",
      "  \"clkConfig\": {\n",
      "    \"l\": 1024,\n",
      "    \"kdf\": {\n",
      "      \"type\": \"HKDF\",\n",
      "      \"hash\": \"SHA256\",\n",
      "        \"info\": \"c2NoZW1hX2V4YW1wbGU=\",\n",
      "        \"salt\": \"SCbL2zHNnmsckfzchsNkZY9XoHk96P/G5nUBrM7ybymlEFsMV6PAeDZCNp3rfNUPCtLDMOGQHG4pCQpfhiHCyA==\",\n",
      "        \"keySize\": 64\n",
      "    }\n",
      "  },\n",
      "  \"features\": [\n",
      "    {\n",
      "      \"identifier\": \"rec_id\",\n",
      "      \"ignored\": true\n",
      "    },\n",
      "    {\n",
      "      \"identifier\": \"given_name\",\n",
      "      \"format\": { \"type\": \"string\", \"encoding\": \"utf-8\", \"maxLength\": 64 },\n",
      "      \"hashing\": { \"ngram\": 2, \"strategy\": {\"numBits\": 200}, \"hash\": {\"type\": \"doubleHash\"} }\n",
      "    },\n",
      "    {\n",
      "      \"identifier\": \"surname\",\n",
      "      \"format\": { \"type\": \"string\", \"encoding\": \"utf-8\", \"maxLength\": 64 },\n",
      "      \"hashing\": { \"ngram\": 2, \"strategy\": {\"numBits\": 200}, \"hash\": {\"type\": \"doubleHash\"} }\n",
      "    },\n",
      "    {\n",
      "      \"identifier\": \"street_number\",\n",
      "      \"format\": { \"type\": \"integer\" },\n",
      "      \"hashing\": { \"ngram\": 1, \"positional\": true, \"strategy\": {\"numBits\": 200}, \"missingValue\": {\"sentinel\": \"\"} }\n",
      "    },\n",
      "    {\n",
      "      \"identifier\": \"address_1\",\n",
      "      \"format\": { \"type\": \"string\", \"encoding\": \"utf-8\" },\n",
      "      \"hashing\": { \"ngram\": 2, \"strategy\": {\"numBits\":  200} }\n",
      "    },\n",
      "    {\n",
      "      \"identifier\": \"address_2\",\n",
      "      \"format\": { \"type\": \"string\", \"encoding\": \"utf-8\" },\n",
      "      \"hashing\": { \"ngram\": 2, \"strategy\": {\"numBits\":  200} }\n",
      "    },\n",
      "    {\n",
      "      \"identifier\": \"suburb\",\n",
      "      \"format\": { \"type\": \"string\", \"encoding\": \"utf-8\" },\n",
      "      \"hashing\": { \"ngram\": 2, \"strategy\": {\"numBits\":  200} }\n",
      "    },\n",
      "    {\n",
      "      \"identifier\": \"postcode\",\n",
      "      \"format\": { \"type\": \"integer\", \"minimum\": 100, \"maximum\": 9999 },\n",
      "      \"hashing\": { \"ngram\": 1, \"positional\": true, \"strategy\": {\"numBits\":  200} }\n",
      "    },\n",
      "    {\n",
      "      \"identifier\": \"state\",\n",
      "      \"format\": { \"type\": \"string\", \"encoding\": \"utf-8\", \"maxLength\": 3 },\n",
      "      \"hashing\": { \"ngram\": 2, \"strategy\": {\"numBits\": 200} }\n",
      "    },\n",
      "    {\n",
      "      \"identifier\": \"date_of_birth\",\n",
      "      \"format\": { \"type\": \"integer\" },\n",
      "      \"hashing\": { \"ngram\": 1, \"positional\": true, \"strategy\": {\"numBits\":  200}, \"missingValue\": {\"sentinel\": \"\"} }\n",
      "    },\n",
      "    {\n",
      "      \"identifier\": \"soc_sec_id\",\n",
      "      \"ignored\": true\n",
      "    }\n",
      "  ]\n",
      "}\n",
      "\n"
     ]
    }
   ],
   "source": [
    "with open(\"_static/febrl_schema_v2_reduced.json\") as f:\n",
    "    print(f.read())"
   ]
  },
  {
   "cell_type": "code",
   "execution_count": 10,
   "metadata": {
    "pycharm": {
     "is_executing": false
    }
   },
   "outputs": [
    {
     "name": "stderr",
     "output_type": "stream",
     "text": [
      "\n",
      "generating CLKs:   0%|          | 0.00/5.00k [00:00<?, ?clk/s, mean=0, std=0]\n",
      "generating CLKs:   4%|4         | 200/5.00k [00:01<00:46, 104clk/s, mean=843, std=15.2]\n",
      "generating CLKs:  32%|###2      | 1.60k/5.00k [00:02<00:22, 148clk/s, mean=843, std=14.3]\n",
      "generating CLKs:  40%|####      | 2.00k/5.00k [00:02<00:14, 205clk/s, mean=844, std=13.9]\n",
      "generating CLKs:  64%|######4   | 3.20k/5.00k [00:02<00:06, 290clk/s, mean=843, std=13.7]\n",
      "generating CLKs:  76%|#######6  | 3.80k/5.00k [00:02<00:03, 395clk/s, mean=844, std=13.6]\n",
      "generating CLKs: 100%|##########| 5.00k/5.00k [00:02<00:00, 549clk/s, mean=843, std=13.8]\n",
      "CLK data written to clks_a.json\n"
     ]
    }
   ],
   "source": [
    "!clkutil hash PII_a.csv key1 key2 _static/febrl_schema_v2_reduced.json clks_a.json"
   ]
  },
  {
   "cell_type": "markdown",
   "metadata": {
    "pycharm": {}
   },
   "source": [
    "And now we will modify the `numBits` values again, this time de-emphasising the contribution of the address related columns."
   ]
  },
  {
   "cell_type": "code",
   "execution_count": 11,
   "metadata": {
    "pycharm": {
     "is_executing": false
    }
   },
   "outputs": [
    {
     "name": "stdout",
     "output_type": "stream",
     "text": [
      "{\n",
      "  \"version\": 2,\n",
      "  \"clkConfig\": {\n",
      "    \"l\": 1024,\n",
      "    \"kdf\": {\n",
      "      \"type\": \"HKDF\",\n",
      "      \"hash\": \"SHA256\",\n",
      "        \"info\": \"c2NoZW1hX2V4YW1wbGU=\",\n",
      "        \"salt\": \"SCbL2zHNnmsckfzchsNkZY9XoHk96P/G5nUBrM7ybymlEFsMV6PAeDZCNp3rfNUPCtLDMOGQHG4pCQpfhiHCyA==\",\n",
      "        \"keySize\": 64\n",
      "    }\n",
      "  },\n",
      "  \"features\": [\n",
      "    {\n",
      "      \"identifier\": \"rec_id\",\n",
      "      \"ignored\": true\n",
      "    },\n",
      "    {\n",
      "      \"identifier\": \"given_name\",\n",
      "      \"format\": { \"type\": \"string\", \"encoding\": \"utf-8\", \"maxLength\": 64 },\n",
      "      \"hashing\": { \"ngram\": 2, \"strategy\": {\"numBits\": 200}, \"hash\": {\"type\": \"doubleHash\"} }\n",
      "    },\n",
      "    {\n",
      "      \"identifier\": \"surname\",\n",
      "      \"format\": { \"type\": \"string\", \"encoding\": \"utf-8\", \"maxLength\": 64 },\n",
      "      \"hashing\": { \"ngram\": 2, \"strategy\": {\"numBits\": 200}, \"hash\": {\"type\": \"doubleHash\"} }\n",
      "    },\n",
      "    {\n",
      "      \"identifier\": \"street_number\",\n",
      "      \"format\": { \"type\": \"integer\" },\n",
      "      \"hashing\": { \"ngram\": 1, \"positional\": true, \"strategy\": {\"numBits\": 100}, \"missingValue\": {\"sentinel\": \"\"} }\n",
      "    },\n",
      "    {\n",
      "      \"identifier\": \"address_1\",\n",
      "      \"format\": { \"type\": \"string\", \"encoding\": \"utf-8\" },\n",
      "      \"hashing\": { \"ngram\": 2, \"strategy\": {\"numBits\":  100} }\n",
      "    },\n",
      "    {\n",
      "      \"identifier\": \"address_2\",\n",
      "      \"format\": { \"type\": \"string\", \"encoding\": \"utf-8\" },\n",
      "      \"hashing\": { \"ngram\": 2, \"strategy\": {\"numBits\":  100} }\n",
      "    },\n",
      "    {\n",
      "      \"identifier\": \"suburb\",\n",
      "      \"format\": { \"type\": \"string\", \"encoding\": \"utf-8\" },\n",
      "      \"hashing\": { \"ngram\": 2, \"strategy\": {\"numBits\":  100} }\n",
      "    },\n",
      "    {\n",
      "      \"identifier\": \"postcode\",\n",
      "      \"format\": { \"type\": \"integer\", \"minimum\": 50, \"maximum\": 9999 },\n",
      "      \"hashing\": { \"ngram\": 1, \"positional\": true, \"strategy\": {\"numBits\":  100} }\n",
      "    },\n",
      "    {\n",
      "      \"identifier\": \"state\",\n",
      "      \"format\": { \"type\": \"string\", \"encoding\":  \"utf-8\"},\n",
      "      \"hashing\": {\"ngram\": 2, \"positional\": true, \"strategy\": {\"numBits\": 100}, \"missingValue\": {\"sentinel\":  \"\"}\n",
      "      }\n",
      "    },\n",
      "    {\n",
      "      \"identifier\": \"date_of_birth\",\n",
      "      \"format\": { \"type\": \"integer\" },\n",
      "      \"hashing\": { \"ngram\": 1, \"positional\": true, \"strategy\": {\"numBits\":  200}, \"missingValue\": {\"sentinel\": \"\"} }\n",
      "    },\n",
      "    {\n",
      "      \"identifier\": \"soc_sec_id\",\n",
      "      \"ignored\": true\n",
      "    }\n",
      "  ]\n",
      "}\n",
      "\n"
     ]
    }
   ],
   "source": [
    "with open(\"_static/febrl_schema_v2_final.json\") as f:\n",
    "    print(f.read())"
   ]
  },
  {
   "cell_type": "code",
   "execution_count": 12,
   "metadata": {
    "pycharm": {}
   },
   "outputs": [
    {
     "name": "stderr",
     "output_type": "stream",
     "text": [
      "\n",
      "generating CLKs:   0%|          | 0.00/5.00k [00:00<?, ?clk/s, mean=0, std=0]\n",
      "generating CLKs:   4%|4         | 200/5.00k [00:01<00:45, 106clk/s, mean=703, std=18.8]\n",
      "generating CLKs:  28%|##8       | 1.40k/5.00k [00:01<00:23, 151clk/s, mean=705, std=16.4]\n",
      "generating CLKs:  36%|###6      | 1.80k/5.00k [00:02<00:15, 210clk/s, mean=705, std=16.2]\n",
      "generating CLKs:  60%|######    | 3.00k/5.00k [00:02<00:06, 297clk/s, mean=705, std=16]  \n",
      "generating CLKs:  72%|#######2  | 3.60k/5.00k [00:02<00:03, 410clk/s, mean=705, std=16]\n",
      "generating CLKs:  96%|#########6| 4.80k/5.00k [00:02<00:00, 575clk/s, mean=705, std=16]\n",
      "generating CLKs: 100%|##########| 5.00k/5.00k [00:02<00:00, 1.87kclk/s, mean=705, std=16]\n",
      "CLK data written to clks_a.json\n"
     ]
    }
   ],
   "source": [
    "!clkutil hash PII_a.csv key1 key2 _static/febrl_schema_v2_final.json clks_a.json"
   ]
  },
  {
   "cell_type": "markdown",
   "metadata": {
    "pycharm": {}
   },
   "source": [
    "Great, now approximately half the bits are set in each CLK. \n",
    "\n",
    "Each CLK is serialized in a JSON friendly base64 format:"
   ]
  },
  {
   "cell_type": "code",
   "execution_count": 13,
   "metadata": {
    "pycharm": {
     "is_executing": false
    }
   },
   "outputs": [
    {
     "data": {
      "text/plain": [
       "'unsZ/W7D35s8q759bf77155ean+p8fq96fzf9u9bnXf3rX2gGfntPvR2/tOd314aOvuv/97z+lrY8st+fP8PYVd9/KjZN6rMx+T/O6r/v/Hdvt1f1at2+f+Xe53iX94f9988b3mhTsIQbf+7Xr3Sff71fuze9k3sX++db4d73v0='"
      ]
     },
     "execution_count": 13,
     "metadata": {},
     "output_type": "execute_result"
    }
   ],
   "source": [
    "# If you have jq tool installed:\n",
    "#!jq .clks[0] clks_a.json\n",
    "\n",
    "import json\n",
    "json.load(open('clks_a.json'))['clks'][0]"
   ]
  },
  {
   "cell_type": "markdown",
   "metadata": {
    "pycharm": {}
   },
   "source": [
    "## Hash data set B\n",
    "\n",
    "Now we hash the second dataset using the same keys and same schema."
   ]
  },
  {
   "cell_type": "code",
   "execution_count": 14,
   "metadata": {
    "pycharm": {
     "is_executing": false
    }
   },
   "outputs": [
    {
     "name": "stderr",
     "output_type": "stream",
     "text": [
      "\n",
      "generating CLKs:   0%|          | 0.00/5.00k [00:00<?, ?clk/s, mean=0, std=0]\n",
      "generating CLKs:   4%|4         | 200/5.00k [00:01<00:44, 107clk/s, mean=703, std=19.5]\n",
      "generating CLKs:  32%|###2      | 1.60k/5.00k [00:02<00:22, 152clk/s, mean=703, std=19.5]\n",
      "generating CLKs:  40%|####      | 2.00k/5.00k [00:02<00:14, 213clk/s, mean=704, std=19.4]\n",
      "generating CLKs:  64%|######4   | 3.20k/5.00k [00:02<00:06, 299clk/s, mean=703, std=19.6]\n",
      "generating CLKs:  92%|#########2| 4.60k/5.00k [00:02<00:00, 423clk/s, mean=703, std=19.4]\n",
      "generating CLKs: 100%|##########| 5.00k/5.00k [00:02<00:00, 1.85kclk/s, mean=703, std=19.4]\n",
      "CLK data written to clks_b.json\n"
     ]
    }
   ],
   "source": [
    "dfB.to_csv('PII_b.csv')\n",
    "\n",
    "!clkutil hash PII_b.csv key1 key2 _static/febrl_schema_v2_final.json clks_b.json"
   ]
  },
  {
   "cell_type": "markdown",
   "metadata": {
    "pycharm": {}
   },
   "source": [
    "## Find matches between the two sets of CLKs\n",
    "\n",
    "We have generated two sets of CLKs which represent entity information in a privacy-preserving way. The more similar two CLKs are, the more likely it is that they represent the same entity.\n",
    "\n",
    "For this task we will use the entity service, which is provided by Data61. \n",
    "The necessary steps are as follows:\n",
    "- The analyst creates a new project with the output type 'mapping'. They will receive a set of credentials from the server.\n",
    "- The analyst then distributes the `update_tokens` to the participating data providers.\n",
    "- The data providers then individually upload their respective CLKs.\n",
    "- The analyst can create *runs* with various thresholds (and other settings)\n",
    "- After the entity service successfully computed the mapping, it can be accessed by providing the `result_token`\n",
    "\n",
    "First we check the status of an entity service:"
   ]
  },
  {
   "cell_type": "code",
   "execution_count": 15,
   "metadata": {
    "pycharm": {
     "is_executing": false
    }
   },
   "outputs": [
    {
     "name": "stdout",
     "output_type": "stream",
     "text": [
      "{\"project_count\": 3190, \"rate\": 3038200, \"status\": \"ok\"}\n"
     ]
    }
   ],
   "source": [
    "SERVER = 'https://testing.es.data61.xyz'\n",
    "\n",
    "!clkutil status --server={SERVER}"
   ]
  },
  {
   "cell_type": "markdown",
   "metadata": {
    "pycharm": {}
   },
   "source": [
    "The analyst creates a new project on the entity service by providing the hashing schema and result type. The server returns a set of credentials which provide access to the further steps for project."
   ]
  },
  {
   "cell_type": "code",
   "execution_count": 16,
   "metadata": {
    "pycharm": {
     "is_executing": false
    }
   },
   "outputs": [
    {
     "name": "stderr",
     "output_type": "stream",
     "text": [
      "Project created\n"
     ]
    }
   ],
   "source": [
    "!clkutil create-project --server={SERVER} --schema _static/febrl_schema_v2_final.json --output credentials.json --type \"mapping\" --name \"tutorial\""
   ]
  },
  {
   "cell_type": "markdown",
   "metadata": {
    "pycharm": {}
   },
   "source": [
    "The returned credentials contain a \n",
    "- `project_id`, which identifies the project\n",
    "- `result_token`, which gives access to the mapping result, once computed\n",
    "- `upload_tokens`, one for each provider, allows uploading CLKs."
   ]
  },
  {
   "cell_type": "code",
   "execution_count": 17,
   "metadata": {
    "pycharm": {
     "is_executing": false
    }
   },
   "outputs": [
    {
     "name": "stdout",
     "output_type": "stream",
     "text": [
      "{\n",
      "    \"project_id\": \"7566e6ce2393a8526a61546e3afd773d0315eeb78f0f96a6\",\n",
      "    \"result_token\": \"0dbefa177bdd563992f10ad61058a2e2c62d9a37b0b58313\",\n",
      "    \"update_tokens\": [\n",
      "        \"5895af702cf92ad0e1a7d2dd45c7cb7d7eb4f891cc4c5559\",\n",
      "        \"798f97a7e5f3bb69cb539bc49bda5ab0fc2c8eab014a3c39\"\n",
      "    ]\n",
      "}\n"
     ]
    }
   ],
   "source": [
    "credentials = json.load(open('credentials.json', 'rt'))\n",
    "print(json.dumps(credentials, indent=4))"
   ]
  },
  {
   "cell_type": "markdown",
   "metadata": {
    "pycharm": {}
   },
   "source": [
    "### Uploading the CLKs to the entity service\n",
    "Each party individually uploads its respective CLKs to the entity service. They need to provide the `resource_id`, which identifies the correct mapping, and an `update_token`."
   ]
  },
  {
   "cell_type": "code",
   "execution_count": 18,
   "metadata": {
    "pycharm": {
     "is_executing": false
    }
   },
   "outputs": [],
   "source": [
    "!clkutil upload \\\n",
    "       --project=\"{credentials['project_id']}\" \\\n",
    "        --apikey=\"{credentials['update_tokens'][0]}\" \\\n",
    "        --output \"upload_a.json\" \\\n",
    "        --server=\"{SERVER}\" \\\n",
    "       \"clks_a.json\"\n",
    "    \n",
    "!clkutil upload \\\n",
    "       --project=\"{credentials['project_id']}\" \\\n",
    "        --apikey=\"{credentials['update_tokens'][1]}\" \\\n",
    "        --output \"upload_b.json\" \\\n",
    "        --server=\"{SERVER}\" \\\n",
    "       \"clks_b.json\""
   ]
  },
  {
   "cell_type": "markdown",
   "metadata": {
    "pycharm": {}
   },
   "source": [
    "Now that the CLK data has been uploaded the analyst can create one or more *runs*. Here we will start by calculating a mapping with a threshold of `0.9`:"
   ]
  },
  {
   "cell_type": "code",
   "execution_count": 19,
   "metadata": {
    "pycharm": {}
   },
   "outputs": [
    {
     "name": "stderr",
     "output_type": "stream",
     "text": [
      "Entity Matching Server: https://testing.es.data61.xyz\n"
     ]
    }
   ],
   "source": [
    "!clkutil create --verbose  \\\n",
    "    --server=\"{SERVER}\" \\\n",
    "    --output \"run_info.json\" \\\n",
    "    --threshold=0.9 \\\n",
    "    --project=\"{credentials['project_id']}\" \\\n",
    "    --apikey=\"{credentials['result_token']}\" \\\n",
    "    --name=\"CLI tutorial run A\""
   ]
  },
  {
   "cell_type": "code",
   "execution_count": 20,
   "metadata": {
    "pycharm": {}
   },
   "outputs": [
    {
     "data": {
      "text/plain": [
       "{'name': 'CLI tutorial run A',\n",
       " 'notes': 'Run created by clkhash 0.13.1b1',\n",
       " 'run_id': 'dc345d8e1a20b169bd23559eb1fdd993309511c8b8a6e2f4',\n",
       " 'threshold': 0.9}"
      ]
     },
     "execution_count": 20,
     "metadata": {},
     "output_type": "execute_result"
    }
   ],
   "source": [
    "run_info = json.load(open('run_info.json', 'rt'))\n",
    "run_info"
   ]
  },
  {
   "cell_type": "markdown",
   "metadata": {
    "pycharm": {}
   },
   "source": [
    "## Results\n",
    "\n",
    "Now after some delay (depending on the size) we can fetch the results. This can be done with clkutil:"
   ]
  },
  {
   "cell_type": "code",
   "execution_count": 21,
   "metadata": {
    "pycharm": {},
    "tags": [
     "nbval-ignore-output"
    ]
   },
   "outputs": [
    {
     "name": "stderr",
     "output_type": "stream",
     "text": [
      "State: running\n",
      "Stage (2/3): compute similarity scores\n",
      "State: completed\n",
      "Stage (3/3): compute output\n",
      "State: completed\n",
      "Stage (3/3): compute output\n",
      "Downloading result\n",
      "Received result\n"
     ]
    }
   ],
   "source": [
    "!clkutil results --watch \\\n",
    "        --project=\"{credentials['project_id']}\" \\\n",
    "        --apikey=\"{credentials['result_token']}\" \\\n",
    "        --run=\"{run_info['run_id']}\" \\\n",
    "        --server=\"{SERVER}\" \\\n",
    "        --output results.txt"
   ]
  },
  {
   "cell_type": "code",
   "execution_count": 22,
   "metadata": {
    "pycharm": {}
   },
   "outputs": [
    {
     "name": "stdout",
     "output_type": "stream",
     "text": [
      "The service linked 4001 entities.\n"
     ]
    }
   ],
   "source": [
    "with open('results.txt') as f:\n",
    "    str_mapping = json.load(f)['mapping']\n",
    "\n",
    "mapping = {int(k): int(v) for k,v in str_mapping.items()}\n",
    "print('The service linked {} entities.'.format(len(mapping)))"
   ]
  },
  {
   "cell_type": "markdown",
   "metadata": {
    "pycharm": {}
   },
   "source": [
    "Let's investigate some of those matches and the overall matching quality. In this case we have the ground truth so we can compute the precision, recall, and accuracy."
   ]
  },
  {
   "cell_type": "code",
   "execution_count": 23,
   "metadata": {
    "pycharm": {}
   },
   "outputs": [],
   "source": [
    "with open('PII_a.csv', 'rt') as f:\n",
    "    a_raw = f.readlines()\n",
    "with open('PII_b.csv', 'rt') as f:\n",
    "    b_raw = f.readlines()\n",
    "\n",
    "num_entities = len(b_raw) - 1\n",
    "\n",
    "def describe_accuracy(mapping, show_examples=False):\n",
    "    if show_examples:\n",
    "        print('idx_a, idx_b,     rec_id_a,       rec_id_b')\n",
    "        print('---------------------------------------------')\n",
    "        for a_i in range(10):\n",
    "            if a_i in mapping:\n",
    "                a_data = a_raw[a_i + 1].split(',')\n",
    "                b_data = b_raw[mapping[a_i] + 1].split(',')\n",
    "                print('{:3}, {:6}, {:>15}, {:>15}'.format(a_i+1, mapping[a_i]+1, a_data[0], b_data[0]))\n",
    "        print('---------------------------------------------')\n",
    "    \n",
    "    TP = 0; FP = 0; TN = 0; FN = 0\n",
    "    for a_i in range(num_entities):\n",
    "        if a_i in mapping:\n",
    "            if a_raw[a_i + 1].split(',')[0].split('-')[1] == b_raw[mapping[a_i] + 1].split(',')[0].split('-')[1]:\n",
    "                TP += 1\n",
    "            else:\n",
    "                FP += 1\n",
    "                # as we only report one mapping for each element in PII_a, \n",
    "                # then a wrong mapping is not only a false positive, but \n",
    "                # also a false negative, as we won't report the true mapping.\n",
    "                FN += 1 \n",
    "        else:\n",
    "            FN += 1 # every element in PII_a has a partner in PII_b\n",
    "\n",
    "\n",
    "    print('Precision: {:.2f}, Recall: {:.2f}, Accuracy: {:.2f}'.format(\n",
    "        TP/(TP+FP), \n",
    "        TP/(TP+FN), \n",
    "        (TP+TN)/(TP+TN+FP+FN)))"
   ]
  },
  {
   "cell_type": "code",
   "execution_count": 24,
   "metadata": {
    "pycharm": {}
   },
   "outputs": [
    {
     "name": "stdout",
     "output_type": "stream",
     "text": [
      "idx_a, idx_b,     rec_id_a,       rec_id_b\n",
      "---------------------------------------------\n",
      "  2,   2751,    rec-1016-org,  rec-1016-dup-0\n",
      "  3,   4657,    rec-4405-org,  rec-4405-dup-0\n",
      "  4,   4120,    rec-1288-org,  rec-1288-dup-0\n",
      "  5,   3307,    rec-3585-org,  rec-3585-dup-0\n",
      "  6,   2306,     rec-298-org,   rec-298-dup-0\n",
      "  7,   3945,    rec-1985-org,  rec-1985-dup-0\n",
      "  8,    993,    rec-2404-org,  rec-2404-dup-0\n",
      "  9,   4613,    rec-1473-org,  rec-1473-dup-0\n",
      " 10,   3630,     rec-453-org,   rec-453-dup-0\n",
      "---------------------------------------------\n",
      "Precision: 1.00, Recall: 0.80, Accuracy: 0.80\n"
     ]
    }
   ],
   "source": [
    "describe_accuracy(mapping, True)"
   ]
  },
  {
   "cell_type": "markdown",
   "metadata": {
    "pycharm": {}
   },
   "source": [
    "Precision tells us about how many of the found matches are actual matches. The score of 1.0 means that we did perfectly in this respect, however, **recall**, the measure of how many of the actual matches were correctly identified, is quite low with only 80%.\n",
    "\n",
    "Let's go back and create another mapping with a `threshold` value of `0.8`."
   ]
  },
  {
   "cell_type": "code",
   "execution_count": 25,
   "metadata": {
    "pycharm": {}
   },
   "outputs": [
    {
     "name": "stderr",
     "output_type": "stream",
     "text": [
      "Entity Matching Server: https://testing.es.data61.xyz\n"
     ]
    }
   ],
   "source": [
    "!clkutil create --verbose  \\\n",
    "    --server=\"{SERVER}\" \\\n",
    "    --output \"run_info.json\" \\\n",
    "    --threshold=0.8 \\\n",
    "    --project=\"{credentials['project_id']}\" \\\n",
    "    --apikey=\"{credentials['result_token']}\" \\\n",
    "    --name=\"CLI tutorial run B\"\n",
    "\n",
    "run_info = json.load(open('run_info.json', 'rt'))"
   ]
  },
  {
   "cell_type": "code",
   "execution_count": 26,
   "metadata": {
    "pycharm": {},
    "tags": [
     "nbval-ignore-output"
    ]
   },
   "outputs": [
    {
     "name": "stderr",
     "output_type": "stream",
     "text": [
      "State: running\n",
      "Stage (2/3): compute similarity scores\n",
      "State: running\n",
      "Stage (2/3): compute similarity scores\n",
      "State: completed\n",
      "Stage (3/3): compute output\n",
      "Downloading result\n",
      "Received result\n"
     ]
    }
   ],
   "source": [
    "!clkutil results --watch \\\n",
    "        --project=\"{credentials['project_id']}\" \\\n",
    "        --apikey=\"{credentials['result_token']}\" \\\n",
    "        --run=\"{run_info['run_id']}\" \\\n",
    "        --server=\"{SERVER}\" \\\n",
    "        --output results.txt"
   ]
  },
  {
   "cell_type": "code",
   "execution_count": 27,
   "metadata": {
    "pycharm": {}
   },
   "outputs": [
    {
     "name": "stdout",
     "output_type": "stream",
     "text": [
      "The service linked 4975 entities.\n",
      "Precision: 1.00, Recall: 0.99, Accuracy: 0.99\n"
     ]
    }
   ],
   "source": [
    "with open('results.txt') as f:\n",
    "    str_mapping = json.load(f)['mapping']\n",
    "\n",
    "mapping = {int(k): int(v) for k,v in str_mapping.items()}\n",
    "\n",
    "print('The service linked {} entities.'.format(len(mapping)))\n",
    "describe_accuracy(mapping)"
   ]
  },
  {
   "cell_type": "markdown",
   "metadata": {
    "pycharm": {}
   },
   "source": [
    "Great, for this threshold value we get a precision of 100% and a recall of 99%. \n",
    "\n",
    "The explanation is that when the information about an entity differs slightly in the two datasets (e.g. spelling errors, abbrevations, missing values, ...) then the corresponding CLKs will differ in some number of bits as well. For the datasets in this tutorial the perturbations are such that only 80% of the derived CLK pairs overlap more than 90% (the first threshold). Whereas 99% of all matching pairs overlap more than 80%.\n",
    "\n",
    "If we keep reducing the threshold value, then we will start to observe mistakes in the found matches -- the precision decreases (if an entry in dataset A has no match in dataset B, but we keep reducing the threshold, eventually a comparison with an entry in B will be above the threshold leading to a false match). But at the same time the recall value will keep increasing for a while, as a lower threshold allows for more of the actual matches to be found. However, as our example dataset only contains matches (every entry in A has a match in B), this phenomenon cannot be observered. With the threshold `0.75` we identify all matches correctly (at the cost of a longer execution time)."
   ]
  },
  {
   "cell_type": "code",
   "execution_count": 28,
   "metadata": {
    "pycharm": {}
   },
   "outputs": [
    {
     "name": "stderr",
     "output_type": "stream",
     "text": [
      "Entity Matching Server: https://testing.es.data61.xyz\n"
     ]
    }
   ],
   "source": [
    "!clkutil create --verbose  \\\n",
    "    --server=\"{SERVER}\" \\\n",
    "    --output \"run_info.json\" \\\n",
    "    --threshold=0.75 \\\n",
    "    --project=\"{credentials['project_id']}\" \\\n",
    "    --apikey=\"{credentials['result_token']}\" \\\n",
    "    --name=\"CLI tutorial run B\"\n",
    "\n",
    "run_info = json.load(open('run_info.json', 'rt'))"
   ]
  },
  {
   "cell_type": "code",
   "execution_count": 29,
   "metadata": {
    "pycharm": {},
    "tags": [
     "nbval-ignore-output"
    ]
   },
   "outputs": [
    {
     "name": "stderr",
     "output_type": "stream",
     "text": [
      "State: running\n",
      "Stage (2/3): compute similarity scores\n",
      "State: running\n",
      "Stage (2/3): compute similarity scores\n",
      "State: running\n",
      "Stage (2/3): compute similarity scores\n",
      "Progress: 100.00%\n",
      "State: running\n",
      "Stage (3/3): compute output\n",
      "State: completed\n",
      "Stage (3/3): compute output\n",
      "Downloading result\n",
      "Received result\n"
     ]
    }
   ],
   "source": [
    "!clkutil results --watch \\\n",
    "        --project=\"{credentials['project_id']}\" \\\n",
    "        --apikey=\"{credentials['result_token']}\" \\\n",
    "        --run=\"{run_info['run_id']}\" \\\n",
    "        --server=\"{SERVER}\" \\\n",
    "        --output results.txt"
   ]
  },
  {
   "cell_type": "code",
   "execution_count": 30,
   "metadata": {
    "pycharm": {}
   },
   "outputs": [
    {
     "name": "stdout",
     "output_type": "stream",
     "text": [
      "The service linked 4995 entities.\n",
      "Precision: 1.00, Recall: 1.00, Accuracy: 1.00\n"
     ]
    }
   ],
   "source": [
    "with open('results.txt') as f:\n",
    "    str_mapping = json.load(f)['mapping']\n",
    "\n",
    "mapping = {int(k): int(v) for k,v in str_mapping.items()}\n",
    "\n",
    "print('The service linked {} entities.'.format(len(mapping)))\n",
    "describe_accuracy(mapping)"
   ]
  },
  {
   "cell_type": "markdown",
   "metadata": {
    "pycharm": {}
   },
   "source": [
    "It is important to choose an appropriate threshold for the amount of perturbations present in the data.\n",
    "\n",
    "Feel free to go back to the CLK generation and experiment on how different setting will affect the matching quality.\n",
    "\n",
    "## Cleanup\n",
    "\n",
    "Finally to remove the results from the service delete the individual runs, or remove the uploaded data and all runs by deleting the entire project."
   ]
  },
  {
   "cell_type": "code",
   "execution_count": 31,
   "metadata": {
    "pycharm": {}
   },
   "outputs": [
    {
     "name": "stderr",
     "output_type": "stream",
     "text": [
      "Run deleted\n"
     ]
    }
   ],
   "source": [
    "# Deleting a run\n",
    "!clkutil delete --project=\"{credentials['project_id']}\" \\\n",
    "        --apikey=\"{credentials['result_token']}\" \\\n",
    "        --run=\"{run_info['run_id']}\" \\\n",
    "        --server=\"{SERVER}\""
   ]
  },
  {
   "cell_type": "code",
   "execution_count": 32,
   "metadata": {},
   "outputs": [
    {
     "name": "stderr",
     "output_type": "stream",
     "text": [
      "Project deleted\n"
     ]
    }
   ],
   "source": [
    "# Deleting a project\n",
    "!clkutil delete-project --project=\"{credentials['project_id']}\" \\\n",
    "        --apikey=\"{credentials['result_token']}\" \\\n",
    "        --server=\"{SERVER}\""
   ]
  }
 ],
 "metadata": {
  "kernelspec": {
   "display_name": "Python 3",
   "language": "python",
   "name": "python3"
  },
  "language_info": {
   "codemirror_mode": {
    "name": "ipython",
    "version": 3
   },
   "file_extension": ".py",
   "mimetype": "text/x-python",
   "name": "python",
   "nbconvert_exporter": "python",
   "pygments_lexer": "ipython3",
   "version": "3.7.0"
  },
  "pycharm": {
   "stem_cell": {
    "cell_type": "raw",
    "metadata": {
     "collapsed": false
    },
    "source": []
   }
  }
 },
 "nbformat": 4,
 "nbformat_minor": 2
}
