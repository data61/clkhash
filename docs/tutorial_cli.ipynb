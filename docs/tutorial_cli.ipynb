{
 "cells": [
  {
   "cell_type": "markdown",
   "metadata": {},
   "source": [
    "# Tutorial for CLI tool `clkhash`\n",
    "\n",
    "For this tutorial we are going to process a data set for private linkage with clkhash using the command line tool `clkutil`. Note you can also use the [Python API](./tutorial_api.ipynb).\n",
    "\n",
    "The Python package `recordlinkage` has a [tutorial](http://recordlinkage.readthedocs.io/en/latest/notebooks/link_two_dataframes.html) linking data sets in the clear, we will try duplicate that in a privacy preserving setting.\n",
    "\n",
    "First install clkhash, recordlinkage and a few data science tools (pandas and numpy)."
   ]
  },
  {
   "cell_type": "code",
   "execution_count": null,
   "metadata": {},
   "outputs": [],
   "source": [
    "!pip install -U clkhash recordlinkage numpy pandas"
   ]
  },
  {
   "cell_type": "code",
   "execution_count": 1,
   "metadata": {},
   "outputs": [],
   "source": [
    "import io\n",
    "import json\n",
    "import numpy as np\n",
    "import pandas as pd"
   ]
  },
  {
   "cell_type": "code",
   "execution_count": 2,
   "metadata": {},
   "outputs": [],
   "source": [
    "import recordlinkage\n",
    "from recordlinkage.datasets import load_febrl4"
   ]
  },
  {
   "cell_type": "markdown",
   "metadata": {},
   "source": [
    "## Data Exploration\n",
    "\n",
    "First we have a look at the dataset."
   ]
  },
  {
   "cell_type": "code",
   "execution_count": 3,
   "metadata": {},
   "outputs": [
    {
     "data": {
      "text/html": [
       "<div>\n",
       "<style scoped>\n",
       "    .dataframe tbody tr th:only-of-type {\n",
       "        vertical-align: middle;\n",
       "    }\n",
       "\n",
       "    .dataframe tbody tr th {\n",
       "        vertical-align: top;\n",
       "    }\n",
       "\n",
       "    .dataframe thead th {\n",
       "        text-align: right;\n",
       "    }\n",
       "</style>\n",
       "<table border=\"1\" class=\"dataframe\">\n",
       "  <thead>\n",
       "    <tr style=\"text-align: right;\">\n",
       "      <th></th>\n",
       "      <th>given_name</th>\n",
       "      <th>surname</th>\n",
       "      <th>street_number</th>\n",
       "      <th>address_1</th>\n",
       "      <th>address_2</th>\n",
       "      <th>suburb</th>\n",
       "      <th>postcode</th>\n",
       "      <th>state</th>\n",
       "      <th>date_of_birth</th>\n",
       "      <th>soc_sec_id</th>\n",
       "    </tr>\n",
       "    <tr>\n",
       "      <th>rec_id</th>\n",
       "      <th></th>\n",
       "      <th></th>\n",
       "      <th></th>\n",
       "      <th></th>\n",
       "      <th></th>\n",
       "      <th></th>\n",
       "      <th></th>\n",
       "      <th></th>\n",
       "      <th></th>\n",
       "      <th></th>\n",
       "    </tr>\n",
       "  </thead>\n",
       "  <tbody>\n",
       "    <tr>\n",
       "      <th>rec-1070-org</th>\n",
       "      <td>michaela</td>\n",
       "      <td>neumann</td>\n",
       "      <td>8</td>\n",
       "      <td>stanley street</td>\n",
       "      <td>miami</td>\n",
       "      <td>winston hills</td>\n",
       "      <td>4223</td>\n",
       "      <td>nsw</td>\n",
       "      <td>19151111</td>\n",
       "      <td>5304218</td>\n",
       "    </tr>\n",
       "    <tr>\n",
       "      <th>rec-1016-org</th>\n",
       "      <td>courtney</td>\n",
       "      <td>painter</td>\n",
       "      <td>12</td>\n",
       "      <td>pinkerton circuit</td>\n",
       "      <td>bega flats</td>\n",
       "      <td>richlands</td>\n",
       "      <td>4560</td>\n",
       "      <td>vic</td>\n",
       "      <td>19161214</td>\n",
       "      <td>4066625</td>\n",
       "    </tr>\n",
       "    <tr>\n",
       "      <th>rec-4405-org</th>\n",
       "      <td>charles</td>\n",
       "      <td>green</td>\n",
       "      <td>38</td>\n",
       "      <td>salkauskas crescent</td>\n",
       "      <td>kela</td>\n",
       "      <td>dapto</td>\n",
       "      <td>4566</td>\n",
       "      <td>nsw</td>\n",
       "      <td>19480930</td>\n",
       "      <td>4365168</td>\n",
       "    </tr>\n",
       "    <tr>\n",
       "      <th>rec-1288-org</th>\n",
       "      <td>vanessa</td>\n",
       "      <td>parr</td>\n",
       "      <td>905</td>\n",
       "      <td>macquoid place</td>\n",
       "      <td>broadbridge manor</td>\n",
       "      <td>south grafton</td>\n",
       "      <td>2135</td>\n",
       "      <td>sa</td>\n",
       "      <td>19951119</td>\n",
       "      <td>9239102</td>\n",
       "    </tr>\n",
       "    <tr>\n",
       "      <th>rec-3585-org</th>\n",
       "      <td>mikayla</td>\n",
       "      <td>malloney</td>\n",
       "      <td>37</td>\n",
       "      <td>randwick road</td>\n",
       "      <td>avalind</td>\n",
       "      <td>hoppers crossing</td>\n",
       "      <td>4552</td>\n",
       "      <td>vic</td>\n",
       "      <td>19860208</td>\n",
       "      <td>7207688</td>\n",
       "    </tr>\n",
       "  </tbody>\n",
       "</table>\n",
       "</div>"
      ],
      "text/plain": [
       "             given_name   surname street_number            address_1  \\\n",
       "rec_id                                                                 \n",
       "rec-1070-org   michaela   neumann             8       stanley street   \n",
       "rec-1016-org   courtney   painter            12    pinkerton circuit   \n",
       "rec-4405-org    charles     green            38  salkauskas crescent   \n",
       "rec-1288-org    vanessa      parr           905       macquoid place   \n",
       "rec-3585-org    mikayla  malloney            37        randwick road   \n",
       "\n",
       "                      address_2            suburb postcode state  \\\n",
       "rec_id                                                             \n",
       "rec-1070-org              miami     winston hills     4223   nsw   \n",
       "rec-1016-org         bega flats         richlands     4560   vic   \n",
       "rec-4405-org               kela             dapto     4566   nsw   \n",
       "rec-1288-org  broadbridge manor     south grafton     2135    sa   \n",
       "rec-3585-org            avalind  hoppers crossing     4552   vic   \n",
       "\n",
       "             date_of_birth soc_sec_id  \n",
       "rec_id                                 \n",
       "rec-1070-org      19151111    5304218  \n",
       "rec-1016-org      19161214    4066625  \n",
       "rec-4405-org      19480930    4365168  \n",
       "rec-1288-org      19951119    9239102  \n",
       "rec-3585-org      19860208    7207688  "
      ]
     },
     "execution_count": 3,
     "metadata": {},
     "output_type": "execute_result"
    }
   ],
   "source": [
    "dfA, dfB = load_febrl4()\n",
    "\n",
    "dfA.head()"
   ]
  },
  {
   "cell_type": "markdown",
   "metadata": {},
   "source": [
    "For this linkage we will **not** use the social security id column."
   ]
  },
  {
   "cell_type": "code",
   "execution_count": 4,
   "metadata": {},
   "outputs": [
    {
     "data": {
      "text/plain": [
       "Index(['given_name', 'surname', 'street_number', 'address_1', 'address_2',\n",
       "       'suburb', 'postcode', 'state', 'date_of_birth', 'soc_sec_id'],\n",
       "      dtype='object')"
      ]
     },
     "execution_count": 4,
     "metadata": {},
     "output_type": "execute_result"
    }
   ],
   "source": [
    "dfA.columns"
   ]
  },
  {
   "cell_type": "code",
   "execution_count": 5,
   "metadata": {},
   "outputs": [],
   "source": [
    "dfA.to_csv('PII_a.csv')"
   ]
  },
  {
   "cell_type": "markdown",
   "metadata": {},
   "source": [
    "## Hashing Schema Definition\n",
    "\n",
    "A hashing schema instructs clkhash how to treat each column for generating CLKs. A detailed description of the hashing schema can be found in the [api docs](http://clkhash.readthedocs.io/en/latest/schema.html). We will ignore the columns 'rec_id' and 'soc_sec_id' for CLK generation.\n",
    "\n"
   ]
  },
  {
   "cell_type": "code",
   "execution_count": 6,
   "metadata": {},
   "outputs": [
    {
     "name": "stdout",
     "output_type": "stream",
     "text": [
      "Overwriting schema.json\n"
     ]
    }
   ],
   "source": [
    "%%writefile schema.json\n",
    "{\n",
    "  \"version\": 1,\n",
    "  \"clkConfig\": {\n",
    "    \"l\": 1024,\n",
    "    \"k\": 30,\n",
    "    \"hash\": {\n",
    "      \"type\": \"doubleHash\"\n",
    "    },\n",
    "    \"kdf\": {\n",
    "      \"type\": \"HKDF\",\n",
    "      \"hash\": \"SHA256\",\n",
    "        \"info\": \"c2NoZW1hX2V4YW1wbGU=\",\n",
    "        \"salt\": \"SCbL2zHNnmsckfzchsNkZY9XoHk96P/G5nUBrM7ybymlEFsMV6PAeDZCNp3rfNUPCtLDMOGQHG4pCQpfhiHCyA==\",\n",
    "        \"keySize\": 64\n",
    "    }\n",
    "  },\n",
    "  \"features\": [\n",
    "    {\n",
    "      \"identifier\": \"rec_id\",\n",
    "      \"ignored\": true\n",
    "    },\n",
    "    {\n",
    "      \"identifier\": \"given_name\",\n",
    "      \"format\": { \"type\": \"string\", \"encoding\": \"utf-8\" },\n",
    "      \"hashing\": { \"ngram\": 2, \"weight\": 1 }\n",
    "    },\n",
    "    {\n",
    "      \"identifier\": \"surname\",\n",
    "      \"format\": { \"type\": \"string\", \"encoding\": \"utf-8\" },\n",
    "      \"hashing\": { \"ngram\": 2, \"weight\": 1 }\n",
    "    },\n",
    "    {\n",
    "      \"identifier\": \"street_number\",\n",
    "      \"format\": { \"type\": \"integer\" },\n",
    "      \"hashing\": { \"ngram\": 1, \"positional\": true, \"weight\": 1, \"missingValue\": {\"sentinel\": \"\"} }\n",
    "    },\n",
    "    {\n",
    "      \"identifier\": \"address_1\",\n",
    "      \"format\": { \"type\": \"string\", \"encoding\": \"utf-8\" },\n",
    "      \"hashing\": { \"ngram\": 2, \"weight\": 1 }\n",
    "    },\n",
    "    {\n",
    "      \"identifier\": \"address_2\",\n",
    "      \"format\": { \"type\": \"string\", \"encoding\": \"utf-8\" },\n",
    "      \"hashing\": { \"ngram\": 2, \"weight\": 1 }\n",
    "    },\n",
    "    {\n",
    "      \"identifier\": \"suburb\",\n",
    "      \"format\": { \"type\": \"string\", \"encoding\": \"utf-8\" },\n",
    "      \"hashing\": { \"ngram\": 2, \"weight\": 1 }\n",
    "    },\n",
    "    {\n",
    "      \"identifier\": \"postcode\",\n",
    "      \"format\": { \"type\": \"integer\", \"minimum\": 1000, \"maximum\": 9999 },\n",
    "      \"hashing\": { \"ngram\": 1, \"positional\": true, \"weight\": 1 }\n",
    "    },\n",
    "    {\n",
    "      \"identifier\": \"state\",\n",
    "      \"format\": { \"type\": \"string\", \"encoding\": \"utf-8\", \"maxLength\": 3 },\n",
    "      \"hashing\": { \"ngram\": 2, \"weight\": 1 }\n",
    "    },\n",
    "    {\n",
    "      \"identifier\": \"date_of_birth\",\n",
    "      \"format\": { \"type\": \"integer\" },\n",
    "      \"hashing\": { \"ngram\": 1, \"positional\": true, \"weight\": 1, \"missingValue\": {\"sentinel\": \"\"} }\n",
    "    },\n",
    "    {\n",
    "      \"identifier\": \"soc_sec_id\",\n",
    "      \"ignored\": true\n",
    "    }\n",
    "  ]\n",
    "}"
   ]
  },
  {
   "cell_type": "markdown",
   "metadata": {},
   "source": [
    "## Hash the data\n",
    "\n",
    "We can now hash our PII data from the CSV file using our defined schema. We must provide two *secret keys* to this command - these keys have to be used by both parties hashing data. For this toy example we will use the keys _'key1'_ and _'key2'_, for real data, make sure that the keys contain enough entropy, as knowledge of these keys is sufficient to reconstruct the PII information from a CLK! Also, **do not share these keys with anyone, except the other participating party.**"
   ]
  },
  {
   "cell_type": "code",
   "execution_count": 7,
   "metadata": {},
   "outputs": [
    {
     "name": "stdout",
     "output_type": "stream",
     "text": [
      "generating CLKs: 100%|█| 5.00k/5.00k [00:05<00:00, 811clk/s, mean=885, std=33.4]\n",
      "\u001b[31mCLK data written to clks_a.json\u001b[0m\n"
     ]
    }
   ],
   "source": [
    "!clkutil hash PII_a.csv key1 key2 schema.json clks_a.json --validate false"
   ]
  },
  {
   "cell_type": "markdown",
   "metadata": {},
   "source": [
    "## Inspect the output\n",
    "\n",
    "clkhash has hashed the PII, creating a Cryptographic Longterm Key for each entity. The output of `generate_clk_from_csv` shows that the mean popcount is quite high (885 out of 1024) which can effect accuracy.\n",
    "\n",
    "There are two ways to control the popcount:\n",
    "- You can change the _'k'_ value in the clkConfig section of the schema. It controls the number of entries in the CLK for each n-gram\n",
    "- or you can modify the individual _'weight'_ values for the different fields. It allows to tune the contribution of a column to the CLK. This can be used to de-emphasise columns which are less suitable for linkage (e.g. information that changes frequently)."
   ]
  },
  {
   "cell_type": "markdown",
   "metadata": {},
   "source": [
    "First, we will change the value of *k* from 30 to 15."
   ]
  },
  {
   "cell_type": "code",
   "execution_count": 8,
   "metadata": {},
   "outputs": [
    {
     "name": "stdout",
     "output_type": "stream",
     "text": [
      "generating CLKs: 100%|█| 5.00k/5.00k [00:04<00:00, 913clk/s, mean=648, std=44.1]\n",
      "\u001b[31mCLK data written to clks_a.json\u001b[0m\n"
     ]
    }
   ],
   "source": [
    "schema = json.load(open('schema.json', 'rt'))\n",
    "schema['clkConfig']['k'] = 15\n",
    "json.dump(schema, open('schema.json', 'wt'))\n",
    "\n",
    "!clkutil hash PII_a.csv key1 key2 schema.json clks_a.json --validate false"
   ]
  },
  {
   "cell_type": "markdown",
   "metadata": {},
   "source": [
    "And now we will modify the weights to de-emphasise the contribution of the address related columns."
   ]
  },
  {
   "cell_type": "code",
   "execution_count": 9,
   "metadata": {},
   "outputs": [
    {
     "name": "stdout",
     "output_type": "stream",
     "text": [
      "generating CLKs: 100%|█| 5.00k/5.00k [00:04<00:00, 965clk/s, mean=602, std=39.8]\n",
      "\u001b[31mCLK data written to clks_a.json\u001b[0m\n"
     ]
    }
   ],
   "source": [
    "schema = json.load(open('schema.json', 'rt'))\n",
    "schema['clkConfig']['k'] = 20\n",
    "address_features = ['street_number', 'address_1', 'address_2', 'suburb', 'postcode', 'state']\n",
    "for feature in schema['features']:\n",
    "    if feature['identifier'] in address_features:\n",
    "        feature['hashing']['weight'] = 0.5\n",
    "json.dump(schema, open('schema.json', 'wt'))\n",
    "\n",
    "!clkutil hash PII_a.csv key1 key2 schema.json clks_a.json --validate false"
   ]
  },
  {
   "cell_type": "markdown",
   "metadata": {},
   "source": [
    "Each CLK is serialized in a JSON friendly base64 format:"
   ]
  },
  {
   "cell_type": "code",
   "execution_count": 10,
   "metadata": {},
   "outputs": [
    {
     "data": {
      "text/plain": [
       "'BD8JWW7DzwP82PjV5/jbN40+bT3V4z7V+QBtHYcdF32WpPvDvHUdLXCX3tuV1/4rv+23v9R1fKmJcmoNi7OvoecRLMnHzqv9J5SfT15VXe7KPht9d49zRt73+l3Tfs+Web8kx32vSdo+SfnlHqKbn11V6w9zFm3kb07e67MX7tw='"
      ]
     },
     "execution_count": 10,
     "metadata": {},
     "output_type": "execute_result"
    }
   ],
   "source": [
    "# If you have jq tool installed:\n",
    "#!jq .clks[0] clks_a.json\n",
    "\n",
    "import json\n",
    "json.load(open('clks_a.json'))['clks'][0]"
   ]
  },
  {
   "cell_type": "markdown",
   "metadata": {},
   "source": [
    "## Hash data set B\n",
    "\n",
    "Now we hash the second dataset using the same keys and same schema."
   ]
  },
  {
   "cell_type": "code",
   "execution_count": 11,
   "metadata": {},
   "outputs": [
    {
     "name": "stdout",
     "output_type": "stream",
     "text": [
      "generating CLKs: 100%|█| 5.00k/5.00k [00:04<00:00, 899clk/s, mean=592, std=45.5]\n",
      "\u001b[31mCLK data written to clks_b.json\u001b[0m\n"
     ]
    }
   ],
   "source": [
    "dfB.to_csv('PII_b.csv')\n",
    "\n",
    "!clkutil hash PII_b.csv key1 key2 schema.json clks_b.json --validate false"
   ]
  },
  {
   "cell_type": "markdown",
   "metadata": {},
   "source": [
    "## Find matches between the two sets of CLKs\n",
    "\n",
    "We have generated two sets of CLKs which represent entity information in a privacy-preserving way. The more similar two CLKs are, the more likely it is that they represent the same entity.\n",
    "\n",
    "For this task we will use the entity service, which is provided by Data61. \n",
    "The necessary steps are as follows:\n",
    "- The analyst creates a new project of the output type 'mapping'. He will receive a set of credentials from the server.\n",
    "- He then distributes the 'update_tokens' between the participating data providers.\n",
    "- The data providers then individually upload their respective CLKs.\n",
    "- After the entity service successfully computed the mapping, it can be accessed by providing the 'result_token'"
   ]
  },
  {
   "cell_type": "code",
   "execution_count": 12,
   "metadata": {},
   "outputs": [
    {
     "name": "stdout",
     "output_type": "stream",
     "text": [
      "\u001b[31mConnecting to Entity Matching Server: https://es.data61.xyz\u001b[0m\n",
      "\u001b[31mResponse: 200\u001b[0m\n",
      "\u001b[31mStatus: ok\u001b[0m\n",
      "{\"status\": \"ok\", \"number_mappings\": 2378, \"rate\": 779893824}\n"
     ]
    }
   ],
   "source": [
    "!clkutil status --server=https://es.data61.xyz"
   ]
  },
  {
   "cell_type": "markdown",
   "metadata": {},
   "source": [
    "The analyst creates a new project on the entity service by providing the hashing schema, result type and a threshold.\n",
    "The server returns a set of credentials which provide access to the further steps for project."
   ]
  },
  {
   "cell_type": "code",
   "execution_count": 13,
   "metadata": {},
   "outputs": [
    {
     "name": "stdout",
     "output_type": "stream",
     "text": [
      "\u001b[31mEntity Matching Server: https://es.data61.xyz\u001b[0m\n",
      "\u001b[31mChecking server status\u001b[0m\n",
      "\u001b[31mServer Status: ok\u001b[0m\n",
      "\u001b[31mSchema: {'version': 1, 'clkConfig': {'l': 1024, 'k': 20, 'hash': {'type': 'doubleHash'}, 'kdf': {'type': 'HKDF', 'hash': 'SHA256', 'info': 'c2NoZW1hX2V4YW1wbGU=', 'salt': 'SCbL2zHNnmsckfzchsNkZY9XoHk96P/G5nUBrM7ybymlEFsMV6PAeDZCNp3rfNUPCtLDMOGQHG4pCQpfhiHCyA==', 'keySize': 64}}, 'features': [{'identifier': 'rec_id', 'ignored': True}, {'identifier': 'given_name', 'format': {'type': 'string', 'encoding': 'utf-8'}, 'hashing': {'ngram': 2, 'weight': 1}}, {'identifier': 'surname', 'format': {'type': 'string', 'encoding': 'utf-8'}, 'hashing': {'ngram': 2, 'weight': 1}}, {'identifier': 'street_number', 'format': {'type': 'integer'}, 'hashing': {'ngram': 1, 'positional': True, 'weight': 0.5, 'missingValue': {'sentinel': ''}}}, {'identifier': 'address_1', 'format': {'type': 'string', 'encoding': 'utf-8'}, 'hashing': {'ngram': 2, 'weight': 0.5}}, {'identifier': 'address_2', 'format': {'type': 'string', 'encoding': 'utf-8'}, 'hashing': {'ngram': 2, 'weight': 0.5}}, {'identifier': 'suburb', 'format': {'type': 'string', 'encoding': 'utf-8'}, 'hashing': {'ngram': 2, 'weight': 0.5}}, {'identifier': 'postcode', 'format': {'type': 'integer', 'minimum': 1000, 'maximum': 9999}, 'hashing': {'ngram': 1, 'positional': True, 'weight': 0.5}}, {'identifier': 'state', 'format': {'type': 'string', 'encoding': 'utf-8', 'maxLength': 3}, 'hashing': {'ngram': 2, 'weight': 0.5}}, {'identifier': 'date_of_birth', 'format': {'type': 'integer'}, 'hashing': {'ngram': 1, 'positional': True, 'weight': 1, 'missingValue': {'sentinel': ''}}}, {'identifier': 'soc_sec_id', 'ignored': True}]}\u001b[0m\n",
      "\u001b[31mType: mapping\u001b[0m\n",
      "\u001b[31mCreating new mapping\u001b[0m\n",
      "\u001b[31mMapping created\u001b[0m\n"
     ]
    }
   ],
   "source": [
    "!clkutil create --server=https://es.data61.xyz --schema schema.json --output credentials.json --type \"mapping\" --threshold 0.9"
   ]
  },
  {
   "cell_type": "markdown",
   "metadata": {},
   "source": [
    "The returned credentials contain a \n",
    "- 'resource_id', which identifies the project\n",
    "- 'result_token', which gives access to the mapping result, once computed\n",
    "- 'upload_tokens', one for each provider, allows uploading CLKs."
   ]
  },
  {
   "cell_type": "code",
   "execution_count": 14,
   "metadata": {},
   "outputs": [
    {
     "name": "stdout",
     "output_type": "stream",
     "text": [
      "{\r\n",
      "    \"resource_id\": \"ebff38ecdfdba4fc82be3b2d84b9212c9628baa0d1cbf6f4\",\r\n",
      "    \"result_token\": \"51eca75542a02543d990d2dc1293d006648b165f6ec8af3a\",\r\n",
      "    \"update_tokens\": [\r\n",
      "        \"a7f9df4d4d9f8f064589b842f58f6c3b6b14404f7bc428b1\",\r\n",
      "        \"94c2b823b34e4b3bd8318f8205ea49bfd63b58764c787365\"\r\n",
      "    ]\r\n",
      "}\r\n"
     ]
    }
   ],
   "source": [
    "credentials = json.load(open('credentials.json', 'rt'))\n",
    "!python -m json.tool credentials.json"
   ]
  },
  {
   "cell_type": "markdown",
   "metadata": {},
   "source": [
    "### Uploading the CLKs to the entity service\n",
    "Each party individually uploads its respective CLKs to the entity service. They need to provide the `resource_id`, which identifies the correct mapping, and an `update_token`."
   ]
  },
  {
   "cell_type": "code",
   "execution_count": 15,
   "metadata": {},
   "outputs": [
    {
     "name": "stdout",
     "output_type": "stream",
     "text": [
      "\u001b[31mUploading CLK data from clks_a.json\u001b[0m\n",
      "\u001b[31mTo Entity Matching Server: https://es.data61.xyz\u001b[0m\n",
      "\u001b[31mMapping ID: ebff38ecdfdba4fc82be3b2d84b9212c9628baa0d1cbf6f4\u001b[0m\n",
      "\u001b[31mChecking server status\u001b[0m\n",
      "\u001b[31mStatus: ok\u001b[0m\n",
      "\u001b[31mUploading CLK data to the server\u001b[0m\n",
      "\u001b[31mUploading CLK data from clks_b.json\u001b[0m\n",
      "\u001b[31mTo Entity Matching Server: https://es.data61.xyz\u001b[0m\n",
      "\u001b[31mMapping ID: ebff38ecdfdba4fc82be3b2d84b9212c9628baa0d1cbf6f4\u001b[0m\n",
      "\u001b[31mChecking server status\u001b[0m\n",
      "\u001b[31mStatus: ok\u001b[0m\n",
      "\u001b[31mUploading CLK data to the server\u001b[0m\n"
     ]
    }
   ],
   "source": [
    "!clkutil upload \\\n",
    "       --mapping=\"{credentials['resource_id']}\" \\\n",
    "        --apikey=\"{credentials['update_tokens'][0]}\" \\\n",
    "        --output \"upload_a.json\" \\\n",
    "        --server=https://es.data61.xyz \\\n",
    "       \"clks_a.json\"\n",
    "    \n",
    "!clkutil upload \\\n",
    "       --mapping=\"{credentials['resource_id']}\" \\\n",
    "        --apikey=\"{credentials['update_tokens'][1]}\" \\\n",
    "        --output \"upload_b.json\" \\\n",
    "        --server=https://es.data61.xyz \\\n",
    "       \"clks_b.json\""
   ]
  },
  {
   "cell_type": "markdown",
   "metadata": {},
   "source": [
    "## Results\n",
    "\n",
    "Now after some delay (depending on the size) we can fetch the mask.\n",
    "This can be done with clkutil:"
   ]
  },
  {
   "cell_type": "code",
   "execution_count": 16,
   "metadata": {},
   "outputs": [
    {
     "name": "stdout",
     "output_type": "stream",
     "text": [
      "\u001b[31mChecking server status\u001b[0m\n",
      "\u001b[31mStatus: ok\u001b[0m\n",
      "\u001b[31mResponse code: 503\u001b[0m\n",
      "\u001b[31mNo result yet\u001b[0m\n",
      "\u001b[31m{\"message\": \"Mapping isn't ready.\", \"elapsed\": 0.0, \"total\": \"25000000\", \"current\": \"0\", \"progress\": 0.0}\n",
      "\u001b[0m\n",
      "The service linked 3636 entities.\n"
     ]
    }
   ],
   "source": [
    "!clkutil results \\\n",
    "        --mapping=\"{credentials['resource_id']}\" \\\n",
    "        --apikey=\"{credentials['result_token']}\" \\\n",
    "        --server=https://es.data61.xyz \\\n",
    "        --output results.txt\n",
    "\n",
    "with open('results.txt') as f:\n",
    "    str_mapping = json.load(f)['mapping']\n",
    "    #str_mapping = eval(f.readline())['mapping']\n",
    "    mapping = {int(k): int(v) for k,v in str_mapping.items()}\n",
    "print('The service linked {} entities.'.format(len(mapping)))"
   ]
  },
  {
   "cell_type": "markdown",
   "metadata": {},
   "source": [
    "Let's investigate some of those matches and the overall matching quality"
   ]
  },
  {
   "cell_type": "code",
   "execution_count": 17,
   "metadata": {},
   "outputs": [
    {
     "name": "stdout",
     "output_type": "stream",
     "text": [
      "idx_a, idx_b, rec_id_a, rec_id_b\n",
      "--------------------------------\n",
      "2, 2751, rec-1016-org, rec-1016-dup-0\n",
      "3, 4657, rec-4405-org, rec-4405-dup-0\n",
      "4, 4120, rec-1288-org, rec-1288-dup-0\n",
      "5, 3307, rec-3585-org, rec-3585-dup-0\n",
      "7, 3945, rec-1985-org, rec-1985-dup-0\n",
      "8, 993, rec-2404-org, rec-2404-dup-0\n",
      "9, 4613, rec-1473-org, rec-1473-dup-0\n",
      "10, 3630, rec-453-org, rec-453-dup-0\n",
      "--------------------------------\n",
      "Precision: 1.0, Recall: 0.7272, Accuracy: 0.7272\n"
     ]
    }
   ],
   "source": [
    "with open('PII_a.csv', 'rt') as f:\n",
    "    a_raw = f.readlines()\n",
    "with open('PII_b.csv', 'rt') as f:\n",
    "    b_raw = f.readlines()\n",
    "\n",
    "num_entities = len(b_raw) - 1\n",
    "\n",
    "print('idx_a, idx_b, rec_id_a, rec_id_b')\n",
    "print('--------------------------------')\n",
    "for a_i in range(10):\n",
    "    if a_i in mapping:\n",
    "        a_data = a_raw[a_i + 1].split(',')\n",
    "        b_data = b_raw[mapping[a_i] + 1].split(',')\n",
    "        print('{}, {}, {}, {}'.format(a_i+1, mapping[a_i]+1, a_data[0], b_data[0]))\n",
    "\n",
    "TP = 0; FP = 0; TN = 0; FN = 0\n",
    "for a_i in range(num_entities):\n",
    "    if a_i in mapping:\n",
    "        if a_raw[a_i + 1].split(',')[0].split('-')[1] == b_raw[mapping[a_i] + 1].split(',')[0].split('-')[1]:\n",
    "            TP += 1\n",
    "        else:\n",
    "            FP += 1\n",
    "            FN += 1 # as we only report one mapping for each element in PII_a, then a wrong mapping is not only a false positive, but also a false negative, as we won't report the true mapping.\n",
    "    else:\n",
    "        FN += 1 # every element in PII_a has a partner in PII_b\n",
    "\n",
    "print('--------------------------------')\n",
    "print('Precision: {}, Recall: {}, Accuracy: {}'.format(TP/(TP+FP), TP/(TP+FN), (TP+TN)/(TP+TN+FP+FN)))"
   ]
  },
  {
   "cell_type": "markdown",
   "metadata": {},
   "source": [
    "Precision tells us about how many of the found matches are actual matches. The score of 1.0 means that we did perfectly in this respect, however, recall, the measure of how many of the actual matches were correctly identified, is quite low with only 73%.\n",
    "\n",
    "Let's go back and create another mapping with a `threshold` value of `0.8`.\n",
    "\n",
    "Great, for this threshold value we get a precision of 100% and a recall of 95.3%. \n",
    "\n",
    "The explanation is that when the information about an entity differs slightly in the two datasets (e.g. spelling errors, abbrevations, missing values, ...) then the corresponding CLKs will differ in some number of bits as well. For the datasets in this tutorial the perturbations are such that only 72.7% of the derived CLK pairs overlap more than 90%. Whereas almost all matching pairs overlap more than 80%.\n",
    "\n",
    "If we keep reducing the threshold value, then we will start to observe mistakes in the found matches -- the precision decreases. But at the same time the recall value will keep increasing for a while, as a lower threshold allows for more of the actual matches to be found, e.g.: for threshold 0.72, we get precision: 0.997 and recall: 0.992. However, reducing the threshold further will eventually lead to a decrease in both precision and recall: for threshold 0.65 precision is 0.983 and recall is 0.980. Thus it is important to choose an appropriate threshold for the amount of perturbations present in the data.\n",
    "\n",
    "This concludes the tutorial. Feel free to go back to the CLK generation and experiment on how different setting will affect the matching quality."
   ]
  }
 ],
 "metadata": {
  "kernelspec": {
   "display_name": "Python 3",
   "language": "python",
   "name": "python3"
  },
  "language_info": {
   "codemirror_mode": {
    "name": "ipython",
    "version": 3
   },
   "file_extension": ".py",
   "mimetype": "text/x-python",
   "name": "python",
   "nbconvert_exporter": "python",
   "pygments_lexer": "ipython3",
   "version": "3.6.3"
  }
 },
 "nbformat": 4,
 "nbformat_minor": 2
}
