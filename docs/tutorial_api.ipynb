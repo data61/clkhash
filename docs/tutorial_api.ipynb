{
 "cells": [
  {
   "cell_type": "markdown",
   "metadata": {},
   "source": [
    "# Tutorial for Python API\n",
    "\n",
    "For this tutorial we are going to process a data set for private linkage with clkhash using the Python API. Note you can also use the command line tool.\n",
    "\n",
    "The Python package `recordlinkage` has a [tutorial](http://recordlinkage.readthedocs.io/en/latest/notebooks/link_two_dataframes.html) linking data sets in the clear, we will try duplicate that in a privacy preserving setting.\n",
    "\n",
    "First install clkhash, recordlinkage and a few data science tools (pandas and numpy)."
   ]
  },
  {
   "cell_type": "code",
   "execution_count": null,
   "metadata": {},
   "outputs": [],
   "source": [
    "!pip install -U clkhash recordlinkage numpy pandas"
   ]
  },
  {
   "cell_type": "code",
   "execution_count": 1,
   "metadata": {},
   "outputs": [],
   "source": [
    "import io\n",
    "import numpy as np\n",
    "import pandas as pd"
   ]
  },
  {
   "cell_type": "code",
   "execution_count": 2,
   "metadata": {},
   "outputs": [],
   "source": [
    "import clkhash\n",
    "from clkhash.field_formats import *\n",
    "import recordlinkage\n",
    "from recordlinkage.datasets import load_febrl4"
   ]
  },
  {
   "cell_type": "markdown",
   "metadata": {},
   "source": [
    "## Data Exploration\n",
    "\n",
    "First we have a look at the dataset."
   ]
  },
  {
   "cell_type": "code",
   "execution_count": 3,
   "metadata": {},
   "outputs": [
    {
     "data": {
      "text/html": [
       "<div>\n",
       "<style scoped>\n",
       "    .dataframe tbody tr th:only-of-type {\n",
       "        vertical-align: middle;\n",
       "    }\n",
       "\n",
       "    .dataframe tbody tr th {\n",
       "        vertical-align: top;\n",
       "    }\n",
       "\n",
       "    .dataframe thead th {\n",
       "        text-align: right;\n",
       "    }\n",
       "</style>\n",
       "<table border=\"1\" class=\"dataframe\">\n",
       "  <thead>\n",
       "    <tr style=\"text-align: right;\">\n",
       "      <th></th>\n",
       "      <th>given_name</th>\n",
       "      <th>surname</th>\n",
       "      <th>street_number</th>\n",
       "      <th>address_1</th>\n",
       "      <th>address_2</th>\n",
       "      <th>suburb</th>\n",
       "      <th>postcode</th>\n",
       "      <th>state</th>\n",
       "      <th>date_of_birth</th>\n",
       "      <th>soc_sec_id</th>\n",
       "    </tr>\n",
       "    <tr>\n",
       "      <th>rec_id</th>\n",
       "      <th></th>\n",
       "      <th></th>\n",
       "      <th></th>\n",
       "      <th></th>\n",
       "      <th></th>\n",
       "      <th></th>\n",
       "      <th></th>\n",
       "      <th></th>\n",
       "      <th></th>\n",
       "      <th></th>\n",
       "    </tr>\n",
       "  </thead>\n",
       "  <tbody>\n",
       "    <tr>\n",
       "      <th>rec-1070-org</th>\n",
       "      <td>michaela</td>\n",
       "      <td>neumann</td>\n",
       "      <td>8</td>\n",
       "      <td>stanley street</td>\n",
       "      <td>miami</td>\n",
       "      <td>winston hills</td>\n",
       "      <td>4223</td>\n",
       "      <td>nsw</td>\n",
       "      <td>19151111</td>\n",
       "      <td>5304218</td>\n",
       "    </tr>\n",
       "    <tr>\n",
       "      <th>rec-1016-org</th>\n",
       "      <td>courtney</td>\n",
       "      <td>painter</td>\n",
       "      <td>12</td>\n",
       "      <td>pinkerton circuit</td>\n",
       "      <td>bega flats</td>\n",
       "      <td>richlands</td>\n",
       "      <td>4560</td>\n",
       "      <td>vic</td>\n",
       "      <td>19161214</td>\n",
       "      <td>4066625</td>\n",
       "    </tr>\n",
       "    <tr>\n",
       "      <th>rec-4405-org</th>\n",
       "      <td>charles</td>\n",
       "      <td>green</td>\n",
       "      <td>38</td>\n",
       "      <td>salkauskas crescent</td>\n",
       "      <td>kela</td>\n",
       "      <td>dapto</td>\n",
       "      <td>4566</td>\n",
       "      <td>nsw</td>\n",
       "      <td>19480930</td>\n",
       "      <td>4365168</td>\n",
       "    </tr>\n",
       "    <tr>\n",
       "      <th>rec-1288-org</th>\n",
       "      <td>vanessa</td>\n",
       "      <td>parr</td>\n",
       "      <td>905</td>\n",
       "      <td>macquoid place</td>\n",
       "      <td>broadbridge manor</td>\n",
       "      <td>south grafton</td>\n",
       "      <td>2135</td>\n",
       "      <td>sa</td>\n",
       "      <td>19951119</td>\n",
       "      <td>9239102</td>\n",
       "    </tr>\n",
       "    <tr>\n",
       "      <th>rec-3585-org</th>\n",
       "      <td>mikayla</td>\n",
       "      <td>malloney</td>\n",
       "      <td>37</td>\n",
       "      <td>randwick road</td>\n",
       "      <td>avalind</td>\n",
       "      <td>hoppers crossing</td>\n",
       "      <td>4552</td>\n",
       "      <td>vic</td>\n",
       "      <td>19860208</td>\n",
       "      <td>7207688</td>\n",
       "    </tr>\n",
       "  </tbody>\n",
       "</table>\n",
       "</div>"
      ],
      "text/plain": [
       "             given_name   surname street_number            address_1  \\\n",
       "rec_id                                                                 \n",
       "rec-1070-org   michaela   neumann             8       stanley street   \n",
       "rec-1016-org   courtney   painter            12    pinkerton circuit   \n",
       "rec-4405-org    charles     green            38  salkauskas crescent   \n",
       "rec-1288-org    vanessa      parr           905       macquoid place   \n",
       "rec-3585-org    mikayla  malloney            37        randwick road   \n",
       "\n",
       "                      address_2            suburb postcode state  \\\n",
       "rec_id                                                             \n",
       "rec-1070-org              miami     winston hills     4223   nsw   \n",
       "rec-1016-org         bega flats         richlands     4560   vic   \n",
       "rec-4405-org               kela             dapto     4566   nsw   \n",
       "rec-1288-org  broadbridge manor     south grafton     2135    sa   \n",
       "rec-3585-org            avalind  hoppers crossing     4552   vic   \n",
       "\n",
       "             date_of_birth soc_sec_id  \n",
       "rec_id                                 \n",
       "rec-1070-org      19151111    5304218  \n",
       "rec-1016-org      19161214    4066625  \n",
       "rec-4405-org      19480930    4365168  \n",
       "rec-1288-org      19951119    9239102  \n",
       "rec-3585-org      19860208    7207688  "
      ]
     },
     "execution_count": 3,
     "metadata": {},
     "output_type": "execute_result"
    }
   ],
   "source": [
    "dfA, dfB = load_febrl4()\n",
    "\n",
    "dfA.head()"
   ]
  },
  {
   "cell_type": "markdown",
   "metadata": {},
   "source": [
    "For this linkage we will **not** use the social security id column."
   ]
  },
  {
   "cell_type": "code",
   "execution_count": 4,
   "metadata": {},
   "outputs": [
    {
     "data": {
      "text/plain": [
       "Index(['given_name', 'surname', 'street_number', 'address_1', 'address_2',\n",
       "       'suburb', 'postcode', 'state', 'date_of_birth', 'soc_sec_id'],\n",
       "      dtype='object')"
      ]
     },
     "execution_count": 4,
     "metadata": {},
     "output_type": "execute_result"
    }
   ],
   "source": [
    "dfA.columns"
   ]
  },
  {
   "cell_type": "code",
   "execution_count": 5,
   "metadata": {},
   "outputs": [
    {
     "data": {
      "text/plain": [
       "0"
      ]
     },
     "execution_count": 5,
     "metadata": {},
     "output_type": "execute_result"
    }
   ],
   "source": [
    "a_csv = io.StringIO()\n",
    "dfA.to_csv(a_csv)\n",
    "a_csv.seek(0)"
   ]
  },
  {
   "cell_type": "markdown",
   "metadata": {},
   "source": [
    "## Hashing Schema Definition\n",
    "\n",
    "A hashing schema instructs clkhash how to treat each column for generating CLKs. A detailed description of the hashing schema can be found in the [api docs](http://clkhash.readthedocs.io/en/latest/schema.html). We will ignore the columns 'rec_id' and 'soc_sec_id' for CLK generation.\n",
    "\n"
   ]
  },
  {
   "cell_type": "code",
   "execution_count": 26,
   "metadata": {},
   "outputs": [],
   "source": [
    "schema = clkhash.randomnames.NameList.SCHEMA\n",
    "\n",
    "schema.fields = [\n",
    "    Ignore('rec_id'),\n",
    "    StringSpec('given_name', FieldHashingProperties(ngram=2, k=30)),\n",
    "    StringSpec('surname', FieldHashingProperties(ngram=2, k=30)),\n",
    "    IntegerSpec('street_number', FieldHashingProperties(ngram=1, positional=True, k=30, missing_value=MissingValueSpec(sentinel=''))),\n",
    "    StringSpec('address_1', FieldHashingProperties(ngram=2, k=30)),\n",
    "    StringSpec('address_2', FieldHashingProperties(ngram=2, k=30)),\n",
    "    StringSpec('suburb', FieldHashingProperties(ngram=2, k=30)),\n",
    "    IntegerSpec('postcode', FieldHashingProperties(ngram=1, positional=True, k=30)),\n",
    "    StringSpec('state', FieldHashingProperties(ngram=2, k=30)),\n",
    "    IntegerSpec('date_of_birth', FieldHashingProperties(ngram=1, positional=True, k=30, missing_value=MissingValueSpec(sentinel=''))),\n",
    "    Ignore('soc_sec_id')\n",
    "    ]"
   ]
  },
  {
   "cell_type": "markdown",
   "metadata": {},
   "source": [
    "## Hash the data\n",
    "\n",
    "We can now hash our PII data from the CSV file using our defined schema. We must provide two *secret keys* to this command - these keys have to be used by both parties hashing data. For this toy example we will use the keys _'key1'_ and _'key2'_, for real data, make sure that the keys contain enough entropy, as knowledge of these keys is sufficient to reconstruct the PII information from a CLK! Also, **do not share these keys with anyone, except the other participating party.**"
   ]
  },
  {
   "cell_type": "code",
   "execution_count": 27,
   "metadata": {},
   "outputs": [
    {
     "name": "stderr",
     "output_type": "stream",
     "text": [
      "generating CLKs: 100%|██████████| 5.00k/5.00k [00:02<00:00, 1.86kclk/s, mean=882, std=33.3]\n"
     ]
    }
   ],
   "source": [
    "from clkhash import clk\n",
    "a_csv.seek(0)\n",
    "hashed_data_a = clk.generate_clk_from_csv(a_csv, ('key1',), schema, validate=False)"
   ]
  },
  {
   "cell_type": "markdown",
   "metadata": {},
   "source": [
    "## Inspect the output\n",
    "\n",
    "clkhash has hashed the PII, creating a Cryptographic Longterm Key for each entity. The output of `generate_clk_from_csv` shows that the mean popcount is quite high (882 out of 1024) which can effect accuracy.\n",
    "\n",
    "There are two ways to control the popcount:\n",
    "- You can change the _'k'_ value in the hashConfig section of the schema. It controls the number of entries in the CLK for each n-gram\n",
    "- or you can modify the individual _'weight'_ values for the different fields. It allows to tune the contribution of a column to the CLK. This can be used to de-emphasise columns which are less suitable for linkage (e.g. information that changes frequently)."
   ]
  },
  {
   "cell_type": "markdown",
   "metadata": {},
   "source": [
    "First, we will change the value of *k* from 30 to 15."
   ]
  },
  {
   "cell_type": "code",
   "execution_count": 30,
   "metadata": {},
   "outputs": [
    {
     "name": "stderr",
     "output_type": "stream",
     "text": [
      "generating CLKs: 100%|██████████| 5.00k/5.00k [00:01<00:00, 2.69kclk/s, mean=645, std=43.8]\n"
     ]
    }
   ],
   "source": [
    "for field in schema.fields[1:-1]:\n",
    "    field.hashing_properties.k = 15\n",
    "a_csv.seek(0)\n",
    "hashed_data_a = clk.generate_clk_from_csv(a_csv, ('key1',), schema, validate=False)"
   ]
  },
  {
   "cell_type": "markdown",
   "metadata": {},
   "source": [
    "And now we will modify the weights to de-emphasise the contribution of the address related columns."
   ]
  },
  {
   "cell_type": "code",
   "execution_count": 31,
   "metadata": {},
   "outputs": [
    {
     "name": "stderr",
     "output_type": "stream",
     "text": [
      "generating CLKs: 100%|██████████| 5.00k/5.00k [00:01<00:00, 3.07kclk/s, mean=598, std=39.6]\n"
     ]
    }
   ],
   "source": [
    "schema.fields = [\n",
    "    Ignore('rec_id'),\n",
    "    StringSpec('given_name', FieldHashingProperties(ngram=2, k=20)),\n",
    "    StringSpec('surname', FieldHashingProperties(ngram=2, k=20)),\n",
    "    IntegerSpec('street_number', FieldHashingProperties(ngram=1, positional=True, k=10, missing_value=MissingValueSpec(sentinel=''))),\n",
    "    StringSpec('address_1', FieldHashingProperties(ngram=2, k=10)),\n",
    "    StringSpec('address_2', FieldHashingProperties(ngram=2, k=10)),\n",
    "    StringSpec('suburb', FieldHashingProperties(ngram=2, k=10)),\n",
    "    IntegerSpec('postcode', FieldHashingProperties(ngram=1, positional=True, k=10)),\n",
    "    StringSpec('state', FieldHashingProperties(ngram=2, k=10)),\n",
    "    IntegerSpec('date_of_birth', FieldHashingProperties(ngram=1, positional=True, k=20, missing_value=MissingValueSpec(sentinel=''))),\n",
    "    Ignore('soc_sec_id')\n",
    "    ]\n",
    "a_csv.seek(0)\n",
    "hashed_data_a = clk.generate_clk_from_csv(a_csv, ('key1', ), schema)"
   ]
  },
  {
   "cell_type": "markdown",
   "metadata": {},
   "source": [
    "Each CLK is serialized in a JSON friendly base64 format:"
   ]
  },
  {
   "cell_type": "code",
   "execution_count": 32,
   "metadata": {},
   "outputs": [
    {
     "data": {
      "text/plain": [
       "'ihux1nrjnvG8i54/Ta6j45oa0v73uW4ZS//b4O1juF7urblhUIvzwIVkxtm7sXcyX70OHwqzLFqeMPdU2U6P9Qls0eaY9Q7My35tD7/z98nVrt1GjM/3He2WW7HqWb3fo/207Xm8BEvq2924+/UYZH6ejO328gr8ka81f/1/3sk='"
      ]
     },
     "execution_count": 32,
     "metadata": {},
     "output_type": "execute_result"
    }
   ],
   "source": [
    "hashed_data_a[0]"
   ]
  },
  {
   "cell_type": "markdown",
   "metadata": {},
   "source": [
    "## Hash data set B\n",
    "\n",
    "Now we hash the second dataset using the same keys and same schema."
   ]
  },
  {
   "cell_type": "code",
   "execution_count": 34,
   "metadata": {},
   "outputs": [
    {
     "name": "stderr",
     "output_type": "stream",
     "text": [
      "generating CLKs: 100%|██████████| 5.00k/5.00k [00:01<00:00, 2.74kclk/s, mean=589, std=45.2]\n"
     ]
    }
   ],
   "source": [
    "b_csv = io.StringIO()\n",
    "dfB.to_csv(b_csv)\n",
    "b_csv.seek(0)\n",
    "hashed_data_b = clkhash.clk.generate_clk_from_csv(b_csv, ('key1',), schema, validate=False)"
   ]
  },
  {
   "cell_type": "code",
   "execution_count": 35,
   "metadata": {},
   "outputs": [
    {
     "data": {
      "text/plain": [
       "5000"
      ]
     },
     "execution_count": 35,
     "metadata": {},
     "output_type": "execute_result"
    }
   ],
   "source": [
    "len(hashed_data_b)"
   ]
  },
  {
   "cell_type": "markdown",
   "metadata": {},
   "source": [
    "## Find matches between the two sets of CLKs\n",
    "\n",
    "We have generated two sets of CLKs which represent entity information in a privacy-preserving way. The more similar two CLKs are, the more likely it is that they represent the same entity.\n",
    "\n",
    "For this task we will use [anonlink](https://github.com/n1analytics/anonlink), a Python (and optimised C++) implementation of anonymous linkage using CLKs."
   ]
  },
  {
   "cell_type": "code",
   "execution_count": 36,
   "metadata": {},
   "outputs": [
    {
     "name": "stdout",
     "output_type": "stream",
     "text": [
      "Collecting anonlink\n",
      "Collecting networkx<=2,>=1.11 (from anonlink)\n",
      "Requirement already satisfied, skipping upgrade: clkhash>=0.11 in /Users/hen271/.local/share/virtualenvs/jupyter_temp/lib/python3.6/site-packages (from anonlink) (0.12.1)\n",
      "Requirement already satisfied, skipping upgrade: bitarray>=0.8.1 in /Users/hen271/.local/share/virtualenvs/jupyter_temp/lib/python3.6/site-packages (from anonlink) (0.8.3)\n",
      "Requirement already satisfied, skipping upgrade: mypy-extensions>=0.3 in /Users/hen271/.local/share/virtualenvs/jupyter_temp/lib/python3.6/site-packages (from anonlink) (0.4.1)\n",
      "Requirement already satisfied, skipping upgrade: cffi>=1.7 in /Users/hen271/.local/share/virtualenvs/jupyter_temp/lib/python3.6/site-packages (from anonlink) (1.12.2)\n",
      "Requirement already satisfied, skipping upgrade: numpy>=1.14 in /Users/hen271/.local/share/virtualenvs/jupyter_temp/lib/python3.6/site-packages (from anonlink) (1.16.2)\n",
      "Requirement already satisfied, skipping upgrade: decorator>=4.1.0 in /Users/hen271/.local/share/virtualenvs/jupyter_temp/lib/python3.6/site-packages (from networkx<=2,>=1.11->anonlink) (4.4.0)\n",
      "Requirement already satisfied, skipping upgrade: requests>=2.20 in /Users/hen271/.local/share/virtualenvs/jupyter_temp/lib/python3.6/site-packages (from clkhash>=0.11->anonlink) (2.21.0)\n",
      "Requirement already satisfied, skipping upgrade: bashplotlib>=0.6.5 in /Users/hen271/.local/share/virtualenvs/jupyter_temp/lib/python3.6/site-packages (from clkhash>=0.11->anonlink) (0.6.5)\n",
      "Requirement already satisfied, skipping upgrade: jsonschema>=2.6 in /Users/hen271/.local/share/virtualenvs/jupyter_temp/lib/python3.6/site-packages (from clkhash>=0.11->anonlink) (3.0.1)\n",
      "Requirement already satisfied, skipping upgrade: click>=6.7 in /Users/hen271/.local/share/virtualenvs/jupyter_temp/lib/python3.6/site-packages (from clkhash>=0.11->anonlink) (7.0)\n",
      "Requirement already satisfied, skipping upgrade: future>=0.16 in /Users/hen271/.local/share/virtualenvs/jupyter_temp/lib/python3.6/site-packages (from clkhash>=0.11->anonlink) (0.17.1)\n",
      "Requirement already satisfied, skipping upgrade: tqdm>=4.24 in /Users/hen271/.local/share/virtualenvs/jupyter_temp/lib/python3.6/site-packages (from clkhash>=0.11->anonlink) (4.31.1)\n",
      "Requirement already satisfied, skipping upgrade: cryptography>=2.3 in /Users/hen271/.local/share/virtualenvs/jupyter_temp/lib/python3.6/site-packages (from clkhash>=0.11->anonlink) (2.6.1)\n",
      "Requirement already satisfied, skipping upgrade: pycparser in /Users/hen271/.local/share/virtualenvs/jupyter_temp/lib/python3.6/site-packages (from cffi>=1.7->anonlink) (2.19)\n",
      "Requirement already satisfied, skipping upgrade: certifi>=2017.4.17 in /Users/hen271/.local/share/virtualenvs/jupyter_temp/lib/python3.6/site-packages (from requests>=2.20->clkhash>=0.11->anonlink) (2019.3.9)\n",
      "Requirement already satisfied, skipping upgrade: idna<2.9,>=2.5 in /Users/hen271/.local/share/virtualenvs/jupyter_temp/lib/python3.6/site-packages (from requests>=2.20->clkhash>=0.11->anonlink) (2.8)\n",
      "Requirement already satisfied, skipping upgrade: urllib3<1.25,>=1.21.1 in /Users/hen271/.local/share/virtualenvs/jupyter_temp/lib/python3.6/site-packages (from requests>=2.20->clkhash>=0.11->anonlink) (1.24.1)\n",
      "Requirement already satisfied, skipping upgrade: chardet<3.1.0,>=3.0.2 in /Users/hen271/.local/share/virtualenvs/jupyter_temp/lib/python3.6/site-packages (from requests>=2.20->clkhash>=0.11->anonlink) (3.0.4)\n",
      "Requirement already satisfied, skipping upgrade: six>=1.11.0 in /Users/hen271/.local/share/virtualenvs/jupyter_temp/lib/python3.6/site-packages (from jsonschema>=2.6->clkhash>=0.11->anonlink) (1.12.0)\n",
      "Requirement already satisfied, skipping upgrade: pyrsistent>=0.14.0 in /Users/hen271/.local/share/virtualenvs/jupyter_temp/lib/python3.6/site-packages (from jsonschema>=2.6->clkhash>=0.11->anonlink) (0.14.11)\n",
      "Requirement already satisfied, skipping upgrade: setuptools in /Users/hen271/.local/share/virtualenvs/jupyter_temp/lib/python3.6/site-packages (from jsonschema>=2.6->clkhash>=0.11->anonlink) (40.8.0)\n",
      "Requirement already satisfied, skipping upgrade: attrs>=17.4.0 in /Users/hen271/.local/share/virtualenvs/jupyter_temp/lib/python3.6/site-packages (from jsonschema>=2.6->clkhash>=0.11->anonlink) (19.1.0)\n",
      "Requirement already satisfied, skipping upgrade: asn1crypto>=0.21.0 in /Users/hen271/.local/share/virtualenvs/jupyter_temp/lib/python3.6/site-packages (from cryptography>=2.3->clkhash>=0.11->anonlink) (0.24.0)\n",
      "Installing collected packages: networkx, anonlink\n",
      "Successfully installed anonlink-0.11.2 networkx-2.0\n"
     ]
    }
   ],
   "source": [
    "!pip install -U anonlink"
   ]
  },
  {
   "cell_type": "code",
   "execution_count": 43,
   "metadata": {},
   "outputs": [
    {
     "name": "stderr",
     "output_type": "stream",
     "text": [
      "/Users/hen271/.local/share/virtualenvs/jupyter_temp/lib/python3.6/site-packages/ipykernel_launcher.py:21: DeprecationWarning: anonlink.anonlink.entitymatch.calculate_mapping_greedy has been deprecated without replacement\n"
     ]
    },
    {
     "name": "stdout",
     "output_type": "stream",
     "text": [
      "found 4990 matches\n"
     ]
    }
   ],
   "source": [
    "from anonlink.entitymatch import calculate_mapping_greedy\n",
    "from bitarray import bitarray\n",
    "import base64\n",
    "\n",
    "def deserialize_bitarray(bytes_data):\n",
    "    ba = bitarray(endian='big')\n",
    "    data_as_bytes = base64.decodebytes(bytes_data.encode())\n",
    "    ba.frombytes(data_as_bytes)\n",
    "    return ba\n",
    "\n",
    "def deserialize_filters(filters):\n",
    "    res = []\n",
    "    for i, f in enumerate(filters):\n",
    "        ba = deserialize_bitarray(f)\n",
    "        res.append((ba, i, ba.count()))\n",
    "    return res\n",
    "\n",
    "clks_a = deserialize_filters(hashed_data_a)\n",
    "clks_b = deserialize_filters(hashed_data_b)\n",
    "\n",
    "mapping = calculate_mapping_greedy(clks_a, clks_b, threshold=0.9, k=5000)\n",
    "print('found {} matches'.format(len(mapping)))"
   ]
  },
  {
   "cell_type": "markdown",
   "metadata": {},
   "source": [
    "Let's investigate some of those matches and the overall matching quality"
   ]
  },
  {
   "cell_type": "code",
   "execution_count": 44,
   "metadata": {},
   "outputs": [
    {
     "name": "stdout",
     "output_type": "stream",
     "text": [
      "idx_a, idx_b, rec_id_a, rec_id_b\n",
      "--------------------------------\n",
      "1, 1450, rec-1070-org, rec-1070-dup-0\n",
      "2, 2751, rec-1016-org, rec-1016-dup-0\n",
      "3, 4657, rec-4405-org, rec-4405-dup-0\n",
      "4, 4120, rec-1288-org, rec-1288-dup-0\n",
      "5, 3307, rec-3585-org, rec-3585-dup-0\n",
      "6, 2306, rec-298-org, rec-298-dup-0\n",
      "7, 3945, rec-1985-org, rec-1985-dup-0\n",
      "8, 993, rec-2404-org, rec-2404-dup-0\n",
      "9, 4613, rec-1473-org, rec-1473-dup-0\n",
      "10, 3630, rec-453-org, rec-453-dup-0\n",
      "--------------------------------\n",
      "Precision: 0.9889779559118237, Recall: 0.987, Accuracy: 0.9762611275964391\n"
     ]
    }
   ],
   "source": [
    "a_csv.seek(0)\n",
    "b_csv.seek(0)\n",
    "a_raw = a_csv.readlines()\n",
    "b_raw = b_csv.readlines()\n",
    "\n",
    "num_entities = len(b_raw) - 1\n",
    "\n",
    "print('idx_a, idx_b, rec_id_a, rec_id_b')\n",
    "print('--------------------------------')\n",
    "for a_i in range(10):\n",
    "    if a_i in mapping:\n",
    "        a_data = a_raw[a_i + 1].split(',')\n",
    "        b_data = b_raw[mapping[a_i] + 1].split(',')\n",
    "        print('{}, {}, {}, {}'.format(a_i+1, mapping[a_i]+1, a_data[0], b_data[0]))\n",
    "\n",
    "TP = 0; FP = 0; TN = 0; FN = 0\n",
    "for a_i in range(num_entities):\n",
    "    if a_i in mapping:\n",
    "        if a_raw[a_i + 1].split(',')[0].split('-')[1] == b_raw[mapping[a_i] + 1].split(',')[0].split('-')[1]:\n",
    "            TP += 1\n",
    "        else:\n",
    "            FP += 1\n",
    "            FN += 1 # as we only report one mapping for each element in PII_a, then a wrong mapping is not only a false positive, but also a false negative, as we won't report the true mapping.\n",
    "    else:\n",
    "        FN += 1 # every element in PII_a has a partner in PII_b\n",
    "\n",
    "print('--------------------------------')\n",
    "print('Precision: {}, Recall: {}, Accuracy: {}'.format(TP/(TP+FP), TP/(TP+FN), (TP+TN)/(TP+TN+FP+FN)))"
   ]
  },
  {
   "cell_type": "markdown",
   "metadata": {},
   "source": [
    "Precision tells us about how many of the found matches are actual matches. The score of 1.0 means that we did perfectly in this respect, however, recall, the measure of how many of the actual matches were correctly identified, is quite low with only 72.5%.\n",
    "\n",
    "Let's go back to the mapping calculation (`calculate_mapping_greedy`) an reduce the value for `threshold` to `0.8`.\n",
    "\n",
    "Great, for this threshold value we get a precision of 100% and a recall of 95.4%. \n",
    "\n",
    "The explanation is that when the information about an entity differs slightly in the two datasets (e.g. spelling errors, abbrevations, missing values, ...) then the corresponding CLKs will differ in some number of bits as well. For the datasets in this tutorial the perturbations are such that only 72.5% of the derived CLK pairs overlap more than 90%. Whereas almost all matching pairs overlap more than 80%.\n",
    "\n",
    "If we keep reducing the threshold value, then we will start to observe mistakes in the found matches -- the precision decreases. But at the same time the recall value will keep increasing for a while, as a lower threshold allows for more of the actual matches to be found, e.g.: for threshold 0.72, we get precision: 0.997 and recall: 0.992. However, reducing the threshold further will eventually lead to a decrease in both precision and recall: for threshold 0.65 precision is 0.989 and recall is 0.987. Thus it is important to choose an appropriate threshold for the amount of perturbations present in the data.\n",
    "\n",
    "This concludes the tutorial. Feel free to go back to the CLK generation and experiment on how different setting will affect the matching quality."
   ]
  },
  {
   "cell_type": "code",
   "execution_count": null,
   "metadata": {},
   "outputs": [],
   "source": []
  }
 ],
 "metadata": {
  "kernelspec": {
   "display_name": "Python 3",
   "language": "python",
   "name": "python3"
  },
  "language_info": {
   "codemirror_mode": {
    "name": "ipython",
    "version": 3
   },
   "file_extension": ".py",
   "mimetype": "text/x-python",
   "name": "python",
   "nbconvert_exporter": "python",
   "pygments_lexer": "ipython3",
   "version": "3.6.3"
  }
 },
 "nbformat": 4,
 "nbformat_minor": 2
}
