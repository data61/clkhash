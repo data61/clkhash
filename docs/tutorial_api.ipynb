{
 "cells": [
  {
   "cell_type": "markdown",
   "metadata": {},
   "source": [
    "# Tutorial for Python API\n",
    "\n",
    "For this tutorial we are going to process a data set for private linkage with clkhash using the Python API. Note you can also use the command line tool.\n",
    "\n",
    "The Python package `recordlinkage` has a [tutorial](http://recordlinkage.readthedocs.io/en/latest/notebooks/link_two_dataframes.html) linking data sets in the clear, we will try duplicate that in a privacy preserving setting.\n",
    "\n",
    "First install clkhash, recordlinkage and a few data science tools (pandas and numpy):\n",
    "\n",
    "    $ pip install -U clkhash anonlink recordlinkage numpy pandas"
   ]
  },
  {
   "cell_type": "code",
   "execution_count": 1,
   "metadata": {},
   "outputs": [],
   "source": [
    "import io\n",
    "import numpy as np\n",
    "import pandas as pd"
   ]
  },
  {
   "cell_type": "code",
   "execution_count": 2,
   "metadata": {},
   "outputs": [],
   "source": [
    "import clkhash\n",
    "from clkhash import clk\n",
    "from clkhash.field_formats import *\n",
    "from clkhash.schema import Schema"
   ]
  },
  {
   "cell_type": "code",
   "execution_count": 3,
   "metadata": {},
   "outputs": [],
   "source": [
    "import recordlinkage\n",
    "from recordlinkage.datasets import load_febrl4"
   ]
  },
  {
   "cell_type": "markdown",
   "metadata": {},
   "source": [
    "## Data Exploration\n",
    "\n",
    "First we have a look at the dataset."
   ]
  },
  {
   "cell_type": "code",
   "execution_count": 4,
   "metadata": {},
   "outputs": [
    {
     "data": {
      "text/html": [
       "<div>\n",
       "<style scoped>\n",
       "    .dataframe tbody tr th:only-of-type {\n",
       "        vertical-align: middle;\n",
       "    }\n",
       "\n",
       "    .dataframe tbody tr th {\n",
       "        vertical-align: top;\n",
       "    }\n",
       "\n",
       "    .dataframe thead th {\n",
       "        text-align: right;\n",
       "    }\n",
       "</style>\n",
       "<table border=\"1\" class=\"dataframe\">\n",
       "  <thead>\n",
       "    <tr style=\"text-align: right;\">\n",
       "      <th></th>\n",
       "      <th>given_name</th>\n",
       "      <th>surname</th>\n",
       "      <th>street_number</th>\n",
       "      <th>address_1</th>\n",
       "      <th>address_2</th>\n",
       "      <th>suburb</th>\n",
       "      <th>postcode</th>\n",
       "      <th>state</th>\n",
       "      <th>date_of_birth</th>\n",
       "      <th>soc_sec_id</th>\n",
       "    </tr>\n",
       "    <tr>\n",
       "      <th>rec_id</th>\n",
       "      <th></th>\n",
       "      <th></th>\n",
       "      <th></th>\n",
       "      <th></th>\n",
       "      <th></th>\n",
       "      <th></th>\n",
       "      <th></th>\n",
       "      <th></th>\n",
       "      <th></th>\n",
       "      <th></th>\n",
       "    </tr>\n",
       "  </thead>\n",
       "  <tbody>\n",
       "    <tr>\n",
       "      <th>rec-1070-org</th>\n",
       "      <td>michaela</td>\n",
       "      <td>neumann</td>\n",
       "      <td>8</td>\n",
       "      <td>stanley street</td>\n",
       "      <td>miami</td>\n",
       "      <td>winston hills</td>\n",
       "      <td>4223</td>\n",
       "      <td>nsw</td>\n",
       "      <td>19151111</td>\n",
       "      <td>5304218</td>\n",
       "    </tr>\n",
       "    <tr>\n",
       "      <th>rec-1016-org</th>\n",
       "      <td>courtney</td>\n",
       "      <td>painter</td>\n",
       "      <td>12</td>\n",
       "      <td>pinkerton circuit</td>\n",
       "      <td>bega flats</td>\n",
       "      <td>richlands</td>\n",
       "      <td>4560</td>\n",
       "      <td>vic</td>\n",
       "      <td>19161214</td>\n",
       "      <td>4066625</td>\n",
       "    </tr>\n",
       "    <tr>\n",
       "      <th>rec-4405-org</th>\n",
       "      <td>charles</td>\n",
       "      <td>green</td>\n",
       "      <td>38</td>\n",
       "      <td>salkauskas crescent</td>\n",
       "      <td>kela</td>\n",
       "      <td>dapto</td>\n",
       "      <td>4566</td>\n",
       "      <td>nsw</td>\n",
       "      <td>19480930</td>\n",
       "      <td>4365168</td>\n",
       "    </tr>\n",
       "    <tr>\n",
       "      <th>rec-1288-org</th>\n",
       "      <td>vanessa</td>\n",
       "      <td>parr</td>\n",
       "      <td>905</td>\n",
       "      <td>macquoid place</td>\n",
       "      <td>broadbridge manor</td>\n",
       "      <td>south grafton</td>\n",
       "      <td>2135</td>\n",
       "      <td>sa</td>\n",
       "      <td>19951119</td>\n",
       "      <td>9239102</td>\n",
       "    </tr>\n",
       "    <tr>\n",
       "      <th>rec-3585-org</th>\n",
       "      <td>mikayla</td>\n",
       "      <td>malloney</td>\n",
       "      <td>37</td>\n",
       "      <td>randwick road</td>\n",
       "      <td>avalind</td>\n",
       "      <td>hoppers crossing</td>\n",
       "      <td>4552</td>\n",
       "      <td>vic</td>\n",
       "      <td>19860208</td>\n",
       "      <td>7207688</td>\n",
       "    </tr>\n",
       "  </tbody>\n",
       "</table>\n",
       "</div>"
      ],
      "text/plain": [
       "             given_name   surname street_number            address_1  \\\n",
       "rec_id                                                                 \n",
       "rec-1070-org   michaela   neumann             8       stanley street   \n",
       "rec-1016-org   courtney   painter            12    pinkerton circuit   \n",
       "rec-4405-org    charles     green            38  salkauskas crescent   \n",
       "rec-1288-org    vanessa      parr           905       macquoid place   \n",
       "rec-3585-org    mikayla  malloney            37        randwick road   \n",
       "\n",
       "                      address_2            suburb postcode state  \\\n",
       "rec_id                                                             \n",
       "rec-1070-org              miami     winston hills     4223   nsw   \n",
       "rec-1016-org         bega flats         richlands     4560   vic   \n",
       "rec-4405-org               kela             dapto     4566   nsw   \n",
       "rec-1288-org  broadbridge manor     south grafton     2135    sa   \n",
       "rec-3585-org            avalind  hoppers crossing     4552   vic   \n",
       "\n",
       "             date_of_birth soc_sec_id  \n",
       "rec_id                                 \n",
       "rec-1070-org      19151111    5304218  \n",
       "rec-1016-org      19161214    4066625  \n",
       "rec-4405-org      19480930    4365168  \n",
       "rec-1288-org      19951119    9239102  \n",
       "rec-3585-org      19860208    7207688  "
      ]
     },
     "execution_count": 4,
     "metadata": {},
     "output_type": "execute_result"
    }
   ],
   "source": [
    "dfA, dfB = load_febrl4()\n",
    "\n",
    "dfA.head()"
   ]
  },
  {
   "cell_type": "markdown",
   "metadata": {},
   "source": [
    "For this linkage we will **not** use the social security id column."
   ]
  },
  {
   "cell_type": "code",
   "execution_count": 5,
   "metadata": {},
   "outputs": [
    {
     "data": {
      "text/plain": [
       "Index(['given_name', 'surname', 'street_number', 'address_1', 'address_2',\n",
       "       'suburb', 'postcode', 'state', 'date_of_birth', 'soc_sec_id'],\n",
       "      dtype='object')"
      ]
     },
     "execution_count": 5,
     "metadata": {},
     "output_type": "execute_result"
    }
   ],
   "source": [
    "dfA.columns"
   ]
  },
  {
   "cell_type": "code",
   "execution_count": 6,
   "metadata": {},
   "outputs": [],
   "source": [
    "a_csv = io.StringIO()\n",
    "dfA.to_csv(a_csv)"
   ]
  },
  {
   "cell_type": "markdown",
   "metadata": {},
   "source": [
    "## Hashing Schema Definition\n",
    "\n",
    "A hashing schema instructs clkhash how to treat each column for generating CLKs. A detailed description of the hashing schema can be found in the [api docs](http://clkhash.readthedocs.io/en/latest/schema.html). We will ignore the columns 'rec_id' and 'soc_sec_id' for CLK generation.\n",
    "\n"
   ]
  },
  {
   "cell_type": "code",
   "execution_count": 7,
   "metadata": {},
   "outputs": [],
   "source": [
    "fields = [\n",
    "    Ignore('rec_id'),\n",
    "    StringSpec('given_name', FieldHashingProperties(ngram=2, num_bits=300)),\n",
    "    StringSpec('surname', FieldHashingProperties(ngram=2, num_bits=300)),\n",
    "    IntegerSpec('street_number', FieldHashingProperties(ngram=1, positional=True, num_bits=300, missing_value=MissingValueSpec(sentinel=''))),\n",
    "    StringSpec('address_1', FieldHashingProperties(ngram=2, num_bits=300)),\n",
    "    StringSpec('address_2', FieldHashingProperties(ngram=2, num_bits=300)),\n",
    "    StringSpec('suburb', FieldHashingProperties(ngram=2, num_bits=300)),\n",
    "    IntegerSpec('postcode', FieldHashingProperties(ngram=1, positional=True, num_bits=300)),\n",
    "    StringSpec('state', FieldHashingProperties(ngram=2, num_bits=300)),\n",
    "    IntegerSpec('date_of_birth', FieldHashingProperties(ngram=1, positional=True, num_bits=300, missing_value=MissingValueSpec(sentinel=''))),\n",
    "    Ignore('soc_sec_id')\n",
    "]\n",
    "\n",
    "schema = Schema(fields, 1024, xor_folds=0)"
   ]
  },
  {
   "cell_type": "markdown",
   "metadata": {},
   "source": [
    "## Hash the data\n",
    "\n",
    "We can now hash our PII data from the CSV file using our defined schema. We must provide a list of *secret keys* to this command - these keys have to be used by both parties hashing data. For this toy example we will use the keys _'key1'_ and _'key2'_, for real data, make sure that the keys contain enough entropy, as knowledge of these keys is sufficient to reconstruct the PII information from a CLK! \n",
    "\n",
    "Also, **do not share these keys with anyone, except the other participating party.**"
   ]
  },
  {
   "cell_type": "code",
   "execution_count": 8,
   "metadata": {},
   "outputs": [],
   "source": [
    "secret_keys = ('key1', 'key2')"
   ]
  },
  {
   "cell_type": "code",
   "execution_count": 9,
   "metadata": {},
   "outputs": [
    {
     "name": "stderr",
     "output_type": "stream",
     "text": [
      "generating CLKs: 100%|██████████| 5.00k/5.00k [00:01<00:00, 1.30kclk/s, mean=950, std=9.79]\n"
     ]
    }
   ],
   "source": [
    "a_csv.seek(0)\n",
    "hashed_data_a = clk.generate_clk_from_csv(a_csv, secret_keys, schema, validate=False)"
   ]
  },
  {
   "cell_type": "markdown",
   "metadata": {},
   "source": [
    "## Inspect the output\n",
    "\n",
    "clkhash has hashed the PII, creating a Cryptographic Longterm Key for each entity. The output of `generate_clk_from_csv` shows that the mean popcount is quite high (950 out of 1024) which can effect accuracy.\n",
    "\n",
    "There are two ways to control the popcount:\n",
    "- You can change the `xor_folds` value in the schema.\n",
    "- or you can modify the individual `num_bits` values for the different fields. It allows to tune the contribution of a column to the CLK. This can be used to de-emphasise columns which are less suitable for linkage (e.g. information that changes frequently)."
   ]
  },
  {
   "cell_type": "markdown",
   "metadata": {},
   "source": [
    "First, we will reduce the value of `num_bits` for each field:"
   ]
  },
  {
   "cell_type": "code",
   "execution_count": 10,
   "metadata": {},
   "outputs": [
    {
     "name": "stderr",
     "output_type": "stream",
     "text": [
      "generating CLKs: 100%|██████████| 5.00k/5.00k [00:00<00:00, 8.75kclk/s, mean=748, std=15]  \n"
     ]
    }
   ],
   "source": [
    "for field in schema.fields[1:-1]:\n",
    "    field.hashing_properties.num_bits = 150\n",
    "    \n",
    "a_csv.seek(0)\n",
    "hashed_data_a = clk.generate_clk_from_csv(a_csv, secret_keys, schema, validate=False)"
   ]
  },
  {
   "cell_type": "markdown",
   "metadata": {},
   "source": [
    "Ok that is better. Now we will change the value of *xor_folds* from 0 to 1. This will ensure that about half the bits are set."
   ]
  },
  {
   "cell_type": "code",
   "execution_count": 11,
   "metadata": {},
   "outputs": [],
   "source": [
    "schema = Schema(fields, 1024, xor_folds=1)"
   ]
  },
  {
   "cell_type": "code",
   "execution_count": 12,
   "metadata": {},
   "outputs": [
    {
     "name": "stderr",
     "output_type": "stream",
     "text": [
      "generating CLKs: 100%|██████████| 5.00k/5.00k [00:00<00:00, 8.40kclk/s, mean=514, std=16.4]\n"
     ]
    }
   ],
   "source": [
    "a_csv.seek(0)\n",
    "hashed_data_a = clk.generate_clk_from_csv(a_csv, secret_keys, schema, validate=False)"
   ]
  },
  {
   "cell_type": "markdown",
   "metadata": {},
   "source": [
    "And now we will modify the weights to de-emphasise the contribution of the address related columns."
   ]
  },
  {
   "cell_type": "code",
   "execution_count": 13,
   "metadata": {},
   "outputs": [
    {
     "name": "stderr",
     "output_type": "stream",
     "text": [
      "generating CLKs: 100%|██████████| 5.00k/5.00k [00:00<00:00, 7.17kclk/s, mean=515, std=16.5]\n"
     ]
    }
   ],
   "source": [
    "fields = [\n",
    "    Ignore('rec_id'),\n",
    "    StringSpec('given_name', FieldHashingProperties(ngram=2, num_bits=300)),\n",
    "    StringSpec('surname', FieldHashingProperties(ngram=2, num_bits=300)),\n",
    "    IntegerSpec('street_number', FieldHashingProperties(ngram=1, positional=True, num_bits=100, missing_value=MissingValueSpec(sentinel=''))),\n",
    "    StringSpec('address_1', FieldHashingProperties(ngram=2, num_bits=100)),\n",
    "    StringSpec('address_2', FieldHashingProperties(ngram=2, num_bits=100)),\n",
    "    StringSpec('suburb', FieldHashingProperties(ngram=2, num_bits=100)),\n",
    "    IntegerSpec('postcode', FieldHashingProperties(ngram=1, positional=True, num_bits=100)),\n",
    "    StringSpec('state', FieldHashingProperties(ngram=2, num_bits=100)),\n",
    "    IntegerSpec('date_of_birth', FieldHashingProperties(ngram=1, positional=True, num_bits=300, missing_value=MissingValueSpec(sentinel=''))),\n",
    "    Ignore('soc_sec_id')\n",
    "]\n",
    "\n",
    "schema = Schema(fields, 1024, xor_folds=1)\n",
    "a_csv.seek(0)\n",
    "hashed_data_a = clk.generate_clk_from_csv(a_csv, secret_keys, schema)"
   ]
  },
  {
   "cell_type": "markdown",
   "metadata": {},
   "source": [
    "Each CLK is serialized in a JSON friendly base64 format:"
   ]
  },
  {
   "cell_type": "code",
   "execution_count": 14,
   "metadata": {},
   "outputs": [
    {
     "data": {
      "text/plain": [
       "'+Wi7QiVZDxOB7uZHGQbbE6D9I6Etwg8s/yP79PTe6Iw00JbTiqdcN6k8YHon+KFRmLpX5MkMvh80kd5MHPTIxM482M4lXWqaKbUkR+QfD7CNXLSR9TSgPo1uIj0Q74yxucKYjqIwn1F/b8y9Hk2izWxz0F27SHdRYw4F8BcD/bc='"
      ]
     },
     "execution_count": 14,
     "metadata": {},
     "output_type": "execute_result"
    }
   ],
   "source": [
    "hashed_data_a[0]"
   ]
  },
  {
   "cell_type": "markdown",
   "metadata": {},
   "source": [
    "## Hash data set B\n",
    "\n",
    "Now we hash the second dataset using the same keys and same schema."
   ]
  },
  {
   "cell_type": "code",
   "execution_count": 15,
   "metadata": {},
   "outputs": [
    {
     "name": "stderr",
     "output_type": "stream",
     "text": [
      "generating CLKs: 100%|██████████| 5.00k/5.00k [00:00<00:00, 2.77kclk/s, mean=515, std=16.5]\n"
     ]
    }
   ],
   "source": [
    "b_csv = io.StringIO()\n",
    "dfB.to_csv(b_csv)\n",
    "b_csv.seek(0)\n",
    "hashed_data_b = clkhash.clk.generate_clk_from_csv(b_csv, secret_keys, schema)"
   ]
  },
  {
   "cell_type": "code",
   "execution_count": 16,
   "metadata": {},
   "outputs": [
    {
     "data": {
      "text/plain": [
       "5000"
      ]
     },
     "execution_count": 16,
     "metadata": {},
     "output_type": "execute_result"
    }
   ],
   "source": [
    "len(hashed_data_b)"
   ]
  },
  {
   "cell_type": "markdown",
   "metadata": {},
   "source": [
    "## Find matches between the two sets of CLKs\n",
    "\n",
    "We have generated two sets of CLKs which represent entity information in a privacy-preserving way. The more similar two CLKs are, the more likely it is that they represent the same entity.\n",
    "\n",
    "For this task we will use [anonlink](https://github.com/data61/anonlink), a Python (and optimised C++) implementation of anonymous linkage using CLKs. \n",
    "\n",
    "As the CLKs are in a string format we first deserialize to use the bitarray type:"
   ]
  },
  {
   "cell_type": "code",
   "execution_count": 17,
   "metadata": {},
   "outputs": [],
   "source": [
    "from bitarray import bitarray\n",
    "import base64\n",
    "\n",
    "def deserialize_bitarray(bytes_data):\n",
    "    ba = bitarray(endian='big')\n",
    "    data_as_bytes = base64.decodebytes(bytes_data.encode())\n",
    "    ba.frombytes(data_as_bytes)\n",
    "    return ba\n",
    "\n",
    "def deserialize_filters(filters):\n",
    "    res = []\n",
    "    for i, f in enumerate(filters):\n",
    "        ba = deserialize_bitarray(f)\n",
    "        res.append(ba)\n",
    "    return res\n",
    "\n",
    "clks_a = deserialize_filters(hashed_data_a)\n",
    "clks_b = deserialize_filters(hashed_data_b)"
   ]
  },
  {
   "cell_type": "markdown",
   "metadata": {},
   "source": [
    "Using `anonlink` we find the candidate pairs - which is all possible pairs above the given `threshold`. Then we solve for the most likely mapping."
   ]
  },
  {
   "cell_type": "code",
   "execution_count": 18,
   "metadata": {},
   "outputs": [],
   "source": [
    "import anonlink\n",
    "\n",
    "def mapping_from_clks(clks_a, clks_b, threshold):\n",
    "    results_candidate_pairs = anonlink.candidate_generation.find_candidate_pairs(\n",
    "            [clks_a, clks_b],\n",
    "            anonlink.similarities.dice_coefficient,\n",
    "            threshold\n",
    "    )\n",
    "    solution = anonlink.solving.greedy_solve(results_candidate_pairs)\n",
    "    print('Found {} matches'.format(len(solution)))\n",
    "    return {a:b for ((_, a),(_, b)) in solution}"
   ]
  },
  {
   "cell_type": "code",
   "execution_count": 19,
   "metadata": {},
   "outputs": [
    {
     "name": "stdout",
     "output_type": "stream",
     "text": [
      "Found 3490 matches\n"
     ]
    }
   ],
   "source": [
    "mapping = mapping_from_clks(clks_a, clks_b, 0.8)"
   ]
  },
  {
   "cell_type": "markdown",
   "metadata": {},
   "source": [
    "Let's investigate some of those matches and the overall matching quality"
   ]
  },
  {
   "cell_type": "code",
   "execution_count": 20,
   "metadata": {},
   "outputs": [],
   "source": [
    "a_csv.seek(0)\n",
    "b_csv.seek(0)\n",
    "a_raw = a_csv.readlines()\n",
    "b_raw = b_csv.readlines()\n",
    "\n",
    "num_entities = len(b_raw) - 1\n",
    "  \n",
    "def describe_accuracy(mapping, show_examples=False):\n",
    "    if show_examples:\n",
    "        print('idx_a, idx_b,     rec_id_a,       rec_id_b')\n",
    "        print('---------------------------------------------')\n",
    "        for a_i in range(10):\n",
    "            if a_i in mapping:\n",
    "                a_data = a_raw[a_i + 1].split(',')\n",
    "                b_data = b_raw[mapping[a_i] + 1].split(',')\n",
    "                print('{:3}, {:6}, {:>15}, {:>15}'.format(a_i+1, mapping[a_i]+1, a_data[0], b_data[0]))\n",
    "        print('---------------------------------------------')\n",
    "    \n",
    "    TP = 0; FP = 0; TN = 0; FN = 0\n",
    "    for a_i in range(num_entities):\n",
    "        if a_i in mapping:\n",
    "            if a_raw[a_i + 1].split(',')[0].split('-')[1] == b_raw[mapping[a_i] + 1].split(',')[0].split('-')[1]:\n",
    "                TP += 1\n",
    "            else:\n",
    "                FP += 1\n",
    "                # as we only report one mapping for each element in PII_a, \n",
    "                # then a wrong mapping is not only a false positive, but \n",
    "                # also a false negative, as we won't report the true mapping.\n",
    "                FN += 1 \n",
    "        else:\n",
    "            FN += 1 # every element in PII_a has a partner in PII_b\n",
    "\n",
    "\n",
    "    print('Precision: {:.2f}, Recall: {:.2f}, Accuracy: {:.2f}'.format(\n",
    "        TP/(TP+FP), \n",
    "        TP/(TP+FN), \n",
    "        (TP+TN)/(TP+TN+FP+FN)))"
   ]
  },
  {
   "cell_type": "code",
   "execution_count": 21,
   "metadata": {},
   "outputs": [
    {
     "name": "stdout",
     "output_type": "stream",
     "text": [
      "idx_a, idx_b,     rec_id_a,       rec_id_b\n",
      "---------------------------------------------\n",
      "  2,   2751,    rec-1016-org,  rec-1016-dup-0\n",
      "  3,   4657,    rec-4405-org,  rec-4405-dup-0\n",
      "  4,   4120,    rec-1288-org,  rec-1288-dup-0\n",
      "  5,   3307,    rec-3585-org,  rec-3585-dup-0\n",
      "  6,   2306,     rec-298-org,   rec-298-dup-0\n",
      "  7,   3945,    rec-1985-org,  rec-1985-dup-0\n",
      "  8,    993,    rec-2404-org,  rec-2404-dup-0\n",
      "  9,   4613,    rec-1473-org,  rec-1473-dup-0\n",
      " 10,   3630,     rec-453-org,   rec-453-dup-0\n",
      "---------------------------------------------\n",
      "Precision: 1.00, Recall: 0.70, Accuracy: 0.70\n"
     ]
    }
   ],
   "source": [
    "describe_accuracy(mapping, show_examples=True)"
   ]
  },
  {
   "cell_type": "markdown",
   "metadata": {},
   "source": [
    "Precision tells us about how many of the found matches are actual matches. The score of 1.0 means that we did perfectly in this respect, however, recall, the measure of how many of the actual matches were correctly identified, is quite low with only 70%.\n",
    "\n",
    "Let's go back to the mapping calculation (`calculate_mapping_greedy`) an reduce the value for `threshold` to `0.7`."
   ]
  },
  {
   "cell_type": "code",
   "execution_count": 22,
   "metadata": {},
   "outputs": [
    {
     "name": "stdout",
     "output_type": "stream",
     "text": [
      "Found 4387 matches\n",
      "Precision: 1.00, Recall: 0.88, Accuracy: 0.88\n"
     ]
    }
   ],
   "source": [
    "mapping = mapping_from_clks(clks_a, clks_b, 0.7)\n",
    "describe_accuracy(mapping)"
   ]
  },
  {
   "cell_type": "markdown",
   "metadata": {},
   "source": [
    "Great, for this threshold value we get a precision of 100% and a recall of 88%. \n",
    "\n",
    "The explanation is that when the information about an entity differs slightly in the two datasets (e.g. spelling errors, abbrevations, missing values, ...) then the corresponding CLKs will differ in some number of bits as well. It is important to choose an appropriate threshold for the amount of perturbations present in the data.\n",
    "\n",
    "This concludes the tutorial. Feel free to go back to the CLK generation and experiment on how different setting will affect the matching quality."
   ]
  },
  {
   "cell_type": "code",
   "execution_count": 23,
   "metadata": {},
   "outputs": [
    {
     "name": "stdout",
     "output_type": "stream",
     "text": [
      "Found 4889 matches\n",
      "Precision: 1.00, Recall: 0.98, Accuracy: 0.98\n"
     ]
    }
   ],
   "source": [
    "mapping = mapping_from_clks(clks_a, clks_b, 0.6)\n",
    "describe_accuracy(mapping)"
   ]
  }
 ],
 "metadata": {
  "kernelspec": {
   "display_name": "Python 3",
   "language": "python",
   "name": "python3"
  },
  "language_info": {
   "codemirror_mode": {
    "name": "ipython",
    "version": 3
   },
   "file_extension": ".py",
   "mimetype": "text/x-python",
   "name": "python",
   "nbconvert_exporter": "python",
   "pygments_lexer": "ipython3",
   "version": "3.7.3"
  },
  "pycharm": {
   "stem_cell": {
    "cell_type": "raw",
    "metadata": {
     "collapsed": false
    },
    "source": []
   }
  }
 },
 "nbformat": 4,
 "nbformat_minor": 2
}
